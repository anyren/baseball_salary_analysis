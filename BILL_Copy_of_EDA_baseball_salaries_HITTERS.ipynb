{
 "cells": [
  {
   "cell_type": "markdown",
   "metadata": {
    "id": "5GRNIQY9CF2t"
   },
   "source": [
    "# **LINEAR REGRESSION BLOCK START**"
   ]
  },
  {
   "cell_type": "code",
   "execution_count": 1,
   "metadata": {
    "id": "qj4WNzSo5BS-"
   },
   "outputs": [],
   "source": [
    "# Import dependencies\n",
    "\n",
    "import matplotlib.pyplot as plt\n",
    "import numpy as np\n",
    "import pandas as pd\n",
    "import seaborn as sns\n",
    "\n",
    "from sklearn.ensemble import RandomForestClassifier\n",
    "from sklearn.feature_selection import SelectFromModel\n",
    "from sklearn.linear_model import LinearRegression, Ridge, Lasso, ElasticNet\n",
    "from sklearn.metrics import confusion_matrix, classification_report, mean_squared_error, r2_score\n",
    "from sklearn.model_selection import train_test_split\n",
    "from sklearn.preprocessing import StandardScaler\n",
    "\n",
    "pd.set_option('display.max_rows', 500)\n",
    "pd.set_option('display.max_columns', 500)\n",
    "pd.set_option('display.width', 1000)"
   ]
  },
  {
   "cell_type": "code",
   "execution_count": 2,
   "metadata": {},
   "outputs": [],
   "source": [
    "import warnings\n",
    "warnings.filterwarnings('ignore')"
   ]
  },
  {
   "cell_type": "code",
   "execution_count": 3,
   "metadata": {
    "id": "ntbPKBeR62LH"
   },
   "outputs": [],
   "source": [
    "def load_dataset():\n",
    "    \"\"\" Reads dataset csv and returns pandas dataframe \"\"\"\n",
    "    \n",
    "    filepath = \"Hitters_Adjusted_Salary.csv\"\n",
    "\n",
    "    df = pd.read_csv(filepath, encoding=\"utf-8\", low_memory=False)\n",
    "    \n",
    "    return df"
   ]
  },
  {
   "cell_type": "code",
   "execution_count": 4,
   "metadata": {
    "id": "Ek0pVe525VXx"
   },
   "outputs": [],
   "source": [
    "def clean_dataset(a_df):\n",
    "    \"\"\" Returns deduped, na-dropped, index-reset dataframe \"\"\"    \n",
    "    \n",
    "    a_df = a_df.drop_duplicates()   \n",
    "        \n",
    "    a_df = a_df.dropna()\n",
    "    \n",
    "    a_df = a_df.drop([\"Unnamed: 0\", \"yearID\", \"playerID\", \"teamID\", \"lgID\", \"salary\", \"PO\", \"A\", \"E\", \"DP\"], axis=1)\n",
    " \n",
    "    a_df = a_df.reset_index(drop=True)\n",
    "    \n",
    "    return a_df  "
   ]
  },
  {
   "cell_type": "code",
   "execution_count": 5,
   "metadata": {
    "id": "8FmJFtEM6CEt"
   },
   "outputs": [],
   "source": [
    "def rename_columns(a_df):\n",
    "    \"\"\" Returns dataframe with meaningful column names \"\"\"    \n",
    "    \n",
    "    abbr_dict = {\"GS\": \"games_started\", \"InnOuts\": \"inning_outs\", \"G\": \"games_played\", \"AB\": \"at_bats\",\\\n",
    "                \"R\": \"runs\", \"H\": \"hits\", \"2B\": \"doubles\", \"3B\": \"triples\", \"HR\": \"home_runs\",\\\n",
    "                \"RBI\": \"runs_batted_in\", \"SB\": \"stolen_bases\", \"CS\": \"caught_stealing\", \"BB\": \"base_on_balls\",\\\n",
    "                \"SO\": \"strike_outs\", \"IBB\": \"intentional_walks\", \"HBP\": \"hit_by_pitch\", \"SH\": \"sacrifice_hits\",\\\n",
    "                \"SF\": \"sacrifice_flies\", \"GIDP\": \"ground_into_double_play\"}\n",
    "    \n",
    "    a_df = a_df.rename(columns=abbr_dict)\n",
    "    \n",
    "    return a_df   "
   ]
  },
  {
   "cell_type": "code",
   "execution_count": 6,
   "metadata": {
    "id": "DAVtVH546CA7"
   },
   "outputs": [],
   "source": [
    "def examine_dataset(a_df):\n",
    "    \"\"\" Provides summary info and visualizations of dataset \"\"\"\n",
    "    \n",
    "    print(a_df.info())\n",
    "          \n",
    "    a_df.hist(figsize = (15, 15))  "
   ]
  },
  {
   "cell_type": "code",
   "execution_count": 7,
   "metadata": {
    "id": "F-p82_9PMIr5"
   },
   "outputs": [],
   "source": [
    "def round_salaries(a_df):\n",
    "    \"\"\" Returns dataframe with salary column made into int and rounded \"\"\"\n",
    "\n",
    "    a_df[\"ADJ Salary\"] = a_df[\"ADJ Salary\"].astype(\"int\").round()\n",
    "\n",
    "    return a_df"
   ]
  },
  {
   "cell_type": "code",
   "execution_count": 8,
   "metadata": {
    "id": "VSEbcYUtMHW9"
   },
   "outputs": [],
   "source": [
    "def run_regression(a_df, salary_col_name=\"ADJ Salary\"):\n",
    "    \"\"\" Runs linear regression on dataframe, prints model scores \"\"\"\n",
    "\n",
    "    # Assign X and y\n",
    "\n",
    "    X = a_df.drop([salary_col_name], axis=1)\n",
    "    y = a_df[salary_col_name]\n",
    "    \n",
    "    # Split the data into X_train, X_test, y_train, y_test\n",
    "\n",
    "    X_train, X_test, y_train, y_test = train_test_split(X, y, random_state=0)\n",
    "\n",
    "    # Create a scaler to standardize the data\n",
    "\n",
    "    scaler = StandardScaler()\n",
    "\n",
    "    # Train the scaler with the X_train data.\n",
    "\n",
    "    scaler.fit(X_train)\n",
    "\n",
    "    # Transform X_train and X_test.\n",
    "\n",
    "    X_train_scaled = scaler.transform(X_train)\n",
    "    X_test_scaled = scaler.transform(X_test)\n",
    "    \n",
    "    model = LinearRegression().fit(X_train_scaled, y_train)\n",
    "    \n",
    "    predicted = model.predict(X_test_scaled)\n",
    "    mse = mean_squared_error(y_test, predicted)\n",
    "    r2 = r2_score(y_test, predicted)\n",
    "    \n",
    "    print(f\"MSE: {mse}\")\n",
    "    print(f\"R2: {r2}\") \n",
    "    \n",
    "    # Score the model\n",
    "\n",
    "    print(f\"Linear Regression Training Data Score: {model.score(X_train_scaled, y_train)}\")\n",
    "    print(f\"Linear Regression Testing Data Score: {model.score(X_test_scaled, y_test)}\")  \n",
    "    \n",
    "    plt.bar(np.arange(len(model.coef_)), model.coef_)\n",
    "    plt.title(f'Linear Regression coefficient plot')\n",
    "    plt.show()  "
   ]
  },
  {
   "cell_type": "code",
   "execution_count": 22,
   "metadata": {
    "id": "s0v5biYOVOMC"
   },
   "outputs": [],
   "source": [
    "def run_LASSO(a_df):\n",
    "    \"\"\" Runs LASSO regression on dataframe, prints model scores \"\"\"\n",
    "\n",
    "    # Assign X and y\n",
    "\n",
    "    X = a_df.drop([\"log_of_salary\"], axis=1)\n",
    "    y = a_df[\"log_of_salary\"]\n",
    "    \n",
    "    # Split the data into X_train, X_test, y_train, y_test\n",
    "\n",
    "    X_train, X_test, y_train, y_test = train_test_split(X, y, random_state=0)\n",
    "\n",
    "    # Create a scaler to standardize the data\n",
    "\n",
    "    scaler = StandardScaler()\n",
    "\n",
    "    # Train the scaler with the X_train data.\n",
    "\n",
    "    scaler.fit(X_train)\n",
    "\n",
    "    # Transform X_train and X_test.\n",
    "\n",
    "    X_train_scaled = scaler.transform(X_train)\n",
    "    X_test_scaled = scaler.transform(X_test)\n",
    "\n",
    "    lasso_reg = Lasso().fit(X_train, y_train)\n",
    "\n",
    "    predicted = lasso_reg.predict(X_test_scaled)\n",
    "    mse = mean_squared_error(y_test, predicted)\n",
    "    r2 = r2_score(y_test, predicted)\n",
    "    \n",
    "    print(f\"MSE: {mse}\")\n",
    "    print(f\"R2: {r2}\") \n",
    "\n",
    "    # Score the model\n",
    "\n",
    "    print(f\"LASSO Regression Training Data Score: {lasso_reg.score(X_train_scaled, y_train)}\")\n",
    "    print(f\"LASSO Regression Testing Data Score: {lasso_reg.score(X_test_scaled, y_test)}\")\n",
    "    \n",
    "    plt.bar(np.arange(len(lasso_reg.coef_)), lasso_reg.coef_)\n",
    "    plt.title(f'LASSO Regression coefficient plot')\n",
    "    plt.show()  \n",
    "    \n",
    "    sel = SelectFromModel(lasso_reg)\n",
    "    sel.fit(X_train_scaled, y_train)\n",
    "    SelectFromModel(estimator=Lasso())\n",
    "    \n",
    "    X_selected_train, X_selected_test, y_train, y_test = train_test_split(sel.transform(X), y, random_state=1)\n",
    "    \n",
    "    scaler = StandardScaler().fit(X_selected_train)\n",
    "    \n",
    "    X_selected_train_scaled = scaler.transform(X_selected_train)\n",
    "    X_selected_test_scaled = scaler.transform(X_selected_test)\n",
    "\n",
    "    new_lasso_reg = LinearRegression().fit(X_selected_train_scaled, y_train)\n",
    "    print(f\"New linear regression score: {new_lasso_reg.score(X_selected_test_scaled, y_test)}\")"
   ]
  },
  {
   "cell_type": "code",
   "execution_count": 9,
   "metadata": {
    "id": "D9ticIYpWauQ"
   },
   "outputs": [],
   "source": [
    "def run_Ridge(a_df):\n",
    "    \"\"\" Runs Ridge regression on dataframe, prints model scores \"\"\"\n",
    "\n",
    "    # Assign X and y\n",
    "\n",
    "    X = a_df.drop([\"log_of_salary\"], axis=1)\n",
    "    y = a_df[\"log_of_salary\"]\n",
    "    \n",
    "    # Split the data into X_train, X_test, y_train, y_test\n",
    "\n",
    "    X_train, X_test, y_train, y_test = train_test_split(X, y, random_state=0)\n",
    "\n",
    "    # Create a scaler to standardize the data\n",
    "\n",
    "    scaler = StandardScaler()\n",
    "\n",
    "    # Train the scaler with the X_train data.\n",
    "\n",
    "    scaler.fit(X_train)\n",
    "\n",
    "    # Transform X_train and X_test.\n",
    "\n",
    "    X_train_scaled = scaler.transform(X_train)\n",
    "    X_test_scaled = scaler.transform(X_test)\n",
    "\n",
    "    ridge_reg = Ridge().fit(X_train, y_train)\n",
    "\n",
    "    predicted = ridge_reg.predict(X_test_scaled)\n",
    "    mse = mean_squared_error(y_test, predicted)\n",
    "    r2 = r2_score(y_test, predicted)\n",
    "    \n",
    "    print(f\"MSE: {mse}\")\n",
    "    print(f\"R2: {r2}\") \n",
    "\n",
    "    # Score the model\n",
    "\n",
    "    print(f\"Ridge Regression Training Data Score: {ridge_reg.score(X_train_scaled, y_train)}\")\n",
    "    print(f\"Ridge Regression Testing Data Score: {ridge_reg.score(X_test_scaled, y_test)}\")\n",
    "\n",
    "    plt.bar(np.arange(len(ridge_reg.coef_)), ridge_reg.coef_)\n",
    "    plt.title(f'Ridge Regression coefficient plot')\n",
    "    plt.show()     \n",
    "    \n",
    "    sel = SelectFromModel(ridge_reg)\n",
    "    sel.fit(X_train_scaled, y_train)\n",
    "    SelectFromModel(estimator=Ridge())\n",
    "    \n",
    "    X_selected_train, X_selected_test, y_train, y_test = train_test_split(sel.transform(X), y, random_state=1)\n",
    "    \n",
    "    scaler = StandardScaler().fit(X_selected_train)\n",
    "    \n",
    "    X_selected_train_scaled = scaler.transform(X_selected_train)\n",
    "    X_selected_test_scaled = scaler.transform(X_selected_test)\n",
    "\n",
    "    new_ridge_reg = LinearRegression().fit(X_selected_train_scaled, y_train)\n",
    "    print(f\"New linear regression score: {new_ridge_reg.score(X_selected_test_scaled, y_test)}\")"
   ]
  },
  {
   "cell_type": "code",
   "execution_count": 26,
   "metadata": {
    "id": "-Y0HJk7TX2XY"
   },
   "outputs": [],
   "source": [
    "def run_ElasticNet(a_df):\n",
    "    \"\"\" Runs ElasticNet regression on dataframe, prints model scores \"\"\"\n",
    "\n",
    "    # Assign X and y\n",
    "\n",
    "    X = a_df.drop([\"log_of_salary\"], axis=1)\n",
    "    y = a_df[\"log_of_salary\"]\n",
    "    \n",
    "    # Split the data into X_train, X_test, y_train, y_test\n",
    "\n",
    "    X_train, X_test, y_train, y_test = train_test_split(X, y, random_state=0)\n",
    "\n",
    "    # Create a scaler to standardize the data\n",
    "\n",
    "    scaler = StandardScaler()\n",
    "\n",
    "    # Train the scaler with the X_train data.\n",
    "\n",
    "    scaler.fit(X_train)\n",
    "\n",
    "    # Transform X_train and X_test.\n",
    "\n",
    "    X_train_scaled = scaler.transform(X_train)\n",
    "    X_test_scaled = scaler.transform(X_test)\n",
    "\n",
    "    elasticnet_reg = ElasticNet().fit(X_train, y_train)\n",
    "      \n",
    "    predicted = elasticnet_reg.predict(X_test_scaled)\n",
    "    mse = mean_squared_error(y_test, predicted)\n",
    "    r2 = r2_score(y_test, predicted)\n",
    "    \n",
    "    print(f\"MSE: {mse}\")\n",
    "    print(f\"R2: {r2}\") \n",
    "\n",
    "    # Score the model\n",
    "\n",
    "    print(f\"ElasticNet Regression Training Data Score: {elasticnet_reg.score(X_train_scaled, y_train)}\")\n",
    "    print(f\"ElasticNet Regression Testing Data Score: {elasticnet_reg.score(X_test_scaled, y_test)}\")\n",
    "    \n",
    "    plt.bar(np.arange(len(elasticnet_reg.coef_)), elasticnet_reg.coef_)\n",
    "    plt.title(f'ElasticNet Regression coefficient plot')\n",
    "    plt.show()  \n",
    "    \n",
    "    sel = SelectFromModel(elasticnet_reg)\n",
    "    sel.fit(X_train_scaled, y_train)\n",
    "    SelectFromModel(estimator=ElasticNet())\n",
    "    \n",
    "    X_selected_train, X_selected_test, y_train, y_test = train_test_split(sel.transform(X), y, random_state=1)\n",
    "    \n",
    "    scaler = StandardScaler().fit(X_selected_train)\n",
    "    \n",
    "    X_selected_train_scaled = scaler.transform(X_selected_train)\n",
    "    X_selected_test_scaled = scaler.transform(X_selected_test)\n",
    "\n",
    "    new_elasticnet_reg = LinearRegression().fit(X_selected_train_scaled, y_train)\n",
    "    print(f\"New linear regression score: {new_elasticnet_reg.score(X_selected_test_scaled, y_test)}\")"
   ]
  },
  {
   "cell_type": "code",
   "execution_count": 10,
   "metadata": {
    "id": "jLvx-UhO6B6B"
   },
   "outputs": [],
   "source": [
    "loaded_df = load_dataset()"
   ]
  },
  {
   "cell_type": "code",
   "execution_count": 11,
   "metadata": {},
   "outputs": [],
   "source": [
    "loaded_df[\"ADJ Salary\"] = loaded_df[\"ADJ Salary\"].astype(int)\n",
    "\n",
    "loaded_df = loaded_df.loc[~(loaded_df[\"ADJ Salary\"] <= 0), :]"
   ]
  },
  {
   "cell_type": "code",
   "execution_count": 12,
   "metadata": {
    "id": "TfKf6O_86B2d"
   },
   "outputs": [],
   "source": [
    "clean_df = clean_dataset(loaded_df)"
   ]
  },
  {
   "cell_type": "code",
   "execution_count": 13,
   "metadata": {
    "id": "7RrBoBrk6BzW"
   },
   "outputs": [],
   "source": [
    "clean_df = rename_columns(clean_df)"
   ]
  },
  {
   "cell_type": "code",
   "execution_count": 14,
   "metadata": {
    "colab": {
     "base_uri": "https://localhost:8080/",
     "height": 427
    },
    "id": "N8VbFslH6Bvr",
    "outputId": "8cc77bb2-8eff-4af2-8ad0-62a6b8467686"
   },
   "outputs": [
    {
     "data": {
      "text/html": [
       "<div>\n",
       "<style scoped>\n",
       "    .dataframe tbody tr th:only-of-type {\n",
       "        vertical-align: middle;\n",
       "    }\n",
       "\n",
       "    .dataframe tbody tr th {\n",
       "        vertical-align: top;\n",
       "    }\n",
       "\n",
       "    .dataframe thead th {\n",
       "        text-align: right;\n",
       "    }\n",
       "</style>\n",
       "<table border=\"1\" class=\"dataframe\">\n",
       "  <thead>\n",
       "    <tr style=\"text-align: right;\">\n",
       "      <th></th>\n",
       "      <th>ADJ Salary</th>\n",
       "      <th>games_started</th>\n",
       "      <th>inning_outs</th>\n",
       "      <th>games_played</th>\n",
       "      <th>at_bats</th>\n",
       "      <th>runs</th>\n",
       "      <th>hits</th>\n",
       "      <th>doubles</th>\n",
       "      <th>triples</th>\n",
       "      <th>home_runs</th>\n",
       "      <th>runs_batted_in</th>\n",
       "      <th>stolen_bases</th>\n",
       "      <th>caught_stealing</th>\n",
       "      <th>base_on_balls</th>\n",
       "      <th>strike_outs</th>\n",
       "      <th>intentional_walks</th>\n",
       "      <th>hit_by_pitch</th>\n",
       "      <th>sacrifice_hits</th>\n",
       "      <th>sacrifice_flies</th>\n",
       "      <th>ground_into_double_play</th>\n",
       "    </tr>\n",
       "  </thead>\n",
       "  <tbody>\n",
       "    <tr>\n",
       "      <th>0</th>\n",
       "      <td>1310892</td>\n",
       "      <td>67.0</td>\n",
       "      <td>1698.0</td>\n",
       "      <td>70</td>\n",
       "      <td>208</td>\n",
       "      <td>12</td>\n",
       "      <td>42</td>\n",
       "      <td>6</td>\n",
       "      <td>0</td>\n",
       "      <td>0</td>\n",
       "      <td>20.0</td>\n",
       "      <td>0.0</td>\n",
       "      <td>1.0</td>\n",
       "      <td>22</td>\n",
       "      <td>12.0</td>\n",
       "      <td>1.0</td>\n",
       "      <td>1.0</td>\n",
       "      <td>4.0</td>\n",
       "      <td>2.0</td>\n",
       "      <td>8.0</td>\n",
       "    </tr>\n",
       "    <tr>\n",
       "      <th>1</th>\n",
       "      <td>1503316</td>\n",
       "      <td>76.0</td>\n",
       "      <td>2097.0</td>\n",
       "      <td>96</td>\n",
       "      <td>282</td>\n",
       "      <td>15</td>\n",
       "      <td>61</td>\n",
       "      <td>9</td>\n",
       "      <td>0</td>\n",
       "      <td>3</td>\n",
       "      <td>25.0</td>\n",
       "      <td>0.0</td>\n",
       "      <td>3.0</td>\n",
       "      <td>29</td>\n",
       "      <td>25.0</td>\n",
       "      <td>1.0</td>\n",
       "      <td>1.0</td>\n",
       "      <td>0.0</td>\n",
       "      <td>4.0</td>\n",
       "      <td>15.0</td>\n",
       "    </tr>\n",
       "    <tr>\n",
       "      <th>2</th>\n",
       "      <td>1924245</td>\n",
       "      <td>27.0</td>\n",
       "      <td>814.0</td>\n",
       "      <td>101</td>\n",
       "      <td>170</td>\n",
       "      <td>16</td>\n",
       "      <td>40</td>\n",
       "      <td>7</td>\n",
       "      <td>0</td>\n",
       "      <td>3</td>\n",
       "      <td>21.0</td>\n",
       "      <td>0.0</td>\n",
       "      <td>0.0</td>\n",
       "      <td>18</td>\n",
       "      <td>22.0</td>\n",
       "      <td>4.0</td>\n",
       "      <td>0.0</td>\n",
       "      <td>0.0</td>\n",
       "      <td>1.0</td>\n",
       "      <td>5.0</td>\n",
       "    </tr>\n",
       "    <tr>\n",
       "      <th>3</th>\n",
       "      <td>601326</td>\n",
       "      <td>124.0</td>\n",
       "      <td>3299.0</td>\n",
       "      <td>138</td>\n",
       "      <td>492</td>\n",
       "      <td>58</td>\n",
       "      <td>130</td>\n",
       "      <td>15</td>\n",
       "      <td>2</td>\n",
       "      <td>17</td>\n",
       "      <td>72.0</td>\n",
       "      <td>9.0</td>\n",
       "      <td>9.0</td>\n",
       "      <td>44</td>\n",
       "      <td>76.0</td>\n",
       "      <td>4.0</td>\n",
       "      <td>3.0</td>\n",
       "      <td>1.0</td>\n",
       "      <td>2.0</td>\n",
       "      <td>13.0</td>\n",
       "    </tr>\n",
       "    <tr>\n",
       "      <th>4</th>\n",
       "      <td>3607960</td>\n",
       "      <td>125.0</td>\n",
       "      <td>3196.0</td>\n",
       "      <td>130</td>\n",
       "      <td>483</td>\n",
       "      <td>61</td>\n",
       "      <td>129</td>\n",
       "      <td>25</td>\n",
       "      <td>3</td>\n",
       "      <td>27</td>\n",
       "      <td>89.0</td>\n",
       "      <td>1.0</td>\n",
       "      <td>1.0</td>\n",
       "      <td>50</td>\n",
       "      <td>57.0</td>\n",
       "      <td>4.0</td>\n",
       "      <td>1.0</td>\n",
       "      <td>0.0</td>\n",
       "      <td>6.0</td>\n",
       "      <td>18.0</td>\n",
       "    </tr>\n",
       "    <tr>\n",
       "      <th>5</th>\n",
       "      <td>1094414</td>\n",
       "      <td>130.0</td>\n",
       "      <td>3425.0</td>\n",
       "      <td>142</td>\n",
       "      <td>439</td>\n",
       "      <td>51</td>\n",
       "      <td>102</td>\n",
       "      <td>21</td>\n",
       "      <td>0</td>\n",
       "      <td>5</td>\n",
       "      <td>39.0</td>\n",
       "      <td>4.0</td>\n",
       "      <td>3.0</td>\n",
       "      <td>56</td>\n",
       "      <td>54.0</td>\n",
       "      <td>2.0</td>\n",
       "      <td>4.0</td>\n",
       "      <td>7.0</td>\n",
       "      <td>6.0</td>\n",
       "      <td>11.0</td>\n",
       "    </tr>\n",
       "    <tr>\n",
       "      <th>6</th>\n",
       "      <td>1864112</td>\n",
       "      <td>113.0</td>\n",
       "      <td>3009.0</td>\n",
       "      <td>130</td>\n",
       "      <td>444</td>\n",
       "      <td>52</td>\n",
       "      <td>123</td>\n",
       "      <td>25</td>\n",
       "      <td>2</td>\n",
       "      <td>8</td>\n",
       "      <td>61.0</td>\n",
       "      <td>6.0</td>\n",
       "      <td>7.0</td>\n",
       "      <td>37</td>\n",
       "      <td>57.0</td>\n",
       "      <td>8.0</td>\n",
       "      <td>0.0</td>\n",
       "      <td>1.0</td>\n",
       "      <td>6.0</td>\n",
       "      <td>9.0</td>\n",
       "    </tr>\n",
       "    <tr>\n",
       "      <th>7</th>\n",
       "      <td>3908623</td>\n",
       "      <td>161.0</td>\n",
       "      <td>4264.0</td>\n",
       "      <td>162</td>\n",
       "      <td>616</td>\n",
       "      <td>118</td>\n",
       "      <td>185</td>\n",
       "      <td>32</td>\n",
       "      <td>2</td>\n",
       "      <td>37</td>\n",
       "      <td>111.0</td>\n",
       "      <td>10.0</td>\n",
       "      <td>3.0</td>\n",
       "      <td>90</td>\n",
       "      <td>141.0</td>\n",
       "      <td>15.0</td>\n",
       "      <td>1.0</td>\n",
       "      <td>0.0</td>\n",
       "      <td>5.0</td>\n",
       "      <td>14.0</td>\n",
       "    </tr>\n",
       "    <tr>\n",
       "      <th>8</th>\n",
       "      <td>1483273</td>\n",
       "      <td>113.0</td>\n",
       "      <td>3041.0</td>\n",
       "      <td>134</td>\n",
       "      <td>412</td>\n",
       "      <td>30</td>\n",
       "      <td>112</td>\n",
       "      <td>19</td>\n",
       "      <td>4</td>\n",
       "      <td>3</td>\n",
       "      <td>35.0</td>\n",
       "      <td>1.0</td>\n",
       "      <td>2.0</td>\n",
       "      <td>51</td>\n",
       "      <td>38.0</td>\n",
       "      <td>6.0</td>\n",
       "      <td>6.0</td>\n",
       "      <td>1.0</td>\n",
       "      <td>2.0</td>\n",
       "      <td>10.0</td>\n",
       "    </tr>\n",
       "    <tr>\n",
       "      <th>9</th>\n",
       "      <td>288636</td>\n",
       "      <td>50.0</td>\n",
       "      <td>1325.0</td>\n",
       "      <td>110</td>\n",
       "      <td>238</td>\n",
       "      <td>22</td>\n",
       "      <td>51</td>\n",
       "      <td>5</td>\n",
       "      <td>0</td>\n",
       "      <td>3</td>\n",
       "      <td>13.0</td>\n",
       "      <td>9.0</td>\n",
       "      <td>5.0</td>\n",
       "      <td>23</td>\n",
       "      <td>28.0</td>\n",
       "      <td>1.0</td>\n",
       "      <td>0.0</td>\n",
       "      <td>0.0</td>\n",
       "      <td>1.0</td>\n",
       "      <td>7.0</td>\n",
       "    </tr>\n",
       "  </tbody>\n",
       "</table>\n",
       "</div>"
      ],
      "text/plain": [
       "   ADJ Salary  games_started  inning_outs  games_played  at_bats  runs  hits  doubles  triples  home_runs  runs_batted_in  stolen_bases  caught_stealing  base_on_balls  strike_outs  intentional_walks  hit_by_pitch  sacrifice_hits  sacrifice_flies  ground_into_double_play\n",
       "0     1310892           67.0       1698.0            70      208    12    42        6        0          0            20.0           0.0              1.0             22         12.0                1.0           1.0             4.0              2.0                      8.0\n",
       "1     1503316           76.0       2097.0            96      282    15    61        9        0          3            25.0           0.0              3.0             29         25.0                1.0           1.0             0.0              4.0                     15.0\n",
       "2     1924245           27.0        814.0           101      170    16    40        7        0          3            21.0           0.0              0.0             18         22.0                4.0           0.0             0.0              1.0                      5.0\n",
       "3      601326          124.0       3299.0           138      492    58   130       15        2         17            72.0           9.0              9.0             44         76.0                4.0           3.0             1.0              2.0                     13.0\n",
       "4     3607960          125.0       3196.0           130      483    61   129       25        3         27            89.0           1.0              1.0             50         57.0                4.0           1.0             0.0              6.0                     18.0\n",
       "5     1094414          130.0       3425.0           142      439    51   102       21        0          5            39.0           4.0              3.0             56         54.0                2.0           4.0             7.0              6.0                     11.0\n",
       "6     1864112          113.0       3009.0           130      444    52   123       25        2          8            61.0           6.0              7.0             37         57.0                8.0           0.0             1.0              6.0                      9.0\n",
       "7     3908623          161.0       4264.0           162      616   118   185       32        2         37           111.0          10.0              3.0             90        141.0               15.0           1.0             0.0              5.0                     14.0\n",
       "8     1483273          113.0       3041.0           134      412    30   112       19        4          3            35.0           1.0              2.0             51         38.0                6.0           6.0             1.0              2.0                     10.0\n",
       "9      288636           50.0       1325.0           110      238    22    51        5        0          3            13.0           9.0              5.0             23         28.0                1.0           0.0             0.0              1.0                      7.0"
      ]
     },
     "execution_count": 14,
     "metadata": {},
     "output_type": "execute_result"
    }
   ],
   "source": [
    "clean_df.head(10)"
   ]
  },
  {
   "cell_type": "code",
   "execution_count": 15,
   "metadata": {
    "colab": {
     "base_uri": "https://localhost:8080/",
     "height": 1000
    },
    "id": "8rLHDOvd6BsU",
    "outputId": "cfbbb14e-c71b-4ce8-8ace-3b6701538dd9"
   },
   "outputs": [
    {
     "name": "stdout",
     "output_type": "stream",
     "text": [
      "<class 'pandas.core.frame.DataFrame'>\n",
      "RangeIndex: 15022 entries, 0 to 15021\n",
      "Data columns (total 20 columns):\n",
      " #   Column                   Non-Null Count  Dtype  \n",
      "---  ------                   --------------  -----  \n",
      " 0   ADJ Salary               15022 non-null  int32  \n",
      " 1   games_started            15022 non-null  float64\n",
      " 2   inning_outs              15022 non-null  float64\n",
      " 3   games_played             15022 non-null  int64  \n",
      " 4   at_bats                  15022 non-null  int64  \n",
      " 5   runs                     15022 non-null  int64  \n",
      " 6   hits                     15022 non-null  int64  \n",
      " 7   doubles                  15022 non-null  int64  \n",
      " 8   triples                  15022 non-null  int64  \n",
      " 9   home_runs                15022 non-null  int64  \n",
      " 10  runs_batted_in           15022 non-null  float64\n",
      " 11  stolen_bases             15022 non-null  float64\n",
      " 12  caught_stealing          15022 non-null  float64\n",
      " 13  base_on_balls            15022 non-null  int64  \n",
      " 14  strike_outs              15022 non-null  float64\n",
      " 15  intentional_walks        15022 non-null  float64\n",
      " 16  hit_by_pitch             15022 non-null  float64\n",
      " 17  sacrifice_hits           15022 non-null  float64\n",
      " 18  sacrifice_flies          15022 non-null  float64\n",
      " 19  ground_into_double_play  15022 non-null  float64\n",
      "dtypes: float64(11), int32(1), int64(8)\n",
      "memory usage: 2.2 MB\n",
      "None\n"
     ]
    },
    {
     "data": {
      "image/png": "[encoded data removed]",
      "text/plain": [
       "<Figure size 1080x1080 with 20 Axes>"
      ]
     },
     "metadata": {
      "needs_background": "light"
     },
     "output_type": "display_data"
    }
   ],
   "source": [
    "examine_dataset(clean_df)"
   ]
  },
  {
   "cell_type": "code",
   "execution_count": 16,
   "metadata": {
    "id": "4fXLSDX5MDWy"
   },
   "outputs": [],
   "source": [
    "clean_df = round_salaries(clean_df)"
   ]
  },
  {
   "cell_type": "code",
   "execution_count": 17,
   "metadata": {},
   "outputs": [],
   "source": [
    "clean_df[\"log_of_salary\"] = np.log(clean_df[\"ADJ Salary\"])"
   ]
  },
  {
   "cell_type": "code",
   "execution_count": 18,
   "metadata": {},
   "outputs": [
    {
     "data": {
      "text/plain": [
       "count    15022.000000\n",
       "mean        14.050117\n",
       "std          1.314890\n",
       "min          9.879297\n",
       "25%         13.033089\n",
       "50%         13.842179\n",
       "75%         15.131481\n",
       "max         17.499634\n",
       "Name: log_of_salary, dtype: float64"
      ]
     },
     "execution_count": 18,
     "metadata": {},
     "output_type": "execute_result"
    }
   ],
   "source": [
    "clean_df[\"log_of_salary\"].describe()"
   ]
  },
  {
   "cell_type": "code",
   "execution_count": 19,
   "metadata": {
    "colab": {
     "base_uri": "https://localhost:8080/"
    },
    "id": "G8rhtula6kQq",
    "outputId": "ddf78d7e-ce60-49b9-fb58-97cc163930d5"
   },
   "outputs": [
    {
     "name": "stdout",
     "output_type": "stream",
     "text": [
      "MSE: 6006542884210.203\n",
      "R2: 0.7093099044793149\n",
      "Linear Regression Training Data Score: 0.7140955075061826\n",
      "Linear Regression Testing Data Score: 0.7093099044793149\n"
     ]
    },
    {
     "data": {
      "image/png": "[encoded data removed]",
      "text/plain": [
       "<Figure size 432x288 with 1 Axes>"
      ]
     },
     "metadata": {
      "needs_background": "light"
     },
     "output_type": "display_data"
    }
   ],
   "source": [
    "run_regression(clean_df, \"ADJ Salary\")"
   ]
  },
  {
   "cell_type": "code",
   "execution_count": 20,
   "metadata": {},
   "outputs": [
    {
     "name": "stdout",
     "output_type": "stream",
     "text": [
      "MSE: 0.49110614851979023\n",
      "R2: 0.719555763101845\n",
      "Linear Regression Training Data Score: 0.7279425139716458\n",
      "Linear Regression Testing Data Score: 0.719555763101845\n"
     ]
    },
    {
     "data": {
      "image/png": "[encoded data removed]",
      "text/plain": [
       "<Figure size 432x288 with 1 Axes>"
      ]
     },
     "metadata": {
      "needs_background": "light"
     },
     "output_type": "display_data"
    }
   ],
   "source": [
    "run_regression(clean_df, \"log_of_salary\")"
   ]
  },
  {
   "cell_type": "code",
   "execution_count": 23,
   "metadata": {
    "colab": {
     "base_uri": "https://localhost:8080/",
     "height": 465
    },
    "id": "4orh_pkiT70n",
    "outputId": "b4e1e584-cb65-4e37-bdae-b4b550ab2c98"
   },
   "outputs": [
    {
     "name": "stdout",
     "output_type": "stream",
     "text": [
      "MSE: 2.9229648390613354\n",
      "R2: -0.6691475890525569\n",
      "LASSO Regression Training Data Score: -0.6308733557829966\n",
      "LASSO Regression Testing Data Score: -0.6691475890525569\n"
     ]
    },
    {
     "data": {
      "image/png": "[encoded data removed]",
      "text/plain": [
       "<Figure size 432x288 with 1 Axes>"
      ]
     },
     "metadata": {
      "needs_background": "light"
     },
     "output_type": "display_data"
    },
    {
     "name": "stdout",
     "output_type": "stream",
     "text": [
      "New linear regression score: 0.7017304987850443\n"
     ]
    }
   ],
   "source": [
    "run_LASSO(clean_df)"
   ]
  },
  {
   "cell_type": "code",
   "execution_count": 24,
   "metadata": {
    "colab": {
     "base_uri": "https://localhost:8080/",
     "height": 465
    },
    "id": "GiaGvzJqT7pv",
    "outputId": "914ee43b-b18c-46f9-f479-ccc1bc4371ac"
   },
   "outputs": [
    {
     "name": "stdout",
     "output_type": "stream",
     "text": [
      "MSE: 2.8321248333666245\n",
      "R2: -0.6172737606477172\n",
      "Ridge Regression Training Data Score: -0.5798838827332813\n",
      "Ridge Regression Testing Data Score: -0.6172737606477172\n"
     ]
    },
    {
     "data": {
      "image/png": "[encoded data removed]",
      "text/plain": [
       "<Figure size 432x288 with 1 Axes>"
      ]
     },
     "metadata": {
      "needs_background": "light"
     },
     "output_type": "display_data"
    },
    {
     "name": "stdout",
     "output_type": "stream",
     "text": [
      "New linear regression score: 0.7291495360671354\n"
     ]
    }
   ],
   "source": [
    "run_Ridge(clean_df)"
   ]
  },
  {
   "cell_type": "code",
   "execution_count": 27,
   "metadata": {
    "colab": {
     "base_uri": "https://localhost:8080/",
     "height": 518
    },
    "id": "JykORz4IXXwD",
    "outputId": "56fc8b64-4e88-424e-b7ac-2cb96fc6215a"
   },
   "outputs": [
    {
     "name": "stdout",
     "output_type": "stream",
     "text": [
      "MSE: 2.918066082631801\n",
      "R2: -0.6663501734372739\n",
      "ElasticNet Regression Training Data Score: -0.6281099684792957\n",
      "ElasticNet Regression Testing Data Score: -0.6663501734372739\n"
     ]
    },
    {
     "data": {
      "image/png": "[encoded data removed]",
      "text/plain": [
       "<Figure size 432x288 with 1 Axes>"
      ]
     },
     "metadata": {
      "needs_background": "light"
     },
     "output_type": "display_data"
    },
    {
     "name": "stdout",
     "output_type": "stream",
     "text": [
      "New linear regression score: 0.7017304987850443\n"
     ]
    }
   ],
   "source": [
    "run_ElasticNet(clean_df)"
   ]
  },
  {
   "cell_type": "markdown",
   "metadata": {},
   "source": [
    "# Results:\n",
    "\n",
    "- Using the logarithm of the ADJ Salary column values improved the regression score\n",
    "    - I had to eliminate any salary values <= 0 to make this work\n",
    "- Ridge regression achieved the best score: 0.7291495360671353"
   ]
  },
  {
   "cell_type": "markdown",
   "metadata": {},
   "source": [
    "# To Do:\n",
    "\n",
    "- Add / remove features from the dataset?\n"
   ]
  },
  {
   "cell_type": "markdown",
   "metadata": {
    "id": "Ce7JyQeICdbH"
   },
   "source": [
    "# **LINEAR REGRESSION BLOCK END**"
   ]
  },
  {
   "cell_type": "markdown",
   "metadata": {
    "id": "u9JUY6qOOjLi"
   },
   "source": [
    "# **PCA START BLOCK**"
   ]
  },
  {
   "cell_type": "code",
   "execution_count": null,
   "metadata": {
    "id": "gAFcwdrgO25v"
   },
   "outputs": [],
   "source": []
  },
  {
   "cell_type": "code",
   "execution_count": null,
   "metadata": {
    "id": "CGmcFEQhO22r"
   },
   "outputs": [],
   "source": []
  },
  {
   "cell_type": "code",
   "execution_count": null,
   "metadata": {
    "id": "9v14TjYmO2zh"
   },
   "outputs": [],
   "source": []
  },
  {
   "cell_type": "code",
   "execution_count": null,
   "metadata": {
    "id": "322m-0F2O2w3"
   },
   "outputs": [],
   "source": []
  },
  {
   "cell_type": "code",
   "execution_count": null,
   "metadata": {
    "id": "RQbjP2STO2uP"
   },
   "outputs": [],
   "source": []
  },
  {
   "cell_type": "code",
   "execution_count": null,
   "metadata": {
    "id": "wMQLM1m2O2rT"
   },
   "outputs": [],
   "source": []
  },
  {
   "cell_type": "code",
   "execution_count": null,
   "metadata": {
    "id": "fJqsCksJO2oY"
   },
   "outputs": [],
   "source": []
  },
  {
   "cell_type": "code",
   "execution_count": null,
   "metadata": {
    "id": "m3jL122GO2kp"
   },
   "outputs": [],
   "source": []
  },
  {
   "cell_type": "code",
   "execution_count": null,
   "metadata": {
    "id": "K6XEp9bsO2g5"
   },
   "outputs": [],
   "source": []
  },
  {
   "cell_type": "markdown",
   "metadata": {
    "id": "zEvpwO7dHppe"
   },
   "source": [
    "# **PCA END BLOCK**\n"
   ]
  }
 ],
 "metadata": {
  "colab": {
   "provenance": []
  },
  "kernelspec": {
   "display_name": "Python 3 (ipykernel)",
   "language": "python",
   "name": "python3"
  },
  "language_info": {
   "codemirror_mode": {
    "name": "ipython",
    "version": 3
   },
   "file_extension": ".py",
   "mimetype": "text/x-python",
   "name": "python",
   "nbconvert_exporter": "python",
   "pygments_lexer": "ipython3",
   "version": "3.8.13"
  }
 },
 "nbformat": 4,
 "nbformat_minor": 1
}
