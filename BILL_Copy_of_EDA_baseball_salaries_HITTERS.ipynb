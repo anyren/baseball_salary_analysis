{
  "nbformat": 4,
  "nbformat_minor": 0,
  "metadata": {
    "colab": {
      "provenance": []
    },
    "kernelspec": {
      "name": "python3",
      "display_name": "Python 3"
    },
    "language_info": {
      "name": "python"
    }
  },
  "cells": [
    {
      "cell_type": "markdown",
      "source": [
        "# **LINEAR REGRESSION BLOCK START**"
      ],
      "metadata": {
        "id": "5GRNIQY9CF2t"
      }
    },
    {
      "cell_type": "code",
      "execution_count": 1,
      "metadata": {
        "id": "qj4WNzSo5BS-"
      },
      "outputs": [],
      "source": [
        "# Import dependencies\n",
        "\n",
        "import matplotlib.pyplot as plt\n",
        "import pandas as pd\n",
        "import seaborn as sns\n",
        "\n",
        "from sklearn.ensemble import RandomForestClassifier\n",
        "from sklearn.linear_model import LinearRegression, Ridge, Lasso, ElasticNet\n",
        "from sklearn.metrics import confusion_matrix, classification_report\n",
        "from sklearn.model_selection import train_test_split\n",
        "from sklearn.preprocessing import StandardScaler\n",
        "\n",
        "pd.set_option('display.max_rows', 500)\n",
        "pd.set_option('display.max_columns', 500)\n",
        "pd.set_option('display.width', 1000)"
      ]
    },
    {
      "cell_type": "code",
      "source": [
        "def load_dataset():\n",
        "    \"\"\" Reads dataset csv and returns pandas dataframe \"\"\"\n",
        "    \n",
        "    filepath = \"/content/Hitters_Adjusted_Salary.csv\"\n",
        "\n",
        "    df = pd.read_csv(filepath, encoding=\"utf-8\", low_memory=False)\n",
        "    \n",
        "    return df"
      ],
      "metadata": {
        "id": "ntbPKBeR62LH"
      },
      "execution_count": 2,
      "outputs": []
    },
    {
      "cell_type": "code",
      "source": [
        "def clean_dataset(a_df):\n",
        "    \"\"\" Returns deduped, na-dropped, index-reset dataframe \"\"\"    \n",
        "    \n",
        "    a_df = a_df.drop_duplicates()   \n",
        "        \n",
        "    a_df = a_df.dropna()\n",
        "    \n",
        "    a_df = a_df.drop([\"Unnamed: 0\", \"yearID\", \"playerID\", \"teamID\", \"lgID\", \"salary\", \"PO\", \"A\", \"E\", \"DP\"], axis=1)\n",
        "        \n",
        "    a_df = a_df.reset_index(drop=True)\n",
        "    \n",
        "    return a_df  "
      ],
      "metadata": {
        "id": "Ek0pVe525VXx"
      },
      "execution_count": 3,
      "outputs": []
    },
    {
      "cell_type": "code",
      "source": [
        "def rename_columns(a_df):\n",
        "    \"\"\" Returns dataframe with meaningful column names \"\"\"    \n",
        "    \n",
        "    abbr_dict = {\"GS\": \"games_started\", \"InnOuts\": \"inning_outs\", \"G\": \"games_played\", \"AB\": \"at_bats\",\\\n",
        "                \"R\": \"runs\", \"H\": \"hits\", \"2B\": \"doubles\", \"3B\": \"triples\", \"HR\": \"home_runs\",\\\n",
        "                \"RBI\": \"runs_batted_in\", \"SB\": \"stolen_bases\", \"CS\": \"caught_stealing\", \"BB\": \"base_on_balls\",\\\n",
        "                \"SO\": \"strike_outs\", \"IBB\": \"intentional_walks\", \"HBP\": \"hit_by_pitch\", \"SH\": \"sacrifice_hits\",\\\n",
        "                \"SF\": \"sacrifice_flies\", \"GIDP\": \"ground_into_double_play\"}\n",
        "    \n",
        "    a_df = a_df.rename(columns=abbr_dict)\n",
        "    \n",
        "    return a_df   "
      ],
      "metadata": {
        "id": "8FmJFtEM6CEt"
      },
      "execution_count": 4,
      "outputs": []
    },
    {
      "cell_type": "code",
      "source": [
        "def examine_dataset(a_df):\n",
        "    \"\"\" Provides summary info and visualizations of dataset \"\"\"\n",
        "    \n",
        "    print(a_df.info())\n",
        "           \n",
        "    print(f'\\n\\nADJ SALARY VALUE COUNTS: \\n {a_df[\"ADJ Salary\"].value_counts()}\\n\\n')\n",
        "    \n",
        "    a_df.hist(figsize = (15, 15))  "
      ],
      "metadata": {
        "id": "DAVtVH546CA7"
      },
      "execution_count": 5,
      "outputs": []
    },
    {
      "cell_type": "code",
      "source": [
        "def scale_dataset(a_df):\n",
        "    \"\"\" Returns dataframe with target column removed, data scaled with standard scaler, data normalized, and labels \"\"\"\n",
        "    \n",
        "    salary_labels = a_df[\"ADJ Salary\"]    \n",
        "    no_target_df = a_df.drop(columns=[\"ADJ Salary\"])\n",
        "    \n",
        "    scaler = StandardScaler()\n",
        "    scaled_data = scaler.fit_transform(no_target_df)    \n",
        "    print(f\"SHAPE AFTER SCALING: {scaled_data.shape}\")\n",
        "\n",
        "    return no_target_df, scaled_data, salary_labels"
      ],
      "metadata": {
        "id": "wL4SCAac6B9k"
      },
      "execution_count": 6,
      "outputs": []
    },
    {
      "cell_type": "code",
      "source": [
        "def round_salaries(a_df):\n",
        "  \"\"\" Returns dataframe with salary column made into int and rounded \"\"\"\n",
        "\n",
        "  a_df[\"ADJ Salary\"] = a_df[\"ADJ Salary\"].astype(\"int\").round()\n",
        "\n",
        "  return a_df"
      ],
      "metadata": {
        "id": "F-p82_9PMIr5"
      },
      "execution_count": 7,
      "outputs": []
    },
    {
      "cell_type": "code",
      "source": [
        "def run_regression(a_df):\n",
        "  \"\"\" Runs linear regression on dataframe, prints model scores \"\"\"\n",
        "  \n",
        "  # Assign X and y\n",
        "\n",
        "  X = a_df.drop([\"ADJ Salary\"], axis=1)\n",
        "  y = a_df[\"ADJ Salary\"]\n",
        "\n",
        "  # Split the data into X_train, X_test, y_train, y_test\n",
        "\n",
        "  X_train, X_test, y_train, y_test = train_test_split(X, y, random_state=0)\n",
        "\n",
        "  # Create a scaler to standardize the data\n",
        "\n",
        "  scaler = StandardScaler()\n",
        "\n",
        "  # Train the scaler with the X_train data.\n",
        "\n",
        "  scaler.fit(X_train)\n",
        "\n",
        "  # Transform X_train and X_test.\n",
        "\n",
        "  X_train_scaled = scaler.transform(X_train)\n",
        "  X_test_scaled = scaler.transform(X_test)\n",
        "\n",
        "  model = LinearRegression().fit(X_train_scaled, y_train)\n",
        "\n",
        "  # Score the model\n",
        "\n",
        "  print(f\"Linear Regression Training Data Score: {model.score(X_train_scaled, y_train)}\")\n",
        "  print(f\"Linear Regression Testing Data Score: {model.score(X_test_scaled, y_test)}\")"
      ],
      "metadata": {
        "id": "VSEbcYUtMHW9"
      },
      "execution_count": 8,
      "outputs": []
    },
    {
      "cell_type": "code",
      "source": [
        "def run_LASSO(a_df):\n",
        "  \"\"\" Runs LASSO regression on dataframe, prints model scores \"\"\"\n",
        "  \n",
        "  # Assign X and y\n",
        "\n",
        "  X = a_df.drop([\"ADJ Salary\"], axis=1)\n",
        "  y = a_df[\"ADJ Salary\"]\n",
        "\n",
        "  # Split the data into X_train, X_test, y_train, y_test\n",
        "\n",
        "  X_train, X_test, y_train, y_test = train_test_split(X, y, random_state=0)\n",
        "\n",
        "  # Create a scaler to standardize the data\n",
        "\n",
        "  scaler = StandardScaler()\n",
        "\n",
        "  # Train the scaler with the X_train data.\n",
        "\n",
        "  scaler.fit(X_train)\n",
        "\n",
        "  # Transform X_train and X_test.\n",
        "\n",
        "  X_train_scaled = scaler.transform(X_train)\n",
        "  X_test_scaled = scaler.transform(X_test)\n",
        "\n",
        "  lasso_reg = Lasso(max_iter=10_000).fit(X_train, y_train)\n",
        "\n",
        "  print(f\"LASSO coef_: {lasso_reg.coef_}\")\n",
        "\n",
        "  # Score the model\n",
        "\n",
        "  print(f\"LASSO Regression Training Data Score: {lasso_reg.score(X_train_scaled, y_train)}\")\n",
        "  print(f\"LASSO Regression Testing Data Score: {lasso_reg.score(X_test_scaled, y_test)}\")\n",
        "\n",
        "  plt.bar(X.columns, lasso_reg.coef_)\n",
        "  plt.show()"
      ],
      "metadata": {
        "id": "s0v5biYOVOMC"
      },
      "execution_count": 9,
      "outputs": []
    },
    {
      "cell_type": "code",
      "source": [
        "def run_Ridge(a_df):\n",
        "  \"\"\" Runs Ridge regression on dataframe, prints model scores \"\"\"\n",
        "  \n",
        "  # Assign X and y\n",
        "\n",
        "  X = a_df.drop([\"ADJ Salary\"], axis=1)\n",
        "  y = a_df[\"ADJ Salary\"]\n",
        "\n",
        "  # Split the data into X_train, X_test, y_train, y_test\n",
        "\n",
        "  X_train, X_test, y_train, y_test = train_test_split(X, y, random_state=0)\n",
        "\n",
        "  # Create a scaler to standardize the data\n",
        "\n",
        "  scaler = StandardScaler()\n",
        "\n",
        "  # Train the scaler with the X_train data.\n",
        "\n",
        "  scaler.fit(X_train)\n",
        "\n",
        "  # Transform X_train and X_test.\n",
        "\n",
        "  X_train_scaled = scaler.transform(X_train)\n",
        "  X_test_scaled = scaler.transform(X_test)\n",
        "\n",
        "  ridge_reg = Ridge(alpha=100).fit(X_train, y_train)\n",
        "\n",
        "  print(f\"Ridge coef_: {ridge_reg.coef_}\")\n",
        "\n",
        "  # Score the model\n",
        "\n",
        "  print(f\"Ridge Regression Training Data Score: {ridge_reg.score(X_train_scaled, y_train)}\")\n",
        "  print(f\"Ridge Regression Testing Data Score: {ridge_reg.score(X_test_scaled, y_test)}\")\n",
        "\n",
        "  plt.bar(X.columns, ridge_reg.coef_)\n",
        "  plt.show()"
      ],
      "metadata": {
        "id": "D9ticIYpWauQ"
      },
      "execution_count": 10,
      "outputs": []
    },
    {
      "cell_type": "code",
      "source": [
        "def run_ElasticNet(a_df):\n",
        "  \"\"\" Runs ElasticNet regression on dataframe, prints model scores \"\"\"\n",
        "  \n",
        "  # Assign X and y\n",
        "\n",
        "  X = a_df.drop([\"ADJ Salary\"], axis=1)\n",
        "  y = a_df[\"ADJ Salary\"]\n",
        "\n",
        "  # Split the data into X_train, X_test, y_train, y_test\n",
        "\n",
        "  X_train, X_test, y_train, y_test = train_test_split(X, y, random_state=0)\n",
        "\n",
        "  # Create a scaler to standardize the data\n",
        "\n",
        "  scaler = StandardScaler()\n",
        "\n",
        "  # Train the scaler with the X_train data.\n",
        "\n",
        "  scaler.fit(X_train)\n",
        "\n",
        "  # Transform X_train and X_test.\n",
        "\n",
        "  X_train_scaled = scaler.transform(X_train)\n",
        "  X_test_scaled = scaler.transform(X_test)\n",
        "\n",
        "  elasticnet_reg = ElasticNet(alpha=10).fit(X_train, y_train)\n",
        "\n",
        "  print(f\"ElasticNet coef_: {elasticnet_reg.coef_}\")\n",
        "\n",
        "  # Score the model\n",
        "\n",
        "  print(f\"ElasticNet Regression Training Data Score: {elasticnet_reg.score(X_train_scaled, y_train)}\")\n",
        "  print(f\"ElasticNet Regression Testing Data Score: {elasticnet_reg.score(X_test_scaled, y_test)}\")\n",
        "\n",
        "  plt.bar(X.columns, elasticnet_reg.coef_)\n",
        "  plt.show()"
      ],
      "metadata": {
        "id": "-Y0HJk7TX2XY"
      },
      "execution_count": 11,
      "outputs": []
    },
    {
      "cell_type": "code",
      "source": [
        "loaded_df = load_dataset()"
      ],
      "metadata": {
        "id": "jLvx-UhO6B6B"
      },
      "execution_count": 12,
      "outputs": []
    },
    {
      "cell_type": "code",
      "source": [
        "clean_df = clean_dataset(loaded_df)"
      ],
      "metadata": {
        "id": "TfKf6O_86B2d"
      },
      "execution_count": 13,
      "outputs": []
    },
    {
      "cell_type": "code",
      "source": [
        "clean_df = rename_columns(clean_df)"
      ],
      "metadata": {
        "id": "7RrBoBrk6BzW"
      },
      "execution_count": 14,
      "outputs": []
    },
    {
      "cell_type": "code",
      "source": [
        "clean_df.head(10)"
      ],
      "metadata": {
        "id": "N8VbFslH6Bvr",
        "colab": {
          "base_uri": "https://localhost:8080/",
          "height": 427
        },
        "outputId": "8cc77bb2-8eff-4af2-8ad0-62a6b8467686"
      },
      "execution_count": 15,
      "outputs": [
        {
          "output_type": "execute_result",
          "data": {
            "text/plain": [
              "     ADJ Salary  games_started  inning_outs  games_played  at_bats  runs  hits  doubles  triples  home_runs  runs_batted_in  stolen_bases  caught_stealing  base_on_balls  strike_outs  intentional_walks  hit_by_pitch  sacrifice_hits  sacrifice_flies  ground_into_double_play\n",
              "0  1.310892e+06           67.0       1698.0            70      208    12    42        6        0          0            20.0           0.0              1.0             22         12.0                1.0           1.0             4.0              2.0                      8.0\n",
              "1  1.503317e+06           76.0       2097.0            96      282    15    61        9        0          3            25.0           0.0              3.0             29         25.0                1.0           1.0             0.0              4.0                     15.0\n",
              "2  1.924245e+06           27.0        814.0           101      170    16    40        7        0          3            21.0           0.0              0.0             18         22.0                4.0           0.0             0.0              1.0                      5.0\n",
              "3  6.013267e+05          124.0       3299.0           138      492    58   130       15        2         17            72.0           9.0              9.0             44         76.0                4.0           3.0             1.0              2.0                     13.0\n",
              "4  3.607960e+06          125.0       3196.0           130      483    61   129       25        3         27            89.0           1.0              1.0             50         57.0                4.0           1.0             0.0              6.0                     18.0\n",
              "5  1.094415e+06          130.0       3425.0           142      439    51   102       21        0          5            39.0           4.0              3.0             56         54.0                2.0           4.0             7.0              6.0                     11.0\n",
              "6  1.864113e+06          113.0       3009.0           130      444    52   123       25        2          8            61.0           6.0              7.0             37         57.0                8.0           0.0             1.0              6.0                      9.0\n",
              "7  3.908623e+06          161.0       4264.0           162      616   118   185       32        2         37           111.0          10.0              3.0             90        141.0               15.0           1.0             0.0              5.0                     14.0\n",
              "8  1.483273e+06          113.0       3041.0           134      412    30   112       19        4          3            35.0           1.0              2.0             51         38.0                6.0           6.0             1.0              2.0                     10.0\n",
              "9  2.886368e+05           50.0       1325.0           110      238    22    51        5        0          3            13.0           9.0              5.0             23         28.0                1.0           0.0             0.0              1.0                      7.0"
            ],
            "text/html": [
              "\n",
              "  <div id=\"df-58214bfe-7420-4d35-9acd-efb088d4bc73\">\n",
              "    <div class=\"colab-df-container\">\n",
              "      <div>\n",
              "<style scoped>\n",
              "    .dataframe tbody tr th:only-of-type {\n",
              "        vertical-align: middle;\n",
              "    }\n",
              "\n",
              "    .dataframe tbody tr th {\n",
              "        vertical-align: top;\n",
              "    }\n",
              "\n",
              "    .dataframe thead th {\n",
              "        text-align: right;\n",
              "    }\n",
              "</style>\n",
              "<table border=\"1\" class=\"dataframe\">\n",
              "  <thead>\n",
              "    <tr style=\"text-align: right;\">\n",
              "      <th></th>\n",
              "      <th>ADJ Salary</th>\n",
              "      <th>games_started</th>\n",
              "      <th>inning_outs</th>\n",
              "      <th>games_played</th>\n",
              "      <th>at_bats</th>\n",
              "      <th>runs</th>\n",
              "      <th>hits</th>\n",
              "      <th>doubles</th>\n",
              "      <th>triples</th>\n",
              "      <th>home_runs</th>\n",
              "      <th>runs_batted_in</th>\n",
              "      <th>stolen_bases</th>\n",
              "      <th>caught_stealing</th>\n",
              "      <th>base_on_balls</th>\n",
              "      <th>strike_outs</th>\n",
              "      <th>intentional_walks</th>\n",
              "      <th>hit_by_pitch</th>\n",
              "      <th>sacrifice_hits</th>\n",
              "      <th>sacrifice_flies</th>\n",
              "      <th>ground_into_double_play</th>\n",
              "    </tr>\n",
              "  </thead>\n",
              "  <tbody>\n",
              "    <tr>\n",
              "      <th>0</th>\n",
              "      <td>1.310892e+06</td>\n",
              "      <td>67.0</td>\n",
              "      <td>1698.0</td>\n",
              "      <td>70</td>\n",
              "      <td>208</td>\n",
              "      <td>12</td>\n",
              "      <td>42</td>\n",
              "      <td>6</td>\n",
              "      <td>0</td>\n",
              "      <td>0</td>\n",
              "      <td>20.0</td>\n",
              "      <td>0.0</td>\n",
              "      <td>1.0</td>\n",
              "      <td>22</td>\n",
              "      <td>12.0</td>\n",
              "      <td>1.0</td>\n",
              "      <td>1.0</td>\n",
              "      <td>4.0</td>\n",
              "      <td>2.0</td>\n",
              "      <td>8.0</td>\n",
              "    </tr>\n",
              "    <tr>\n",
              "      <th>1</th>\n",
              "      <td>1.503317e+06</td>\n",
              "      <td>76.0</td>\n",
              "      <td>2097.0</td>\n",
              "      <td>96</td>\n",
              "      <td>282</td>\n",
              "      <td>15</td>\n",
              "      <td>61</td>\n",
              "      <td>9</td>\n",
              "      <td>0</td>\n",
              "      <td>3</td>\n",
              "      <td>25.0</td>\n",
              "      <td>0.0</td>\n",
              "      <td>3.0</td>\n",
              "      <td>29</td>\n",
              "      <td>25.0</td>\n",
              "      <td>1.0</td>\n",
              "      <td>1.0</td>\n",
              "      <td>0.0</td>\n",
              "      <td>4.0</td>\n",
              "      <td>15.0</td>\n",
              "    </tr>\n",
              "    <tr>\n",
              "      <th>2</th>\n",
              "      <td>1.924245e+06</td>\n",
              "      <td>27.0</td>\n",
              "      <td>814.0</td>\n",
              "      <td>101</td>\n",
              "      <td>170</td>\n",
              "      <td>16</td>\n",
              "      <td>40</td>\n",
              "      <td>7</td>\n",
              "      <td>0</td>\n",
              "      <td>3</td>\n",
              "      <td>21.0</td>\n",
              "      <td>0.0</td>\n",
              "      <td>0.0</td>\n",
              "      <td>18</td>\n",
              "      <td>22.0</td>\n",
              "      <td>4.0</td>\n",
              "      <td>0.0</td>\n",
              "      <td>0.0</td>\n",
              "      <td>1.0</td>\n",
              "      <td>5.0</td>\n",
              "    </tr>\n",
              "    <tr>\n",
              "      <th>3</th>\n",
              "      <td>6.013267e+05</td>\n",
              "      <td>124.0</td>\n",
              "      <td>3299.0</td>\n",
              "      <td>138</td>\n",
              "      <td>492</td>\n",
              "      <td>58</td>\n",
              "      <td>130</td>\n",
              "      <td>15</td>\n",
              "      <td>2</td>\n",
              "      <td>17</td>\n",
              "      <td>72.0</td>\n",
              "      <td>9.0</td>\n",
              "      <td>9.0</td>\n",
              "      <td>44</td>\n",
              "      <td>76.0</td>\n",
              "      <td>4.0</td>\n",
              "      <td>3.0</td>\n",
              "      <td>1.0</td>\n",
              "      <td>2.0</td>\n",
              "      <td>13.0</td>\n",
              "    </tr>\n",
              "    <tr>\n",
              "      <th>4</th>\n",
              "      <td>3.607960e+06</td>\n",
              "      <td>125.0</td>\n",
              "      <td>3196.0</td>\n",
              "      <td>130</td>\n",
              "      <td>483</td>\n",
              "      <td>61</td>\n",
              "      <td>129</td>\n",
              "      <td>25</td>\n",
              "      <td>3</td>\n",
              "      <td>27</td>\n",
              "      <td>89.0</td>\n",
              "      <td>1.0</td>\n",
              "      <td>1.0</td>\n",
              "      <td>50</td>\n",
              "      <td>57.0</td>\n",
              "      <td>4.0</td>\n",
              "      <td>1.0</td>\n",
              "      <td>0.0</td>\n",
              "      <td>6.0</td>\n",
              "      <td>18.0</td>\n",
              "    </tr>\n",
              "    <tr>\n",
              "      <th>5</th>\n",
              "      <td>1.094415e+06</td>\n",
              "      <td>130.0</td>\n",
              "      <td>3425.0</td>\n",
              "      <td>142</td>\n",
              "      <td>439</td>\n",
              "      <td>51</td>\n",
              "      <td>102</td>\n",
              "      <td>21</td>\n",
              "      <td>0</td>\n",
              "      <td>5</td>\n",
              "      <td>39.0</td>\n",
              "      <td>4.0</td>\n",
              "      <td>3.0</td>\n",
              "      <td>56</td>\n",
              "      <td>54.0</td>\n",
              "      <td>2.0</td>\n",
              "      <td>4.0</td>\n",
              "      <td>7.0</td>\n",
              "      <td>6.0</td>\n",
              "      <td>11.0</td>\n",
              "    </tr>\n",
              "    <tr>\n",
              "      <th>6</th>\n",
              "      <td>1.864113e+06</td>\n",
              "      <td>113.0</td>\n",
              "      <td>3009.0</td>\n",
              "      <td>130</td>\n",
              "      <td>444</td>\n",
              "      <td>52</td>\n",
              "      <td>123</td>\n",
              "      <td>25</td>\n",
              "      <td>2</td>\n",
              "      <td>8</td>\n",
              "      <td>61.0</td>\n",
              "      <td>6.0</td>\n",
              "      <td>7.0</td>\n",
              "      <td>37</td>\n",
              "      <td>57.0</td>\n",
              "      <td>8.0</td>\n",
              "      <td>0.0</td>\n",
              "      <td>1.0</td>\n",
              "      <td>6.0</td>\n",
              "      <td>9.0</td>\n",
              "    </tr>\n",
              "    <tr>\n",
              "      <th>7</th>\n",
              "      <td>3.908623e+06</td>\n",
              "      <td>161.0</td>\n",
              "      <td>4264.0</td>\n",
              "      <td>162</td>\n",
              "      <td>616</td>\n",
              "      <td>118</td>\n",
              "      <td>185</td>\n",
              "      <td>32</td>\n",
              "      <td>2</td>\n",
              "      <td>37</td>\n",
              "      <td>111.0</td>\n",
              "      <td>10.0</td>\n",
              "      <td>3.0</td>\n",
              "      <td>90</td>\n",
              "      <td>141.0</td>\n",
              "      <td>15.0</td>\n",
              "      <td>1.0</td>\n",
              "      <td>0.0</td>\n",
              "      <td>5.0</td>\n",
              "      <td>14.0</td>\n",
              "    </tr>\n",
              "    <tr>\n",
              "      <th>8</th>\n",
              "      <td>1.483273e+06</td>\n",
              "      <td>113.0</td>\n",
              "      <td>3041.0</td>\n",
              "      <td>134</td>\n",
              "      <td>412</td>\n",
              "      <td>30</td>\n",
              "      <td>112</td>\n",
              "      <td>19</td>\n",
              "      <td>4</td>\n",
              "      <td>3</td>\n",
              "      <td>35.0</td>\n",
              "      <td>1.0</td>\n",
              "      <td>2.0</td>\n",
              "      <td>51</td>\n",
              "      <td>38.0</td>\n",
              "      <td>6.0</td>\n",
              "      <td>6.0</td>\n",
              "      <td>1.0</td>\n",
              "      <td>2.0</td>\n",
              "      <td>10.0</td>\n",
              "    </tr>\n",
              "    <tr>\n",
              "      <th>9</th>\n",
              "      <td>2.886368e+05</td>\n",
              "      <td>50.0</td>\n",
              "      <td>1325.0</td>\n",
              "      <td>110</td>\n",
              "      <td>238</td>\n",
              "      <td>22</td>\n",
              "      <td>51</td>\n",
              "      <td>5</td>\n",
              "      <td>0</td>\n",
              "      <td>3</td>\n",
              "      <td>13.0</td>\n",
              "      <td>9.0</td>\n",
              "      <td>5.0</td>\n",
              "      <td>23</td>\n",
              "      <td>28.0</td>\n",
              "      <td>1.0</td>\n",
              "      <td>0.0</td>\n",
              "      <td>0.0</td>\n",
              "      <td>1.0</td>\n",
              "      <td>7.0</td>\n",
              "    </tr>\n",
              "  </tbody>\n",
              "</table>\n",
              "</div>\n",
              "      <button class=\"colab-df-convert\" onclick=\"convertToInteractive('df-58214bfe-7420-4d35-9acd-efb088d4bc73')\"\n",
              "              title=\"Convert this dataframe to an interactive table.\"\n",
              "              style=\"display:none;\">\n",
              "        \n",
              "  <svg xmlns=\"http://www.w3.org/2000/svg\" height=\"24px\"viewBox=\"0 0 24 24\"\n",
              "       width=\"24px\">\n",
              "    <path d=\"M0 0h24v24H0V0z\" fill=\"none\"/>\n",
              "    <path d=\"M18.56 5.44l.94 2.06.94-2.06 2.06-.94-2.06-.94-.94-2.06-.94 2.06-2.06.94zm-11 1L8.5 8.5l.94-2.06 2.06-.94-2.06-.94L8.5 2.5l-.94 2.06-2.06.94zm10 10l.94 2.06.94-2.06 2.06-.94-2.06-.94-.94-2.06-.94 2.06-2.06.94z\"/><path d=\"M17.41 7.96l-1.37-1.37c-.4-.4-.92-.59-1.43-.59-.52 0-1.04.2-1.43.59L10.3 9.45l-7.72 7.72c-.78.78-.78 2.05 0 2.83L4 21.41c.39.39.9.59 1.41.59.51 0 1.02-.2 1.41-.59l7.78-7.78 2.81-2.81c.8-.78.8-2.07 0-2.86zM5.41 20L4 18.59l7.72-7.72 1.47 1.35L5.41 20z\"/>\n",
              "  </svg>\n",
              "      </button>\n",
              "      \n",
              "  <style>\n",
              "    .colab-df-container {\n",
              "      display:flex;\n",
              "      flex-wrap:wrap;\n",
              "      gap: 12px;\n",
              "    }\n",
              "\n",
              "    .colab-df-convert {\n",
              "      background-color: #E8F0FE;\n",
              "      border: none;\n",
              "      border-radius: 50%;\n",
              "      cursor: pointer;\n",
              "      display: none;\n",
              "      fill: #1967D2;\n",
              "      height: 32px;\n",
              "      padding: 0 0 0 0;\n",
              "      width: 32px;\n",
              "    }\n",
              "\n",
              "    .colab-df-convert:hover {\n",
              "      background-color: #E2EBFA;\n",
              "      box-shadow: 0px 1px 2px rgba(60, 64, 67, 0.3), 0px 1px 3px 1px rgba(60, 64, 67, 0.15);\n",
              "      fill: #174EA6;\n",
              "    }\n",
              "\n",
              "    [theme=dark] .colab-df-convert {\n",
              "      background-color: #3B4455;\n",
              "      fill: #D2E3FC;\n",
              "    }\n",
              "\n",
              "    [theme=dark] .colab-df-convert:hover {\n",
              "      background-color: #434B5C;\n",
              "      box-shadow: 0px 1px 3px 1px rgba(0, 0, 0, 0.15);\n",
              "      filter: drop-shadow(0px 1px 2px rgba(0, 0, 0, 0.3));\n",
              "      fill: #FFFFFF;\n",
              "    }\n",
              "  </style>\n",
              "\n",
              "      <script>\n",
              "        const buttonEl =\n",
              "          document.querySelector('#df-58214bfe-7420-4d35-9acd-efb088d4bc73 button.colab-df-convert');\n",
              "        buttonEl.style.display =\n",
              "          google.colab.kernel.accessAllowed ? 'block' : 'none';\n",
              "\n",
              "        async function convertToInteractive(key) {\n",
              "          const element = document.querySelector('#df-58214bfe-7420-4d35-9acd-efb088d4bc73');\n",
              "          const dataTable =\n",
              "            await google.colab.kernel.invokeFunction('convertToInteractive',\n",
              "                                                     [key], {});\n",
              "          if (!dataTable) return;\n",
              "\n",
              "          const docLinkHtml = 'Like what you see? Visit the ' +\n",
              "            '<a target=\"_blank\" href=https://colab.research.google.com/notebooks/data_table.ipynb>data table notebook</a>'\n",
              "            + ' to learn more about interactive tables.';\n",
              "          element.innerHTML = '';\n",
              "          dataTable['output_type'] = 'display_data';\n",
              "          await google.colab.output.renderOutput(dataTable, element);\n",
              "          const docLink = document.createElement('div');\n",
              "          docLink.innerHTML = docLinkHtml;\n",
              "          element.appendChild(docLink);\n",
              "        }\n",
              "      </script>\n",
              "    </div>\n",
              "  </div>\n",
              "  "
            ]
          },
          "metadata": {},
          "execution_count": 15
        }
      ]
    },
    {
      "cell_type": "code",
      "source": [
        "examine_dataset(clean_df)"
      ],
      "metadata": {
        "id": "8rLHDOvd6BsU",
        "colab": {
          "base_uri": "https://localhost:8080/",
          "height": 1000
        },
        "outputId": "cfbbb14e-c71b-4ce8-8ace-3b6701538dd9"
      },
      "execution_count": 16,
      "outputs": [
        {
          "output_type": "stream",
          "name": "stdout",
          "text": [
            "<class 'pandas.core.frame.DataFrame'>\n",
            "RangeIndex: 15023 entries, 0 to 15022\n",
            "Data columns (total 20 columns):\n",
            " #   Column                   Non-Null Count  Dtype  \n",
            "---  ------                   --------------  -----  \n",
            " 0   ADJ Salary               15023 non-null  float64\n",
            " 1   games_started            15023 non-null  float64\n",
            " 2   inning_outs              15023 non-null  float64\n",
            " 3   games_played             15023 non-null  int64  \n",
            " 4   at_bats                  15023 non-null  int64  \n",
            " 5   runs                     15023 non-null  int64  \n",
            " 6   hits                     15023 non-null  int64  \n",
            " 7   doubles                  15023 non-null  int64  \n",
            " 8   triples                  15023 non-null  int64  \n",
            " 9   home_runs                15023 non-null  int64  \n",
            " 10  runs_batted_in           15023 non-null  float64\n",
            " 11  stolen_bases             15023 non-null  float64\n",
            " 12  caught_stealing          15023 non-null  float64\n",
            " 13  base_on_balls            15023 non-null  int64  \n",
            " 14  strike_outs              15023 non-null  float64\n",
            " 15  intentional_walks        15023 non-null  float64\n",
            " 16  hit_by_pitch             15023 non-null  float64\n",
            " 17  sacrifice_hits           15023 non-null  float64\n",
            " 18  sacrifice_flies          15023 non-null  float64\n",
            " 19  ground_into_double_play  15023 non-null  float64\n",
            "dtypes: float64(12), int64(8)\n",
            "memory usage: 2.3 MB\n",
            "None\n",
            "\n",
            "\n",
            "ADJ SALARY VALUE COUNTS: \n",
            " 1.851076e+05    93\n",
            "1.980191e+05    92\n",
            "3.106975e+05    86\n",
            "2.699256e+05    76\n",
            "1.952277e+05    75\n",
            "                ..\n",
            "3.850409e+05     1\n",
            "1.174970e+06     1\n",
            "2.725720e+06     1\n",
            "1.016190e+07     1\n",
            "2.343639e+07     1\n",
            "Name: ADJ Salary, Length: 6779, dtype: int64\n",
            "\n",
            "\n"
          ]
        },
        {
          "output_type": "display_data",
          "data": {
            "text/plain": [
              "<Figure size 1080x1080 with 20 Axes>"
            ],
            "image/png": "[encoded data removed]"
          },
          "metadata": {
            "needs_background": "light"
          }
        }
      ]
    },
    {
      "cell_type": "code",
      "source": [
        "clean_df = round_salaries(clean_df)"
      ],
      "metadata": {
        "id": "4fXLSDX5MDWy"
      },
      "execution_count": 17,
      "outputs": []
    },
    {
      "cell_type": "code",
      "source": [
        "run_regression(clean_df)"
      ],
      "metadata": {
        "id": "G8rhtula6kQq",
        "colab": {
          "base_uri": "https://localhost:8080/"
        },
        "outputId": "ddf78d7e-ce60-49b9-fb58-97cc163930d5"
      },
      "execution_count": 18,
      "outputs": [
        {
          "output_type": "stream",
          "name": "stdout",
          "text": [
            "Linear Regression Training Data Score: 0.2769956425847886\n",
            "Linear Regression Testing Data Score: 0.28064339079672496\n"
          ]
        }
      ]
    },
    {
      "cell_type": "code",
      "source": [
        "run_LASSO(clean_df)"
      ],
      "metadata": {
        "colab": {
          "base_uri": "https://localhost:8080/",
          "height": 465
        },
        "id": "4orh_pkiT70n",
        "outputId": "b4e1e584-cb65-4e37-bdae-b4b550ab2c98"
      },
      "execution_count": 19,
      "outputs": [
        {
          "output_type": "stream",
          "name": "stdout",
          "text": [
            "LASSO coef_: [ 136048.70673927   -4660.01970379  -39811.2290833     8873.62425212\n",
            "   26625.72375985   -2195.7653946   -35111.49371518 -190352.47464784\n",
            "   43070.7329959    -3214.41313454   34548.06035935 -221000.68113443\n",
            "   30274.64165861   -6001.47656088   91942.41047903   63639.36363603\n",
            " -132057.69755912  -26853.68928282   85049.36313329]\n",
            "LASSO Regression Training Data Score: -0.002701828412420504\n",
            "LASSO Regression Testing Data Score: -0.018851279434425994\n"
          ]
        },
        {
          "output_type": "stream",
          "name": "stderr",
          "text": [
            "/usr/local/lib/python3.7/dist-packages/sklearn/base.py:451: UserWarning: X does not have valid feature names, but Lasso was fitted with feature names\n",
            "  \"X does not have valid feature names, but\"\n",
            "/usr/local/lib/python3.7/dist-packages/sklearn/base.py:451: UserWarning: X does not have valid feature names, but Lasso was fitted with feature names\n",
            "  \"X does not have valid feature names, but\"\n"
          ]
        },
        {
          "output_type": "display_data",
          "data": {
            "text/plain": [
              "<Figure size 432x288 with 1 Axes>"
            ],
            "image/png": "[encoded data removed]"
          },
          "metadata": {
            "needs_background": "light"
          }
        }
      ]
    },
    {
      "cell_type": "code",
      "source": [
        "run_Ridge(clean_df)"
      ],
      "metadata": {
        "id": "GiaGvzJqT7pv",
        "colab": {
          "base_uri": "https://localhost:8080/",
          "height": 465
        },
        "outputId": "914ee43b-b18c-46f9-f479-ccc1bc4371ac"
      },
      "execution_count": 20,
      "outputs": [
        {
          "output_type": "stream",
          "name": "stdout",
          "text": [
            "Ridge coef_: [ 135945.89421356   -4656.36728242  -39830.09361161    8873.17032065\n",
            "   26567.70394045   -2199.67374378  -35047.91919949 -189748.64221112\n",
            "   43161.0191241    -3197.40762924   34405.80883471 -220513.21116166\n",
            "   30303.93952445   -6006.82139075   91837.36921094   63603.40372066\n",
            " -131879.57385447  -26755.01429176   85049.64913668]\n",
            "Ridge Regression Training Data Score: -0.0026430971199715714\n",
            "Ridge Regression Testing Data Score: -0.01878556869099235\n"
          ]
        },
        {
          "output_type": "stream",
          "name": "stderr",
          "text": [
            "/usr/local/lib/python3.7/dist-packages/sklearn/base.py:451: UserWarning: X does not have valid feature names, but Ridge was fitted with feature names\n",
            "  \"X does not have valid feature names, but\"\n",
            "/usr/local/lib/python3.7/dist-packages/sklearn/base.py:451: UserWarning: X does not have valid feature names, but Ridge was fitted with feature names\n",
            "  \"X does not have valid feature names, but\"\n"
          ]
        },
        {
          "output_type": "display_data",
          "data": {
            "text/plain": [
              "<Figure size 432x288 with 1 Axes>"
            ],
            "image/png": "[encoded data removed]"
          },
          "metadata": {
            "needs_background": "light"
          }
        }
      ]
    },
    {
      "cell_type": "code",
      "source": [
        "run_ElasticNet(clean_df)"
      ],
      "metadata": {
        "id": "JykORz4IXXwD",
        "colab": {
          "base_uri": "https://localhost:8080/",
          "height": 518
        },
        "outputId": "56fc8b64-4e88-424e-b7ac-2cb96fc6215a"
      },
      "execution_count": 21,
      "outputs": [
        {
          "output_type": "stream",
          "name": "stderr",
          "text": [
            "/usr/local/lib/python3.7/dist-packages/sklearn/linear_model/_coordinate_descent.py:648: ConvergenceWarning: Objective did not converge. You might want to increase the number of iterations, check the scale of the features or consider increasing regularisation. Duality gap: 8.135e+16, tolerance: 2.197e+13\n",
            "  coef_, l1_reg, l2_reg, X, y, max_iter, tol, rng, random, positive\n",
            "/usr/local/lib/python3.7/dist-packages/sklearn/base.py:451: UserWarning: X does not have valid feature names, but ElasticNet was fitted with feature names\n",
            "  \"X does not have valid feature names, but\"\n",
            "/usr/local/lib/python3.7/dist-packages/sklearn/base.py:451: UserWarning: X does not have valid feature names, but ElasticNet was fitted with feature names\n",
            "  \"X does not have valid feature names, but\"\n"
          ]
        },
        {
          "output_type": "stream",
          "name": "stdout",
          "text": [
            "ElasticNet coef_: [  94900.01274713   -3167.09635556  -45542.2879392     8835.40627425\n",
            "   13769.74275108   -2301.99329254  -19307.15233999  -74095.33453524\n",
            "   50778.17510996    7991.5099891     -798.70749215 -101819.86197304\n",
            "   37392.04229107   -6457.37244263   58556.51398807   43817.72740621\n",
            "  -77225.56667606  -10915.75595809   67983.34573226]\n",
            "ElasticNet Regression Training Data Score: -0.0021067508202674556\n",
            "ElasticNet Regression Testing Data Score: -0.016850884607542804\n"
          ]
        },
        {
          "output_type": "display_data",
          "data": {
            "text/plain": [
              "<Figure size 432x288 with 1 Axes>"
            ],
            "image/png": "[encoded data removed]"
          },
          "metadata": {
            "needs_background": "light"
          }
        }
      ]
    },
    {
      "cell_type": "markdown",
      "source": [
        "# **LINEAR REGRESSION BLOCK END**"
      ],
      "metadata": {
        "id": "Ce7JyQeICdbH"
      }
    },
    {
      "cell_type": "markdown",
      "source": [
        "# **PCA START BLOCK**"
      ],
      "metadata": {
        "id": "u9JUY6qOOjLi"
      }
    },
    {
      "cell_type": "code",
      "source": [],
      "metadata": {
        "id": "gAFcwdrgO25v"
      },
      "execution_count": null,
      "outputs": []
    },
    {
      "cell_type": "code",
      "source": [],
      "metadata": {
        "id": "CGmcFEQhO22r"
      },
      "execution_count": null,
      "outputs": []
    },
    {
      "cell_type": "code",
      "source": [],
      "metadata": {
        "id": "9v14TjYmO2zh"
      },
      "execution_count": null,
      "outputs": []
    },
    {
      "cell_type": "code",
      "source": [],
      "metadata": {
        "id": "322m-0F2O2w3"
      },
      "execution_count": null,
      "outputs": []
    },
    {
      "cell_type": "code",
      "source": [],
      "metadata": {
        "id": "RQbjP2STO2uP"
      },
      "execution_count": null,
      "outputs": []
    },
    {
      "cell_type": "code",
      "source": [],
      "metadata": {
        "id": "wMQLM1m2O2rT"
      },
      "execution_count": null,
      "outputs": []
    },
    {
      "cell_type": "code",
      "source": [],
      "metadata": {
        "id": "fJqsCksJO2oY"
      },
      "execution_count": null,
      "outputs": []
    },
    {
      "cell_type": "code",
      "source": [],
      "metadata": {
        "id": "m3jL122GO2kp"
      },
      "execution_count": null,
      "outputs": []
    },
    {
      "cell_type": "code",
      "source": [],
      "metadata": {
        "id": "K6XEp9bsO2g5"
      },
      "execution_count": null,
      "outputs": []
    },
    {
      "cell_type": "markdown",
      "source": [
        "# **PCA END BLOCK**\n"
      ],
      "metadata": {
        "id": "zEvpwO7dHppe"
      }
    }
  ]
}