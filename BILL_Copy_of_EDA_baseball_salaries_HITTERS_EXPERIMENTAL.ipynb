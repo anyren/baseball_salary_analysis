{
 "cells": [
  {
   "cell_type": "markdown",
   "metadata": {
    "id": "5GRNIQY9CF2t"
   },
   "source": [
    "# **LINEAR REGRESSION BLOCK START**"
   ]
  },
  {
   "cell_type": "code",
   "execution_count": null,
   "metadata": {
    "id": "qj4WNzSo5BS-"
   },
   "outputs": [],
   "source": [
    "# Import dependencies\n",
    "\n",
    "import matplotlib.pyplot as plt\n",
    "import numpy as np\n",
    "import pandas as pd\n",
    "\n",
    "from sklearn.ensemble import RandomForestClassifier\n",
    "from sklearn.feature_selection import SelectFromModel\n",
    "from sklearn.linear_model import LinearRegression, Ridge, Lasso, ElasticNet\n",
    "from sklearn.metrics import confusion_matrix, classification_report, mean_squared_error, r2_score\n",
    "from sklearn.model_selection import train_test_split\n",
    "from sklearn.preprocessing import StandardScaler\n",
    "\n",
    "pd.set_option('display.max_rows', 500)\n",
    "pd.set_option('display.max_columns', 500)\n",
    "pd.set_option('display.width', 1000)"
   ]
  },
  {
   "cell_type": "code",
   "execution_count": null,
   "metadata": {},
   "outputs": [],
   "source": [
    "import warnings\n",
    "warnings.filterwarnings('ignore')"
   ]
  },
  {
   "cell_type": "code",
   "execution_count": null,
   "metadata": {
    "id": "ntbPKBeR62LH"
   },
   "outputs": [],
   "source": [
    "def load_dataset():\n",
    "    \"\"\" Reads dataset csv and returns pandas dataframe \"\"\"\n",
    "    \n",
    "    filepath = \"Hitters_Adjusted_Salary.csv\"\n",
    "\n",
    "    df = pd.read_csv(filepath, encoding=\"utf-8\", low_memory=False)\n",
    "    \n",
    "    return df"
   ]
  },
  {
   "cell_type": "code",
   "execution_count": null,
   "metadata": {
    "id": "Ek0pVe525VXx"
   },
   "outputs": [],
   "source": [
    "def clean_dataset(a_df):\n",
    "    \"\"\" Returns deduped, na-dropped, index-reset dataframe \"\"\"    \n",
    "    \n",
    "    a_df = a_df.drop_duplicates()   \n",
    "        \n",
    "    a_df = a_df.dropna()\n",
    "    \n",
    "    a_df = a_df.drop([\"Unnamed: 0\", \"playerID\", \"teamID\", \"lgID\", \"salary\", \"PO\", \"A\", \"E\", \"DP\"], axis=1)\n",
    "    \n",
    "    totalhits = a_df[\"H\"]\n",
    "    doubles = a_df[\"2B\"]\n",
    "    triples = a_df[\"3B\"]\n",
    "    homeruns = a_df[\"HR\"]\n",
    "    atbats = a_df[\"AB\"]\n",
    "    walks = a_df[\"BB\"]\n",
    "    hit_by_pitch = a_df[\"HBP\"]\n",
    "    sac_hits = a_df[\"SH\"]\n",
    "    sac_flies = a_df[\"SF\"]\n",
    "    singles = (totalhits - homeruns - triples - doubles)\n",
    "        \n",
    "    a_df[\"slug_%\"] = (singles + 2*doubles + 3*triples + 4*homeruns) / atbats\n",
    "    a_df[\"slug_%\"] = a_df[\"slug_%\"].fillna(0)\n",
    "    a_df[\"avg\"] = totalhits / atbats\n",
    "    a_df[\"avg\"] = a_df[\"avg\"].fillna(0)\n",
    "    a_df[\"plate_appearances\"] = atbats + walks + hit_by_pitch + sac_hits + sac_flies\n",
    "    a_df[\"avg\"] = a_df[\"avg\"].fillna(0)\n",
    "    a_df[\"on_base_%\"] = (totalhits + walks + hit_by_pitch) / (atbats + walks + hit_by_pitch + sac_flies)\n",
    "    a_df[\"on_base_%\"] = a_df[\"on_base_%\"].fillna(0)\n",
    "    a_df[\"1B\"] = singles\n",
    "    a_df[\"1B\"] = a_df[\"1B\"].fillna(0)\n",
    "    a_df[\"year_for_salary\"] = a_df[\"yearID\"] + 1 \n",
    "    a_df = a_df.drop([\"yearID\"], axis=1)\n",
    "     \n",
    "    a_df = a_df.reset_index(drop=True)\n",
    "    \n",
    "    return a_df  "
   ]
  },
  {
   "cell_type": "code",
   "execution_count": null,
   "metadata": {
    "id": "8FmJFtEM6CEt"
   },
   "outputs": [],
   "source": [
    "def rename_columns(a_df):\n",
    "    \"\"\" Returns dataframe with meaningful column names \"\"\"    \n",
    "    \n",
    "    abbr_dict = {\"GS\": \"games_started\", \"InnOuts\": \"inning_outs\", \"G\": \"games_played\", \"AB\": \"at_bats\",\\\n",
    "                \"R\": \"runs\", \"H\": \"total_hits\", \"1B\": \"singles\", \"2B\": \"doubles\", \"3B\": \"triples\", \"HR\": \"home_runs\",\\\n",
    "                \"RBI\": \"runs_batted_in\", \"SB\": \"stolen_bases\", \"CS\": \"caught_stealing\", \"BB\": \"base_on_balls\",\\\n",
    "                \"SO\": \"strike_outs\", \"IBB\": \"intentional_walks\", \"HBP\": \"hit_by_pitch\", \"SH\": \"sacrifice_hits\",\\\n",
    "                \"SF\": \"sacrifice_flies\", \"GIDP\": \"ground_into_double_play\"}\n",
    "    \n",
    "    a_df = a_df.rename(columns=abbr_dict)\n",
    "    \n",
    "    return a_df   "
   ]
  },
  {
   "cell_type": "code",
   "execution_count": null,
   "metadata": {
    "id": "DAVtVH546CA7"
   },
   "outputs": [],
   "source": [
    "def examine_dataset(a_df):\n",
    "    \"\"\" Provides summary info and visualizations of dataset \"\"\"\n",
    "    \n",
    "    print(a_df.info())\n",
    "          \n",
    "    a_df.hist(figsize = (15, 15))  "
   ]
  },
  {
   "cell_type": "code",
   "execution_count": null,
   "metadata": {
    "id": "F-p82_9PMIr5"
   },
   "outputs": [],
   "source": [
    "def round_salaries(a_df):\n",
    "    \"\"\" Returns dataframe with salary column made into int and rounded \"\"\"\n",
    "\n",
    "    a_df[\"ADJ Salary\"] = a_df[\"ADJ Salary\"].astype(\"int\").round()\n",
    "\n",
    "    return a_df"
   ]
  },
  {
   "cell_type": "code",
   "execution_count": null,
   "metadata": {
    "id": "VSEbcYUtMHW9"
   },
   "outputs": [],
   "source": [
    "def run_regression(a_df, salary_col_name=\"ADJ Salary\"):\n",
    "    \"\"\" Runs linear regression on dataframe, prints model scores \"\"\"\n",
    "\n",
    "    # Assign X and y\n",
    "\n",
    "    X = a_df.drop([salary_col_name], axis=1)\n",
    "    y = a_df[salary_col_name]\n",
    "    \n",
    "    # Split the data into X_train, X_test, y_train, y_test\n",
    "\n",
    "    X_train, X_test, y_train, y_test = train_test_split(X, y, random_state=0)\n",
    "\n",
    "    # Create a scaler to standardize the data\n",
    "\n",
    "    scaler = StandardScaler()\n",
    "\n",
    "    # Train the scaler with the X_train data.\n",
    "\n",
    "    scaler.fit(X_train)\n",
    "\n",
    "    # Transform X_train and X_test.\n",
    "\n",
    "    X_train_scaled = scaler.transform(X_train)\n",
    "    X_test_scaled = scaler.transform(X_test)\n",
    "    \n",
    "    model = LinearRegression().fit(X_train_scaled, y_train)\n",
    "    \n",
    "    predicted = model.predict(X_test_scaled)\n",
    "    mse = mean_squared_error(y_test, predicted)\n",
    "    r2 = r2_score(y_test, predicted)\n",
    "    \n",
    "    print(f\"MSE: {mse}\")\n",
    "    print(f\"R2: {r2}\") \n",
    "    \n",
    "    # Score the model\n",
    "\n",
    "    print(f\"Linear Regression Training Data Score: {model.score(X_train_scaled, y_train)}\")\n",
    "    print(f\"Linear Regression Testing Data Score: {model.score(X_test_scaled, y_test)}\")  \n",
    "    \n",
    "    plt.bar(np.arange(len(model.coef_)), model.coef_)\n",
    "    plt.title(f'Linear Regression coefficient plot')\n",
    "    plt.show()  "
   ]
  },
  {
   "cell_type": "code",
   "execution_count": null,
   "metadata": {
    "id": "s0v5biYOVOMC"
   },
   "outputs": [],
   "source": [
    "def run_LASSO(a_df):\n",
    "    \"\"\" Runs LASSO regression on dataframe, prints model scores \"\"\"\n",
    "\n",
    "    # Assign X and y\n",
    "\n",
    "    X = a_df.drop([\"log_of_salary\"], axis=1)\n",
    "    y = a_df[\"log_of_salary\"]\n",
    "    \n",
    "    # Split the data into X_train, X_test, y_train, y_test\n",
    "\n",
    "    X_train, X_test, y_train, y_test = train_test_split(X, y, random_state=0)\n",
    "\n",
    "    # Create a scaler to standardize the data\n",
    "\n",
    "    scaler = StandardScaler()\n",
    "\n",
    "    # Train the scaler with the X_train data.\n",
    "\n",
    "    scaler.fit(X_train)\n",
    "\n",
    "    # Transform X_train and X_test.\n",
    "\n",
    "    X_train_scaled = scaler.transform(X_train)\n",
    "    X_test_scaled = scaler.transform(X_test)\n",
    "\n",
    "    lasso_reg = Lasso().fit(X_train, y_train)\n",
    "\n",
    "    predicted = lasso_reg.predict(X_test_scaled)\n",
    "    mse = mean_squared_error(y_test, predicted)\n",
    "    r2 = r2_score(y_test, predicted)\n",
    "    \n",
    "    print(f\"MSE: {mse}\")\n",
    "    print(f\"R2: {r2}\") \n",
    "\n",
    "    # Score the model\n",
    "\n",
    "    print(f\"LASSO Regression Training Data Score: {lasso_reg.score(X_train_scaled, y_train)}\")\n",
    "    print(f\"LASSO Regression Testing Data Score: {lasso_reg.score(X_test_scaled, y_test)}\")\n",
    "    \n",
    "    plt.bar(np.arange(len(lasso_reg.coef_)), lasso_reg.coef_)\n",
    "    plt.title(f'LASSO Regression coefficient plot')\n",
    "    plt.show()  \n",
    "    \n",
    "    sel = SelectFromModel(lasso_reg)\n",
    "    sel.fit(X_train_scaled, y_train)\n",
    "    SelectFromModel(estimator=Lasso())\n",
    "    \n",
    "    X_selected_train, X_selected_test, y_train, y_test = train_test_split(sel.transform(X), y, random_state=1)\n",
    "    \n",
    "    scaler = StandardScaler().fit(X_selected_train)\n",
    "    \n",
    "    X_selected_train_scaled = scaler.transform(X_selected_train)\n",
    "    X_selected_test_scaled = scaler.transform(X_selected_test)\n",
    "\n",
    "    new_lasso_reg = LinearRegression().fit(X_selected_train_scaled, y_train)\n",
    "    print(f\"New linear regression score: {new_lasso_reg.score(X_selected_test_scaled, y_test)}\")"
   ]
  },
  {
   "cell_type": "code",
   "execution_count": null,
   "metadata": {
    "id": "D9ticIYpWauQ"
   },
   "outputs": [],
   "source": [
    "def run_Ridge(a_df):\n",
    "    \"\"\" Runs Ridge regression on dataframe, prints model scores \"\"\"\n",
    "\n",
    "    # Assign X and y\n",
    "\n",
    "    X = a_df.drop([\"log_of_salary\"], axis=1)\n",
    "    y = a_df[\"log_of_salary\"]\n",
    "    \n",
    "    # Split the data into X_train, X_test, y_train, y_test\n",
    "\n",
    "    X_train, X_test, y_train, y_test = train_test_split(X, y, random_state=0)\n",
    "\n",
    "    # Create a scaler to standardize the data\n",
    "\n",
    "    scaler = StandardScaler()\n",
    "\n",
    "    # Train the scaler with the X_train data.\n",
    "\n",
    "    scaler.fit(X_train)\n",
    "\n",
    "    # Transform X_train and X_test.\n",
    "\n",
    "    X_train_scaled = scaler.transform(X_train)\n",
    "    X_test_scaled = scaler.transform(X_test)\n",
    "\n",
    "    ridge_reg = Ridge().fit(X_train, y_train)\n",
    "\n",
    "    predicted = ridge_reg.predict(X_test_scaled)\n",
    "    mse = mean_squared_error(y_test, predicted)\n",
    "    r2 = r2_score(y_test, predicted)\n",
    "    \n",
    "    print(f\"MSE: {mse}\")\n",
    "    print(f\"R2: {r2}\") \n",
    "\n",
    "    # Score the model\n",
    "\n",
    "    print(f\"Ridge Regression Training Data Score: {ridge_reg.score(X_train_scaled, y_train)}\")\n",
    "    print(f\"Ridge Regression Testing Data Score: {ridge_reg.score(X_test_scaled, y_test)}\")\n",
    "\n",
    "    plt.bar(np.arange(len(ridge_reg.coef_)), ridge_reg.coef_)\n",
    "    plt.title(f'Ridge Regression coefficient plot')\n",
    "    plt.show()     \n",
    "    \n",
    "    sel = SelectFromModel(ridge_reg)\n",
    "    sel.fit(X_train_scaled, y_train)\n",
    "    SelectFromModel(estimator=Ridge())\n",
    "    \n",
    "    X_selected_train, X_selected_test, y_train, y_test = train_test_split(sel.transform(X), y, random_state=1)\n",
    "    \n",
    "    scaler = StandardScaler().fit(X_selected_train)\n",
    "    \n",
    "    X_selected_train_scaled = scaler.transform(X_selected_train)\n",
    "    X_selected_test_scaled = scaler.transform(X_selected_test)\n",
    "\n",
    "    new_ridge_reg = LinearRegression().fit(X_selected_train_scaled, y_train)\n",
    "    print(f\"New linear regression score: {new_ridge_reg.score(X_selected_test_scaled, y_test)}\")"
   ]
  },
  {
   "cell_type": "code",
   "execution_count": null,
   "metadata": {
    "id": "-Y0HJk7TX2XY"
   },
   "outputs": [],
   "source": [
    "def run_ElasticNet(a_df):\n",
    "    \"\"\" Runs ElasticNet regression on dataframe, prints model scores \"\"\"\n",
    "\n",
    "    # Assign X and y\n",
    "\n",
    "    X = a_df.drop([\"log_of_salary\"], axis=1)\n",
    "    y = a_df[\"log_of_salary\"]\n",
    "    \n",
    "    # Split the data into X_train, X_test, y_train, y_test\n",
    "\n",
    "    X_train, X_test, y_train, y_test = train_test_split(X, y, random_state=0)\n",
    "\n",
    "    # Create a scaler to standardize the data\n",
    "\n",
    "    scaler = StandardScaler()\n",
    "\n",
    "    # Train the scaler with the X_train data.\n",
    "\n",
    "    scaler.fit(X_train)\n",
    "\n",
    "    # Transform X_train and X_test.\n",
    "\n",
    "    X_train_scaled = scaler.transform(X_train)\n",
    "    X_test_scaled = scaler.transform(X_test)\n",
    "\n",
    "    elasticnet_reg = ElasticNet().fit(X_train, y_train)\n",
    "      \n",
    "    predicted = elasticnet_reg.predict(X_test_scaled)\n",
    "    mse = mean_squared_error(y_test, predicted)\n",
    "    r2 = r2_score(y_test, predicted)\n",
    "    \n",
    "    print(f\"MSE: {mse}\")\n",
    "    print(f\"R2: {r2}\") \n",
    "\n",
    "    # Score the model\n",
    "\n",
    "    print(f\"ElasticNet Regression Training Data Score: {elasticnet_reg.score(X_train_scaled, y_train)}\")\n",
    "    print(f\"ElasticNet Regression Testing Data Score: {elasticnet_reg.score(X_test_scaled, y_test)}\")\n",
    "    \n",
    "    plt.bar(np.arange(len(elasticnet_reg.coef_)), elasticnet_reg.coef_)\n",
    "    plt.title(f'ElasticNet Regression coefficient plot')\n",
    "    plt.show()  \n",
    "    \n",
    "    sel = SelectFromModel(elasticnet_reg)\n",
    "    sel.fit(X_train_scaled, y_train)\n",
    "    SelectFromModel(estimator=ElasticNet())\n",
    "    \n",
    "    X_selected_train, X_selected_test, y_train, y_test = train_test_split(sel.transform(X), y, random_state=1)\n",
    "    \n",
    "    scaler = StandardScaler().fit(X_selected_train)\n",
    "    \n",
    "    X_selected_train_scaled = scaler.transform(X_selected_train)\n",
    "    X_selected_test_scaled = scaler.transform(X_selected_test)\n",
    "\n",
    "    new_elasticnet_reg = LinearRegression().fit(X_selected_train_scaled, y_train)\n",
    "    print(f\"New linear regression score: {new_elasticnet_reg.score(X_selected_test_scaled, y_test)}\")"
   ]
  },
  {
   "cell_type": "code",
   "execution_count": null,
   "metadata": {
    "id": "jLvx-UhO6B6B"
   },
   "outputs": [],
   "source": [
    "loaded_df = load_dataset()"
   ]
  },
  {
   "cell_type": "code",
   "execution_count": null,
   "metadata": {},
   "outputs": [],
   "source": [
    "loaded_df[\"ADJ Salary\"] = loaded_df[\"ADJ Salary\"].astype(int)\n",
    "\n",
    "loaded_df = loaded_df.loc[~(loaded_df[\"ADJ Salary\"] <= 0), :]"
   ]
  },
  {
   "cell_type": "code",
   "execution_count": null,
   "metadata": {},
   "outputs": [],
   "source": [
    "loaded_df.info()"
   ]
  },
  {
   "cell_type": "code",
   "execution_count": null,
   "metadata": {},
   "outputs": [],
   "source": [
    "loaded_df.sample(100)"
   ]
  },
  {
   "cell_type": "code",
   "execution_count": null,
   "metadata": {},
   "outputs": [],
   "source": []
  },
  {
   "cell_type": "code",
   "execution_count": null,
   "metadata": {},
   "outputs": [],
   "source": []
  },
  {
   "cell_type": "code",
   "execution_count": null,
   "metadata": {
    "id": "TfKf6O_86B2d"
   },
   "outputs": [],
   "source": [
    "clean_df = clean_dataset(loaded_df)"
   ]
  },
  {
   "cell_type": "code",
   "execution_count": null,
   "metadata": {
    "id": "7RrBoBrk6BzW"
   },
   "outputs": [],
   "source": [
    "clean_df = rename_columns(clean_df)"
   ]
  },
  {
   "cell_type": "code",
   "execution_count": null,
   "metadata": {
    "colab": {
     "base_uri": "https://localhost:8080/",
     "height": 427
    },
    "id": "N8VbFslH6Bvr",
    "outputId": "8cc77bb2-8eff-4af2-8ad0-62a6b8467686"
   },
   "outputs": [],
   "source": [
    "clean_df.head(10)"
   ]
  },
  {
   "cell_type": "code",
   "execution_count": null,
   "metadata": {
    "colab": {
     "base_uri": "https://localhost:8080/",
     "height": 1000
    },
    "id": "8rLHDOvd6BsU",
    "outputId": "cfbbb14e-c71b-4ce8-8ace-3b6701538dd9"
   },
   "outputs": [],
   "source": [
    "examine_dataset(clean_df)"
   ]
  },
  {
   "cell_type": "code",
   "execution_count": null,
   "metadata": {
    "id": "4fXLSDX5MDWy"
   },
   "outputs": [],
   "source": [
    "clean_df = round_salaries(clean_df)"
   ]
  },
  {
   "cell_type": "code",
   "execution_count": null,
   "metadata": {},
   "outputs": [],
   "source": [
    "clean_df[\"log_of_salary\"] = np.log(clean_df[\"ADJ Salary\"])"
   ]
  },
  {
   "cell_type": "code",
   "execution_count": null,
   "metadata": {},
   "outputs": [],
   "source": [
    "clean_df[\"log_of_salary\"].describe()"
   ]
  },
  {
   "cell_type": "code",
   "execution_count": null,
   "metadata": {
    "colab": {
     "base_uri": "https://localhost:8080/"
    },
    "id": "G8rhtula6kQq",
    "outputId": "ddf78d7e-ce60-49b9-fb58-97cc163930d5"
   },
   "outputs": [],
   "source": [
    "run_regression(clean_df, \"ADJ Salary\")"
   ]
  },
  {
   "cell_type": "code",
   "execution_count": null,
   "metadata": {},
   "outputs": [],
   "source": [
    "run_regression(clean_df, \"log_of_salary\")"
   ]
  },
  {
   "cell_type": "code",
   "execution_count": null,
   "metadata": {
    "colab": {
     "base_uri": "https://localhost:8080/",
     "height": 465
    },
    "id": "4orh_pkiT70n",
    "outputId": "b4e1e584-cb65-4e37-bdae-b4b550ab2c98"
   },
   "outputs": [],
   "source": [
    "run_LASSO(clean_df)"
   ]
  },
  {
   "cell_type": "code",
   "execution_count": null,
   "metadata": {
    "colab": {
     "base_uri": "https://localhost:8080/",
     "height": 465
    },
    "id": "GiaGvzJqT7pv",
    "outputId": "914ee43b-b18c-46f9-f479-ccc1bc4371ac"
   },
   "outputs": [],
   "source": [
    "run_Ridge(clean_df)"
   ]
  },
  {
   "cell_type": "code",
   "execution_count": null,
   "metadata": {
    "colab": {
     "base_uri": "https://localhost:8080/",
     "height": 518
    },
    "id": "JykORz4IXXwD",
    "outputId": "56fc8b64-4e88-424e-b7ac-2cb96fc6215a"
   },
   "outputs": [],
   "source": [
    "run_ElasticNet(clean_df)"
   ]
  },
  {
   "cell_type": "markdown",
   "metadata": {},
   "source": [
    "# Results:\n",
    "\n",
    "- Using the logarithm of the ADJ Salary column values improved the regression score\n",
    "    - I had to eliminate any salary values <= 0 to make this work\n",
    "- Ridge regression achieved the best score: 0.7291495360671353"
   ]
  },
  {
   "cell_type": "markdown",
   "metadata": {},
   "source": [
    "# To Do:\n",
    "\n",
    "- Add / remove features from the dataset?\n"
   ]
  },
  {
   "cell_type": "markdown",
   "metadata": {
    "id": "Ce7JyQeICdbH"
   },
   "source": [
    "# **LINEAR REGRESSION BLOCK END**"
   ]
  },
  {
   "cell_type": "markdown",
   "metadata": {
    "id": "u9JUY6qOOjLi"
   },
   "source": [
    "# **PCA START BLOCK**"
   ]
  },
  {
   "cell_type": "code",
   "execution_count": null,
   "metadata": {
    "id": "gAFcwdrgO25v"
   },
   "outputs": [],
   "source": []
  },
  {
   "cell_type": "code",
   "execution_count": null,
   "metadata": {
    "id": "CGmcFEQhO22r"
   },
   "outputs": [],
   "source": []
  },
  {
   "cell_type": "code",
   "execution_count": null,
   "metadata": {
    "id": "9v14TjYmO2zh"
   },
   "outputs": [],
   "source": []
  },
  {
   "cell_type": "code",
   "execution_count": null,
   "metadata": {
    "id": "322m-0F2O2w3"
   },
   "outputs": [],
   "source": []
  },
  {
   "cell_type": "code",
   "execution_count": null,
   "metadata": {
    "id": "RQbjP2STO2uP"
   },
   "outputs": [],
   "source": []
  },
  {
   "cell_type": "code",
   "execution_count": null,
   "metadata": {
    "id": "wMQLM1m2O2rT"
   },
   "outputs": [],
   "source": []
  },
  {
   "cell_type": "code",
   "execution_count": null,
   "metadata": {
    "id": "fJqsCksJO2oY"
   },
   "outputs": [],
   "source": []
  },
  {
   "cell_type": "code",
   "execution_count": null,
   "metadata": {
    "id": "m3jL122GO2kp"
   },
   "outputs": [],
   "source": []
  },
  {
   "cell_type": "code",
   "execution_count": null,
   "metadata": {
    "id": "K6XEp9bsO2g5"
   },
   "outputs": [],
   "source": []
  },
  {
   "cell_type": "markdown",
   "metadata": {
    "id": "zEvpwO7dHppe"
   },
   "source": [
    "# **PCA END BLOCK**\n"
   ]
  }
 ],
 "metadata": {
  "colab": {
   "provenance": []
  },
  "kernelspec": {
   "display_name": "Python 3 (ipykernel)",
   "language": "python",
   "name": "python3"
  },
  "language_info": {
   "codemirror_mode": {
    "name": "ipython",
    "version": 3
   },
   "file_extension": ".py",
   "mimetype": "text/x-python",
   "name": "python",
   "nbconvert_exporter": "python",
   "pygments_lexer": "ipython3",
   "version": "3.8.13"
  }
 },
 "nbformat": 4,
 "nbformat_minor": 1
}
