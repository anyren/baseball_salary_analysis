{
 "cells": [
  {
   "cell_type": "markdown",
   "id": "85420be1",
   "metadata": {},
   "source": [
    "# EDA STARTER"
   ]
  },
  {
   "cell_type": "code",
   "execution_count": null,
   "id": "d75d7c37",
   "metadata": {},
   "outputs": [],
   "source": [
    "# Import dependencies\n",
    "\n",
    "import matplotlib.pyplot as plt\n",
    "import numpy as np\n",
    "import pandas as pd\n",
    "import seaborn as sns\n",
    "\n",
    "from sklearn.ensemble import RandomForestClassifier\n",
    "from sklearn.feature_selection import SelectFromModel\n",
    "from sklearn.linear_model import LinearRegression, Ridge, Lasso, ElasticNet\n",
    "from sklearn.metrics import confusion_matrix, classification_report, mean_squared_error, r2_score\n",
    "from sklearn.model_selection import train_test_split\n",
    "from sklearn.preprocessing import StandardScaler, normalize, MinMaxScaler\n",
    "\n",
    "pd.set_option('display.max_rows', 500)\n",
    "pd.set_option('display.max_columns', 500)\n",
    "pd.set_option('display.width', 1000)"
   ]
  },
  {
   "cell_type": "code",
   "execution_count": null,
   "id": "f586b308",
   "metadata": {},
   "outputs": [],
   "source": [
    "import warnings\n",
    "warnings.filterwarnings('ignore')"
   ]
  },
  {
   "cell_type": "code",
   "execution_count": null,
   "id": "11df4e76",
   "metadata": {},
   "outputs": [],
   "source": [
    "df = pd.read_csv(\"Hitters_Adjusted_Salary.csv\")"
   ]
  },
  {
   "cell_type": "code",
   "execution_count": null,
   "id": "1836bb14",
   "metadata": {},
   "outputs": [],
   "source": [
    "df.info()"
   ]
  },
  {
   "cell_type": "code",
   "execution_count": null,
   "id": "e7159e13",
   "metadata": {},
   "outputs": [],
   "source": [
    "df.sample(25)"
   ]
  },
  {
   "cell_type": "code",
   "execution_count": null,
   "id": "bfac6974",
   "metadata": {},
   "outputs": [],
   "source": [
    "corr = df.corr()\n",
    "corr = corr.style.background_gradient(cmap='Purples')\n",
    "corr"
   ]
  },
  {
   "cell_type": "code",
   "execution_count": null,
   "id": "b9704d03",
   "metadata": {},
   "outputs": [],
   "source": [
    "df = df[[\"yearID\", \"playerID\", \"teamID\", \"GS\", \"AB\", \"R\", \"H\", \"2B\", \"GIDP\", \"IBB\", \"BB\", \"RBI\", \"HR\", \"ADJ Salary\"]]"
   ]
  },
  {
   "cell_type": "code",
   "execution_count": null,
   "id": "fb8c92d3",
   "metadata": {},
   "outputs": [],
   "source": [
    "df"
   ]
  },
  {
   "cell_type": "code",
   "execution_count": null,
   "id": "6bba12f3",
   "metadata": {},
   "outputs": [],
   "source": [
    "df[\"ADJ Salary\"] = df[\"ADJ Salary\"].astype(\"int\").round()"
   ]
  },
  {
   "cell_type": "code",
   "execution_count": null,
   "id": "775cfd4e",
   "metadata": {},
   "outputs": [],
   "source": [
    "df = df.drop_duplicates(subset=[\"yearID\", \"playerID\"]).reset_index(drop=True)\n",
    "df"
   ]
  },
  {
   "cell_type": "code",
   "execution_count": null,
   "id": "2f9af385",
   "metadata": {},
   "outputs": [],
   "source": [
    "df.duplicated(subset=[\"yearID\", \"playerID\", \"teamID\"]).value_counts()"
   ]
  },
  {
   "cell_type": "code",
   "execution_count": null,
   "id": "8c8ffc49",
   "metadata": {},
   "outputs": [],
   "source": [
    "df.to_csv(\"cleaned_hitter.csv\", index=False)"
   ]
  },
  {
   "cell_type": "code",
   "execution_count": null,
   "id": "12b0cb02",
   "metadata": {},
   "outputs": [],
   "source": [
    "df.info()"
   ]
  },
  {
   "cell_type": "code",
   "execution_count": null,
   "id": "55b74f42",
   "metadata": {},
   "outputs": [],
   "source": [
    "df[\"yearID\"].value_counts()"
   ]
  },
  {
   "cell_type": "code",
   "execution_count": null,
   "id": "dba7d7b8",
   "metadata": {},
   "outputs": [],
   "source": [
    "df[\"playerID\"].value_counts()"
   ]
  },
  {
   "cell_type": "code",
   "execution_count": null,
   "id": "c5c8a319",
   "metadata": {},
   "outputs": [],
   "source": [
    "df[\"teamID\"].value_counts()"
   ]
  },
  {
   "cell_type": "code",
   "execution_count": null,
   "id": "a0645b8d",
   "metadata": {},
   "outputs": [],
   "source": [
    "df[\"H\"].value_counts() "
   ]
  },
  {
   "cell_type": "code",
   "execution_count": null,
   "id": "575591af",
   "metadata": {},
   "outputs": [],
   "source": [
    "df[\"R\"].value_counts() "
   ]
  },
  {
   "cell_type": "code",
   "execution_count": null,
   "id": "4568c17e",
   "metadata": {},
   "outputs": [],
   "source": [
    "df[\"RBI\"].value_counts() "
   ]
  },
  {
   "cell_type": "code",
   "execution_count": null,
   "id": "fd662f9d",
   "metadata": {},
   "outputs": [],
   "source": [
    "df[\"AB\"].value_counts() "
   ]
  },
  {
   "cell_type": "code",
   "execution_count": null,
   "id": "258ceab6",
   "metadata": {},
   "outputs": [],
   "source": [
    "df[\"ADJ Salary\"].value_counts() "
   ]
  },
  {
   "cell_type": "code",
   "execution_count": null,
   "id": "88286ef3",
   "metadata": {},
   "outputs": [],
   "source": [
    "new_df = df.copy()"
   ]
  },
  {
   "cell_type": "markdown",
   "id": "e500d27f",
   "metadata": {},
   "source": [
    "# Visualizations"
   ]
  },
  {
   "cell_type": "code",
   "execution_count": null,
   "id": "60929d8a",
   "metadata": {},
   "outputs": [],
   "source": [
    "corr = df.corr()\n",
    "corr = corr.style.background_gradient(cmap='Purples')\n",
    "corr"
   ]
  },
  {
   "cell_type": "code",
   "execution_count": null,
   "id": "56e81252",
   "metadata": {},
   "outputs": [],
   "source": [
    "df.hist(figsize = (15, 15))  "
   ]
  },
  {
   "cell_type": "code",
   "execution_count": null,
   "id": "abd58f55",
   "metadata": {},
   "outputs": [],
   "source": [
    "sns.PairGrid(df[[\"GS\", \"AB\", \"R\", \"H\", \"2B\", \"GIDP\", \"IBB\", \"BB\", \"RBI\", \"HR\", \"ADJ Salary\"]]).map_upper(plt.scatter)"
   ]
  },
  {
   "cell_type": "markdown",
   "id": "109de76c",
   "metadata": {},
   "source": [
    "# Vanilla LR"
   ]
  },
  {
   "cell_type": "code",
   "execution_count": null,
   "id": "c6131cb4",
   "metadata": {},
   "outputs": [],
   "source": [
    "# Assign X and y\n",
    "\n",
    "X = df.drop([\"ADJ Salary\", \"yearID\", \"playerID\", \"teamID\"], axis=1)\n",
    "y = df[\"ADJ Salary\"] \n",
    "\n",
    "# Split the data into X_train, X_test, y_train, y_test\n",
    "\n",
    "X_train, X_test, y_train, y_test = train_test_split(X, y, random_state=0) \n",
    "\n",
    "# Create a scaler to standardize the data\n",
    "\n",
    "scaler = StandardScaler()\n",
    "\n",
    "# Train the scaler with the X_train data.\n",
    "\n",
    "scaler.fit(X_train)\n",
    "\n",
    "# Transform X_train and X_test.\n",
    "\n",
    "X_train_scaled = scaler.transform(X_train)\n",
    "X_test_scaled = scaler.transform(X_test)\n",
    "\n",
    "model = LinearRegression().fit(X_train_scaled, y_train)\n",
    "\n",
    "# Score the model\n",
    "\n",
    "print(f\"STD SCALER Linear Regression Training Data Score: {model.score(X_train_scaled, y_train)}\")\n",
    "print(f\"STD SCALER Linear Regression Testing Data Score: {model.score(X_test_scaled, y_test)}\") \n",
    "\n",
    "model = LinearRegression().fit(X_train, y_train)\n",
    "\n",
    "# Score the model\n",
    "\n",
    "print(f\"NO SCALER Linear Regression Training Data Score: {model.score(X_train, y_train)}\")\n",
    "print(f\"NO SCALER Linear Regression Testing Data Score: {model.score(X_test, y_test)}\")"
   ]
  },
  {
   "cell_type": "markdown",
   "id": "68d5c43e",
   "metadata": {},
   "source": [
    "# Improved LR"
   ]
  },
  {
   "cell_type": "code",
   "execution_count": null,
   "id": "79780d94",
   "metadata": {},
   "outputs": [],
   "source": [
    "df = new_df.copy()\n",
    "\n",
    "# Assign X and y\n",
    "\n",
    "X = df.drop([\"ADJ Salary\", \"yearID\", \"playerID\", \"teamID\"], axis=1)\n",
    "y = df[\"ADJ Salary\"] \n",
    "\n",
    "# Split the data into X_train, X_test, y_train, y_test\n",
    "\n",
    "X_train, X_test, y_train, y_test = train_test_split(X, y, random_state=0) \n",
    "\n",
    "# Create a scaler to standardize the data\n",
    "\n",
    "scaler = StandardScaler()\n",
    "\n",
    "# Train the scaler with the X_train data.\n",
    "\n",
    "scaler.fit(X_train)\n",
    "\n",
    "# Transform X_train and X_test.\n",
    "\n",
    "X_train_scaled = scaler.transform(X_train)\n",
    "X_test_scaled = scaler.transform(X_test)\n",
    "\n",
    "model = LinearRegression().fit(X_train_scaled, y_train)\n",
    "\n",
    "# Score the model\n",
    "\n",
    "print(f\"STD SCALER Linear Regression Training Data Score: {model.score(X_train_scaled, y_train)}\")\n",
    "print(f\"STD SCALER Linear Regression Testing Data Score: {model.score(X_test_scaled, y_test)}\") \n",
    "\n",
    "model = LinearRegression().fit(X_train, y_train)\n",
    "\n",
    "# Score the model\n",
    "\n",
    "print(f\"NO SCALER Linear Regression Training Data Score: {model.score(X_train, y_train)}\")\n",
    "print(f\"NO SCALER Linear Regression Testing Data Score: {model.score(X_test, y_test)}\")"
   ]
  },
  {
   "cell_type": "markdown",
   "id": "1e13f4e3",
   "metadata": {},
   "source": [
    "# New take on modeling"
   ]
  },
  {
   "cell_type": "code",
   "execution_count": null,
   "id": "35470198",
   "metadata": {},
   "outputs": [],
   "source": []
  },
  {
   "cell_type": "code",
   "execution_count": null,
   "id": "4b1f87ed",
   "metadata": {},
   "outputs": [],
   "source": []
  },
  {
   "cell_type": "code",
   "execution_count": null,
   "id": "433fe9f5",
   "metadata": {},
   "outputs": [],
   "source": []
  },
  {
   "cell_type": "code",
   "execution_count": null,
   "id": "692fddfa",
   "metadata": {},
   "outputs": [],
   "source": []
  }
 ],
 "metadata": {
  "kernelspec": {
   "display_name": "Python 3 (ipykernel)",
   "language": "python",
   "name": "python3"
  },
  "language_info": {
   "codemirror_mode": {
    "name": "ipython",
    "version": 3
   },
   "file_extension": ".py",
   "mimetype": "text/x-python",
   "name": "python",
   "nbconvert_exporter": "python",
   "pygments_lexer": "ipython3",
   "version": "3.9.12"
  }
 },
 "nbformat": 4,
 "nbformat_minor": 5
}
