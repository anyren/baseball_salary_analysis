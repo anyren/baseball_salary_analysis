{
 "cells": [
  {
   "cell_type": "code",
   "execution_count": null,
   "id": "b1b4df32",
   "metadata": {},
   "outputs": [],
   "source": [
    "import pandas as pd\n",
    "import numpy as np\n",
    "import json"
   ]
  },
  {
   "cell_type": "code",
   "execution_count": null,
   "id": "597d1a19",
   "metadata": {},
   "outputs": [],
   "source": [
    "df = pd.read_csv(\"cleaned_hitter_no_rookies.csv\")"
   ]
  },
  {
   "cell_type": "code",
   "execution_count": null,
   "id": "333e45eb",
   "metadata": {},
   "outputs": [],
   "source": [
    "df.head()"
   ]
  },
  {
   "cell_type": "code",
   "execution_count": null,
   "id": "de7b861c",
   "metadata": {},
   "outputs": [],
   "source": [
    "    teams = {\"ANA\":\"Los Angeles Angels\",\n",
    "    \"ARI\":\"Arizona Diamondbacks\",\n",
    "    \"ATL\":\"Atlanta Braves\",\n",
    "    \"BAL\":\"Baltimore Orioles\",\n",
    "    \"BOS\":\"Boston Red Sox\",    \n",
    "    \"CAL\": \"Los Angeles Angels\",                \n",
    "    \"CHA\": \"Chicago White Sox\",\n",
    "    \"CHN\": \"Chicago Cubs\",\n",
    "    \"CIN\": \"Cincinnati Reds\",\n",
    "    \"CLE\": \"Cleveland Guardians\",\n",
    "    \"COL\": \"Colorado Rockies\",\n",
    "    \"DET\": \"Detroit Tigers\",\n",
    "    \"FLO\": \"Miami Marlins\",\n",
    "    \"HOU\": \"Houston Astros\",\n",
    "    \"KCA\": \"Kansas City Royals\",\n",
    "    \"LAA\": \"Los Angeles Angels\",\n",
    "    \"LAN\": \"Los Angeles Dodgers\",\n",
    "    \"MIA\": \"Miami Marlins\",\n",
    "    \"MIL\": \"Milwaukee Brewers\",\n",
    "    \"MIN\": \"Minnesota Twins\",\n",
    "    \"ML4\": \"Milwaukee Brewers\",\n",
    "    \"MON\": \"Montreal Expos\",\n",
    "    \"NYA\": \"New York Yankees\",\n",
    "    \"NYN\": \"New York Mets\",\n",
    "    \"OAK\": \"Oakland Athletics\",\n",
    "    \"PHI\": \"Philadelphia Phillies\",\n",
    "    \"PIT\": \"Pitsburg Pirates\",\n",
    "    \"SDN\": \"San Diego Padres\",\n",
    "    \"SEA\": \"Seattle Mariners\",\n",
    "    \"SFN\": \"San Francisco Giants\",\n",
    "    \"SLN\": \"St. Louis Cardinals\",\n",
    "    \"TBA\": \"Tampa Bay Rays\",\n",
    "    \"TEX\": \"Texas Rangers\",\n",
    "    \"TOR\": \"Toranto Blue Jays\",\n",
    "    \"WAS\": \"Washington Nationals\"}"
   ]
  },
  {
   "cell_type": "code",
   "execution_count": null,
   "id": "e3e689b3",
   "metadata": {},
   "outputs": [],
   "source": [
    "\n",
    "df = df.replace({\"teamID\": teams})"
   ]
  },
  {
   "cell_type": "code",
   "execution_count": null,
   "id": "47b71c03",
   "metadata": {},
   "outputs": [],
   "source": [
    "avg = df[['teamID','ADJ Salary']].groupby(['teamID']).mean(['ADJ Salary'])"
   ]
  },
  {
   "cell_type": "code",
   "execution_count": null,
   "id": "78f4ff48",
   "metadata": {},
   "outputs": [],
   "source": [
    "bins = [0, 2000000, 4000000, 6000000, 8000000]\n",
    "\n",
    "avg[\"ADJ Salary Group\"] = pd.cut(avg[\"ADJ Salary\"], bins, labels=np.arange(4)+1)"
   ]
  },
  {
   "cell_type": "code",
   "execution_count": null,
   "id": "0bc26fac",
   "metadata": {},
   "outputs": [],
   "source": [
    "avg"
   ]
  },
  {
   "cell_type": "code",
   "execution_count": null,
   "id": "47742faf",
   "metadata": {},
   "outputs": [],
   "source": [
    "\n",
    "result = avg.to_json(orient=\"index\")\n",
    "parsed = json.loads(result)\n",
    "print(json.dumps(parsed,indent=4))"
   ]
  },
  {
   "cell_type": "code",
   "execution_count": null,
   "id": "18478290",
   "metadata": {},
   "outputs": [],
   "source": [
    "avg.to_json('static/resources/teams_salary.json',orient=\"index\")"
   ]
  },
  {
   "cell_type": "code",
   "execution_count": null,
   "id": "5c633915",
   "metadata": {},
   "outputs": [],
   "source": [
    "\n",
    "filepath = 'static/resources/ballparks.geojson'\n",
    "\n",
    "with open(filepath) as f:    \n",
    "    json_data = json.load(f)\n"
   ]
  },
  {
   "cell_type": "code",
   "execution_count": null,
   "id": "ee8518f9",
   "metadata": {},
   "outputs": [],
   "source": [
    "for i in range(10):\n",
    "    print(json_data)"
   ]
  },
  {
   "cell_type": "code",
   "execution_count": null,
   "id": "cfc001db",
   "metadata": {},
   "outputs": [],
   "source": [
    "avg"
   ]
  },
  {
   "cell_type": "code",
   "execution_count": null,
   "id": "2624b46f",
   "metadata": {},
   "outputs": [],
   "source": [
    "\n",
    "for team in json_data['features']:\n",
    "    team_name = team['properties']['Teams'][0]['Team']\n",
    "    print(team_name)\n",
    "    # We can't control whether the country is in the dataframe, so we'll\n",
    "    # use try-except logic to prevent our code from crashing if the country\n",
    "    # isn't found. \n",
    "    try:\n",
    "        value_to_add = avg.loc[team_name, :]['ADJ Salary Group']\n",
    "        print(value_to_add)\n",
    "        print(f'Adding value for {team_name}')\n",
    "\n",
    "    except KeyError:\n",
    "        value_to_add = NaN\n",
    "\n",
    "    # Add the new key-value pair to the dictionary. How? Talk about it like it exists and\n",
    "    # assign it a value. \n",
    "    team['properties']['Teams'][0]['AVGSalaryGroup'] = value_to_add"
   ]
  },
  {
   "cell_type": "code",
   "execution_count": null,
   "id": "735c0e18",
   "metadata": {},
   "outputs": [],
   "source": [
    "for i in range(10):\n",
    "    print(json_data['features'][i]['properties'])"
   ]
  },
  {
   "cell_type": "code",
   "execution_count": null,
   "id": "e34efd60",
   "metadata": {},
   "outputs": [],
   "source": []
  },
  {
   "cell_type": "code",
   "execution_count": null,
   "id": "d10afb61",
   "metadata": {},
   "outputs": [],
   "source": [
    "with open('static/resources/ballparks_salary.geojson', 'w', encoding='utf-8') as f:\n",
    "    json.dump(json_data, f, ensure_ascii=False, indent=4)"
   ]
  },
  {
   "cell_type": "code",
   "execution_count": null,
   "id": "a8e56100",
   "metadata": {},
   "outputs": [],
   "source": []
  },
  {
   "cell_type": "code",
   "execution_count": null,
   "id": "e81ed7b2",
   "metadata": {},
   "outputs": [],
   "source": []
  }
 ],
 "metadata": {
  "kernelspec": {
   "display_name": "Python 3 (ipykernel)",
   "language": "python",
   "name": "python3"
  },
  "language_info": {
   "codemirror_mode": {
    "name": "ipython",
    "version": 3
   },
   "file_extension": ".py",
   "mimetype": "text/x-python",
   "name": "python",
   "nbconvert_exporter": "python",
   "pygments_lexer": "ipython3",
   "version": "3.8.13"
  }
 },
 "nbformat": 4,
 "nbformat_minor": 5
}
