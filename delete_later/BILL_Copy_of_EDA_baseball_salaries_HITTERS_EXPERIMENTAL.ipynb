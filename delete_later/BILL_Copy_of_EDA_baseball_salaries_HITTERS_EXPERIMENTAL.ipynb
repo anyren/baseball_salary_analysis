{
 "cells": [
  {
   "cell_type": "markdown",
   "metadata": {
    "id": "5GRNIQY9CF2t"
   },
   "source": [
    "# **LINEAR REGRESSION BLOCK START**"
   ]
  },
  {
   "cell_type": "code",
   "execution_count": 1,
   "metadata": {
    "id": "qj4WNzSo5BS-"
   },
   "outputs": [],
   "source": [
    "# Import dependencies\n",
    "\n",
    "import matplotlib.pyplot as plt\n",
    "import numpy as np\n",
    "import pandas as pd\n",
    "\n",
    "from sklearn.ensemble import RandomForestClassifier\n",
    "from sklearn.feature_selection import SelectFromModel\n",
    "from sklearn.linear_model import LinearRegression, Ridge, Lasso, ElasticNet\n",
    "from sklearn.metrics import confusion_matrix, classification_report, mean_squared_error, r2_score\n",
    "from sklearn.model_selection import train_test_split\n",
    "from sklearn.preprocessing import StandardScaler\n",
    "\n",
    "pd.set_option('display.max_rows', 500)\n",
    "pd.set_option('display.max_columns', 500)\n",
    "pd.set_option('display.width', 1000)"
   ]
  },
  {
   "cell_type": "code",
   "execution_count": 2,
   "metadata": {},
   "outputs": [],
   "source": [
    "import warnings\n",
    "warnings.filterwarnings('ignore')"
   ]
  },
  {
   "cell_type": "code",
   "execution_count": 3,
   "metadata": {
    "id": "ntbPKBeR62LH"
   },
   "outputs": [],
   "source": [
    "def load_dataset():\n",
    "    \"\"\" Reads dataset csv and returns pandas dataframe \"\"\"\n",
    "    \n",
    "    filepath = \"D:\\\\PYTHON_PROJECTS_FALL2022\\\\.venv\\\\baseball_salary_analysis\\\\Hitters_Adjusted_Salary.csv\"\n",
    "\n",
    "    df = pd.read_csv(filepath, encoding=\"utf-8\", low_memory=False)\n",
    "    \n",
    "    return df"
   ]
  },
  {
   "cell_type": "code",
   "execution_count": 4,
   "metadata": {
    "id": "Ek0pVe525VXx"
   },
   "outputs": [],
   "source": [
    "def clean_dataset(a_df):\n",
    "    \"\"\" Returns deduped, na-dropped, index-reset dataframe \"\"\"    \n",
    "    \n",
    "    a_df = a_df.drop_duplicates()   \n",
    "        \n",
    "    a_df = a_df.dropna()\n",
    "    \n",
    "    a_df = a_df.drop([\"Unnamed: 0\", \"playerID\", \"teamID\", \"lgID\", \"salary\", \"PO\", \"A\", \"E\", \"DP\"], axis=1)\n",
    "    \n",
    "    totalhits = a_df[\"H\"]\n",
    "    doubles = a_df[\"2B\"]\n",
    "    triples = a_df[\"3B\"]\n",
    "    homeruns = a_df[\"HR\"]\n",
    "    atbats = a_df[\"AB\"]\n",
    "    walks = a_df[\"BB\"]\n",
    "    hit_by_pitch = a_df[\"HBP\"]\n",
    "    sac_hits = a_df[\"SH\"]\n",
    "    sac_flies = a_df[\"SF\"]\n",
    "    singles = (totalhits - homeruns - triples - doubles)\n",
    "        \n",
    "    a_df[\"slug_%\"] = (singles + 2*doubles + 3*triples + 4*homeruns) / atbats\n",
    "    a_df[\"slug_%\"] = a_df[\"slug_%\"].fillna(0)\n",
    "    a_df[\"avg\"] = totalhits / atbats\n",
    "    a_df[\"avg\"] = a_df[\"avg\"].fillna(0)\n",
    "    a_df[\"plate_appearances\"] = atbats + walks + hit_by_pitch + sac_hits + sac_flies\n",
    "    a_df[\"avg\"] = a_df[\"avg\"].fillna(0)\n",
    "    a_df[\"on_base_%\"] = (totalhits + walks + hit_by_pitch) / (atbats + walks + hit_by_pitch + sac_flies)\n",
    "    a_df[\"on_base_%\"] = a_df[\"on_base_%\"].fillna(0)\n",
    "    a_df[\"1B\"] = singles\n",
    "    a_df[\"1B\"] = a_df[\"1B\"].fillna(0)\n",
    "    a_df[\"year_for_salary\"] = a_df[\"yearID\"] + 1 \n",
    "    a_df = a_df.drop([\"yearID\"], axis=1)\n",
    "     \n",
    "    a_df = a_df.reset_index(drop=True)\n",
    "    \n",
    "    return a_df  "
   ]
  },
  {
   "cell_type": "code",
   "execution_count": 5,
   "metadata": {
    "id": "8FmJFtEM6CEt"
   },
   "outputs": [],
   "source": [
    "def rename_columns(a_df):\n",
    "    \"\"\" Returns dataframe with meaningful column names \"\"\"    \n",
    "    \n",
    "    abbr_dict = {\"GS\": \"games_started\", \"InnOuts\": \"inning_outs\", \"G\": \"games_played\", \"AB\": \"at_bats\",\\\n",
    "                \"R\": \"runs\", \"H\": \"total_hits\", \"1B\": \"singles\", \"2B\": \"doubles\", \"3B\": \"triples\", \"HR\": \"home_runs\",\\\n",
    "                \"RBI\": \"runs_batted_in\", \"SB\": \"stolen_bases\", \"CS\": \"caught_stealing\", \"BB\": \"base_on_balls\",\\\n",
    "                \"SO\": \"strike_outs\", \"IBB\": \"intentional_walks\", \"HBP\": \"hit_by_pitch\", \"SH\": \"sacrifice_hits\",\\\n",
    "                \"SF\": \"sacrifice_flies\", \"GIDP\": \"ground_into_double_play\"}\n",
    "    \n",
    "    a_df = a_df.rename(columns=abbr_dict)\n",
    "    \n",
    "    return a_df   "
   ]
  },
  {
   "cell_type": "code",
   "execution_count": 6,
   "metadata": {
    "id": "DAVtVH546CA7"
   },
   "outputs": [],
   "source": [
    "def examine_dataset(a_df):\n",
    "    \"\"\" Provides summary info and visualizations of dataset \"\"\"\n",
    "    \n",
    "    print(a_df.info())\n",
    "          \n",
    "    a_df.hist(figsize = (15, 15))  "
   ]
  },
  {
   "cell_type": "code",
   "execution_count": 7,
   "metadata": {
    "id": "F-p82_9PMIr5"
   },
   "outputs": [],
   "source": [
    "def round_salaries(a_df):\n",
    "    \"\"\" Returns dataframe with salary column made into int and rounded \"\"\"\n",
    "\n",
    "    a_df[\"ADJ Salary\"] = a_df[\"ADJ Salary\"].astype(\"int\").round()\n",
    "\n",
    "    return a_df"
   ]
  },
  {
   "cell_type": "code",
   "execution_count": 8,
   "metadata": {
    "id": "VSEbcYUtMHW9"
   },
   "outputs": [],
   "source": [
    "def run_regression(a_df, salary_col_name=\"ADJ Salary\"):\n",
    "    \"\"\" Runs linear regression on dataframe, prints model scores \"\"\"\n",
    "\n",
    "    # Assign X and y\n",
    "    \n",
    "    \n",
    "\n",
    "    X = a_df.drop(columns=[salary_col_name, \"salary\"], axis=1)\n",
    "    y = a_df[salary_col_name]\n",
    "    \n",
    "    # Split the data into X_train, X_test, y_train, y_test\n",
    "\n",
    "    X_train, X_test, y_train, y_test = train_test_split(X, y, random_state=0)\n",
    "\n",
    "    # Create a scaler to standardize the data\n",
    "\n",
    "    scaler = StandardScaler()\n",
    "\n",
    "    # Train the scaler with the X_train data.\n",
    "\n",
    "    scaler.fit(X_train)\n",
    "\n",
    "    # Transform X_train and X_test.\n",
    "\n",
    "    X_train_scaled = scaler.transform(X_train)\n",
    "    X_test_scaled = scaler.transform(X_test)\n",
    "    \n",
    "    model = LinearRegression().fit(X_train_scaled, y_train)\n",
    "    \n",
    "    predicted = model.predict(X_test_scaled)\n",
    "    mse = mean_squared_error(y_test, predicted)\n",
    "    r2 = r2_score(y_test, predicted)\n",
    "    \n",
    "    print(f\"MSE: {mse}\")\n",
    "    print(f\"R2: {r2}\") \n",
    "    \n",
    "    # Score the model\n",
    "\n",
    "    print(f\"Linear Regression Training Data Score: {model.score(X_train_scaled, y_train)}\")\n",
    "    print(f\"Linear Regression Testing Data Score: {model.score(X_test_scaled, y_test)}\")  \n",
    "    \n",
    "    plt.bar(np.arange(len(model.coef_)), model.coef_)\n",
    "    plt.title(f'Linear Regression coefficient plot')\n",
    "    plt.show()  "
   ]
  },
  {
   "cell_type": "code",
   "execution_count": 9,
   "metadata": {
    "id": "s0v5biYOVOMC"
   },
   "outputs": [],
   "source": [
    "def run_LASSO(a_df):\n",
    "    \"\"\" Runs LASSO regression on dataframe, prints model scores \"\"\"\n",
    "\n",
    "    # Assign X and y\n",
    "\n",
    "    X = a_df.drop([\"log_of_salary\"], axis=1)\n",
    "    y = a_df[\"log_of_salary\"]\n",
    "    \n",
    "    # Split the data into X_train, X_test, y_train, y_test\n",
    "\n",
    "    X_train, X_test, y_train, y_test = train_test_split(X, y, random_state=0)\n",
    "\n",
    "    # Create a scaler to standardize the data\n",
    "\n",
    "    scaler = StandardScaler()\n",
    "\n",
    "    # Train the scaler with the X_train data.\n",
    "\n",
    "    scaler.fit(X_train)\n",
    "\n",
    "    # Transform X_train and X_test.\n",
    "\n",
    "    X_train_scaled = scaler.transform(X_train)\n",
    "    X_test_scaled = scaler.transform(X_test)\n",
    "\n",
    "    lasso_reg = Lasso().fit(X_train, y_train)\n",
    "\n",
    "    predicted = lasso_reg.predict(X_test_scaled)\n",
    "    mse = mean_squared_error(y_test, predicted)\n",
    "    r2 = r2_score(y_test, predicted)\n",
    "    \n",
    "    print(f\"MSE: {mse}\")\n",
    "    print(f\"R2: {r2}\") \n",
    "\n",
    "    # Score the model\n",
    "\n",
    "    print(f\"LASSO Regression Training Data Score: {lasso_reg.score(X_train_scaled, y_train)}\")\n",
    "    print(f\"LASSO Regression Testing Data Score: {lasso_reg.score(X_test_scaled, y_test)}\")\n",
    "    \n",
    "    plt.bar(np.arange(len(lasso_reg.coef_)), lasso_reg.coef_)\n",
    "    plt.title(f'LASSO Regression coefficient plot')\n",
    "    plt.show()  \n",
    "    \n",
    "    sel = SelectFromModel(lasso_reg)\n",
    "    sel.fit(X_train_scaled, y_train)\n",
    "    SelectFromModel(estimator=Lasso())\n",
    "    \n",
    "    X_selected_train, X_selected_test, y_train, y_test = train_test_split(sel.transform(X), y, random_state=1)\n",
    "    \n",
    "    scaler = StandardScaler().fit(X_selected_train)\n",
    "    \n",
    "    X_selected_train_scaled = scaler.transform(X_selected_train)\n",
    "    X_selected_test_scaled = scaler.transform(X_selected_test)\n",
    "\n",
    "    new_lasso_reg = LinearRegression().fit(X_selected_train_scaled, y_train)\n",
    "    print(f\"New linear regression score: {new_lasso_reg.score(X_selected_test_scaled, y_test)}\")"
   ]
  },
  {
   "cell_type": "code",
   "execution_count": 10,
   "metadata": {
    "id": "D9ticIYpWauQ"
   },
   "outputs": [],
   "source": [
    "def run_Ridge(a_df):\n",
    "    \"\"\" Runs Ridge regression on dataframe, prints model scores \"\"\"\n",
    "\n",
    "    # Assign X and y\n",
    "\n",
    "    X = a_df.drop([\"log_of_salary\"], axis=1)\n",
    "    y = a_df[\"log_of_salary\"]\n",
    "    \n",
    "    # Split the data into X_train, X_test, y_train, y_test\n",
    "\n",
    "    X_train, X_test, y_train, y_test = train_test_split(X, y, random_state=0)\n",
    "\n",
    "    # Create a scaler to standardize the data\n",
    "\n",
    "    scaler = StandardScaler()\n",
    "\n",
    "    # Train the scaler with the X_train data.\n",
    "\n",
    "    scaler.fit(X_train)\n",
    "\n",
    "    # Transform X_train and X_test.\n",
    "\n",
    "    X_train_scaled = scaler.transform(X_train)\n",
    "    X_test_scaled = scaler.transform(X_test)\n",
    "\n",
    "    ridge_reg = Ridge().fit(X_train, y_train)\n",
    "\n",
    "    predicted = ridge_reg.predict(X_test_scaled)\n",
    "    mse = mean_squared_error(y_test, predicted)\n",
    "    r2 = r2_score(y_test, predicted)\n",
    "    \n",
    "    print(f\"MSE: {mse}\")\n",
    "    print(f\"R2: {r2}\") \n",
    "\n",
    "    # Score the model\n",
    "\n",
    "    print(f\"Ridge Regression Training Data Score: {ridge_reg.score(X_train_scaled, y_train)}\")\n",
    "    print(f\"Ridge Regression Testing Data Score: {ridge_reg.score(X_test_scaled, y_test)}\")\n",
    "\n",
    "    plt.bar(np.arange(len(ridge_reg.coef_)), ridge_reg.coef_)\n",
    "    plt.title(f'Ridge Regression coefficient plot')\n",
    "    plt.show()     \n",
    "    \n",
    "    sel = SelectFromModel(ridge_reg)\n",
    "    sel.fit(X_train_scaled, y_train)\n",
    "    SelectFromModel(estimator=Ridge())\n",
    "    \n",
    "    X_selected_train, X_selected_test, y_train, y_test = train_test_split(sel.transform(X), y, random_state=1)\n",
    "    \n",
    "    scaler = StandardScaler().fit(X_selected_train)\n",
    "    \n",
    "    X_selected_train_scaled = scaler.transform(X_selected_train)\n",
    "    X_selected_test_scaled = scaler.transform(X_selected_test)\n",
    "\n",
    "    new_ridge_reg = LinearRegression().fit(X_selected_train_scaled, y_train)\n",
    "    print(f\"New linear regression score: {new_ridge_reg.score(X_selected_test_scaled, y_test)}\")"
   ]
  },
  {
   "cell_type": "code",
   "execution_count": 11,
   "metadata": {
    "id": "-Y0HJk7TX2XY"
   },
   "outputs": [],
   "source": [
    "def run_ElasticNet(a_df):\n",
    "    \"\"\" Runs ElasticNet regression on dataframe, prints model scores \"\"\"\n",
    "\n",
    "    # Assign X and y\n",
    "\n",
    "    X = a_df.drop([\"log_of_salary\"], axis=1)\n",
    "    y = a_df[\"log_of_salary\"]\n",
    "    \n",
    "    # Split the data into X_train, X_test, y_train, y_test\n",
    "\n",
    "    X_train, X_test, y_train, y_test = train_test_split(X, y, random_state=0)\n",
    "\n",
    "    # Create a scaler to standardize the data\n",
    "\n",
    "    scaler = StandardScaler()\n",
    "\n",
    "    # Train the scaler with the X_train data.\n",
    "\n",
    "    scaler.fit(X_train)\n",
    "\n",
    "    # Transform X_train and X_test.\n",
    "\n",
    "    X_train_scaled = scaler.transform(X_train)\n",
    "    X_test_scaled = scaler.transform(X_test)\n",
    "\n",
    "    elasticnet_reg = ElasticNet().fit(X_train, y_train)\n",
    "      \n",
    "    predicted = elasticnet_reg.predict(X_test_scaled)\n",
    "    mse = mean_squared_error(y_test, predicted)\n",
    "    r2 = r2_score(y_test, predicted)\n",
    "    \n",
    "    print(f\"MSE: {mse}\")\n",
    "    print(f\"R2: {r2}\") \n",
    "\n",
    "    # Score the model\n",
    "\n",
    "    print(f\"ElasticNet Regression Training Data Score: {elasticnet_reg.score(X_train_scaled, y_train)}\")\n",
    "    print(f\"ElasticNet Regression Testing Data Score: {elasticnet_reg.score(X_test_scaled, y_test)}\")\n",
    "    \n",
    "    plt.bar(np.arange(len(elasticnet_reg.coef_)), elasticnet_reg.coef_)\n",
    "    plt.title(f'ElasticNet Regression coefficient plot')\n",
    "    plt.show()  \n",
    "    \n",
    "    sel = SelectFromModel(elasticnet_reg)\n",
    "    sel.fit(X_train_scaled, y_train)\n",
    "    SelectFromModel(estimator=ElasticNet())\n",
    "    \n",
    "    X_selected_train, X_selected_test, y_train, y_test = train_test_split(sel.transform(X), y, random_state=1)\n",
    "    \n",
    "    scaler = StandardScaler().fit(X_selected_train)\n",
    "    \n",
    "    X_selected_train_scaled = scaler.transform(X_selected_train)\n",
    "    X_selected_test_scaled = scaler.transform(X_selected_test)\n",
    "\n",
    "    new_elasticnet_reg = LinearRegression().fit(X_selected_train_scaled, y_train)\n",
    "    print(f\"New linear regression score: {new_elasticnet_reg.score(X_selected_test_scaled, y_test)}\")"
   ]
  },
  {
   "cell_type": "code",
   "execution_count": 12,
   "metadata": {
    "id": "jLvx-UhO6B6B"
   },
   "outputs": [],
   "source": [
    "loaded_df = load_dataset()"
   ]
  },
  {
   "cell_type": "code",
   "execution_count": null,
   "metadata": {},
   "outputs": [],
   "source": [
    "# loaded_df[\"ADJ Salary\"] = loaded_df[\"ADJ Salary\"].astype(int)\n",
    "\n",
    "# loaded_df = loaded_df.loc[~(loaded_df[\"ADJ Salary\"] <= 0), :]"
   ]
  },
  {
   "cell_type": "code",
   "execution_count": 14,
   "metadata": {},
   "outputs": [
    {
     "data": {
      "text/html": [
       "<div>\n",
       "<style scoped>\n",
       "    .dataframe tbody tr th:only-of-type {\n",
       "        vertical-align: middle;\n",
       "    }\n",
       "\n",
       "    .dataframe tbody tr th {\n",
       "        vertical-align: top;\n",
       "    }\n",
       "\n",
       "    .dataframe thead th {\n",
       "        text-align: right;\n",
       "    }\n",
       "</style>\n",
       "<table border=\"1\" class=\"dataframe\">\n",
       "  <thead>\n",
       "    <tr style=\"text-align: right;\">\n",
       "      <th></th>\n",
       "      <th>yearID</th>\n",
       "      <th>salary</th>\n",
       "      <th>ADJ Salary</th>\n",
       "      <th>GS</th>\n",
       "      <th>InnOuts</th>\n",
       "      <th>PO</th>\n",
       "      <th>A</th>\n",
       "      <th>E</th>\n",
       "      <th>DP</th>\n",
       "      <th>G</th>\n",
       "      <th>AB</th>\n",
       "      <th>R</th>\n",
       "      <th>H</th>\n",
       "      <th>2B</th>\n",
       "      <th>3B</th>\n",
       "      <th>HR</th>\n",
       "      <th>RBI</th>\n",
       "      <th>SB</th>\n",
       "      <th>CS</th>\n",
       "      <th>BB</th>\n",
       "      <th>SO</th>\n",
       "      <th>IBB</th>\n",
       "      <th>HBP</th>\n",
       "      <th>SH</th>\n",
       "      <th>SF</th>\n",
       "      <th>GIDP</th>\n",
       "    </tr>\n",
       "    <tr>\n",
       "      <th>playerID</th>\n",
       "      <th></th>\n",
       "      <th></th>\n",
       "      <th></th>\n",
       "      <th></th>\n",
       "      <th></th>\n",
       "      <th></th>\n",
       "      <th></th>\n",
       "      <th></th>\n",
       "      <th></th>\n",
       "      <th></th>\n",
       "      <th></th>\n",
       "      <th></th>\n",
       "      <th></th>\n",
       "      <th></th>\n",
       "      <th></th>\n",
       "      <th></th>\n",
       "      <th></th>\n",
       "      <th></th>\n",
       "      <th></th>\n",
       "      <th></th>\n",
       "      <th></th>\n",
       "      <th></th>\n",
       "      <th></th>\n",
       "      <th></th>\n",
       "      <th></th>\n",
       "      <th></th>\n",
       "    </tr>\n",
       "  </thead>\n",
       "  <tbody>\n",
       "    <tr>\n",
       "      <th>abbotje01</th>\n",
       "      <td>1999.500000</td>\n",
       "      <td>246250.000000</td>\n",
       "      <td>373918.500000</td>\n",
       "      <td>34.000000</td>\n",
       "      <td>887.000000</td>\n",
       "      <td>71.000000</td>\n",
       "      <td>0.5</td>\n",
       "      <td>2.000000</td>\n",
       "      <td>0.000000</td>\n",
       "      <td>53.500000</td>\n",
       "      <td>139.500000</td>\n",
       "      <td>18.500000</td>\n",
       "      <td>36.750000</td>\n",
       "      <td>8.000000</td>\n",
       "      <td>0.500000</td>\n",
       "      <td>4.250000</td>\n",
       "      <td>20.250000</td>\n",
       "      <td>1.500000</td>\n",
       "      <td>1.250000</td>\n",
       "      <td>9.500000</td>\n",
       "      <td>21.250000</td>\n",
       "      <td>0.500000</td>\n",
       "      <td>0.750000</td>\n",
       "      <td>1.250000</td>\n",
       "      <td>1.750000</td>\n",
       "      <td>2.250000</td>\n",
       "    </tr>\n",
       "    <tr>\n",
       "      <th>abbotku01</th>\n",
       "      <td>1997.100000</td>\n",
       "      <td>523700.000000</td>\n",
       "      <td>825024.000000</td>\n",
       "      <td>54.700000</td>\n",
       "      <td>1460.200000</td>\n",
       "      <td>101.600000</td>\n",
       "      <td>135.6</td>\n",
       "      <td>9.100000</td>\n",
       "      <td>29.600000</td>\n",
       "      <td>70.200000</td>\n",
       "      <td>204.400000</td>\n",
       "      <td>27.300000</td>\n",
       "      <td>52.300000</td>\n",
       "      <td>10.900000</td>\n",
       "      <td>2.300000</td>\n",
       "      <td>6.200000</td>\n",
       "      <td>24.200000</td>\n",
       "      <td>2.200000</td>\n",
       "      <td>1.100000</td>\n",
       "      <td>13.300000</td>\n",
       "      <td>57.100000</td>\n",
       "      <td>1.100000</td>\n",
       "      <td>1.700000</td>\n",
       "      <td>2.100000</td>\n",
       "      <td>1.200000</td>\n",
       "      <td>3.700000</td>\n",
       "    </tr>\n",
       "    <tr>\n",
       "      <th>abercre01</th>\n",
       "      <td>2006.000000</td>\n",
       "      <td>327000.000000</td>\n",
       "      <td>419797.000000</td>\n",
       "      <td>67.000000</td>\n",
       "      <td>1862.000000</td>\n",
       "      <td>176.000000</td>\n",
       "      <td>3.0</td>\n",
       "      <td>5.000000</td>\n",
       "      <td>1.000000</td>\n",
       "      <td>111.000000</td>\n",
       "      <td>255.000000</td>\n",
       "      <td>39.000000</td>\n",
       "      <td>54.000000</td>\n",
       "      <td>12.000000</td>\n",
       "      <td>2.000000</td>\n",
       "      <td>5.000000</td>\n",
       "      <td>24.000000</td>\n",
       "      <td>6.000000</td>\n",
       "      <td>5.000000</td>\n",
       "      <td>18.000000</td>\n",
       "      <td>78.000000</td>\n",
       "      <td>2.000000</td>\n",
       "      <td>3.000000</td>\n",
       "      <td>4.000000</td>\n",
       "      <td>1.000000</td>\n",
       "      <td>2.000000</td>\n",
       "    </tr>\n",
       "    <tr>\n",
       "      <th>abernbr01</th>\n",
       "      <td>2002.666667</td>\n",
       "      <td>271666.666667</td>\n",
       "      <td>384418.333333</td>\n",
       "      <td>43.000000</td>\n",
       "      <td>1167.666667</td>\n",
       "      <td>93.000000</td>\n",
       "      <td>124.0</td>\n",
       "      <td>4.666667</td>\n",
       "      <td>31.000000</td>\n",
       "      <td>43.000000</td>\n",
       "      <td>165.666667</td>\n",
       "      <td>16.333333</td>\n",
       "      <td>38.000000</td>\n",
       "      <td>6.000000</td>\n",
       "      <td>1.333333</td>\n",
       "      <td>0.666667</td>\n",
       "      <td>13.333333</td>\n",
       "      <td>3.666667</td>\n",
       "      <td>1.333333</td>\n",
       "      <td>8.666667</td>\n",
       "      <td>16.333333</td>\n",
       "      <td>0.000000</td>\n",
       "      <td>2.000000</td>\n",
       "      <td>3.333333</td>\n",
       "      <td>0.666667</td>\n",
       "      <td>3.333333</td>\n",
       "    </tr>\n",
       "    <tr>\n",
       "      <th>abnersh01</th>\n",
       "      <td>1990.166667</td>\n",
       "      <td>150583.333333</td>\n",
       "      <td>290245.833333</td>\n",
       "      <td>40.500000</td>\n",
       "      <td>1204.000000</td>\n",
       "      <td>116.833333</td>\n",
       "      <td>2.0</td>\n",
       "      <td>0.333333</td>\n",
       "      <td>0.500000</td>\n",
       "      <td>62.666667</td>\n",
       "      <td>132.166667</td>\n",
       "      <td>14.000000</td>\n",
       "      <td>29.666667</td>\n",
       "      <td>6.000000</td>\n",
       "      <td>0.500000</td>\n",
       "      <td>1.500000</td>\n",
       "      <td>10.666667</td>\n",
       "      <td>0.833333</td>\n",
       "      <td>1.333333</td>\n",
       "      <td>6.833333</td>\n",
       "      <td>24.166667</td>\n",
       "      <td>1.666667</td>\n",
       "      <td>1.166667</td>\n",
       "      <td>0.833333</td>\n",
       "      <td>1.166667</td>\n",
       "      <td>2.333333</td>\n",
       "    </tr>\n",
       "    <tr>\n",
       "      <th>...</th>\n",
       "      <td>...</td>\n",
       "      <td>...</td>\n",
       "      <td>...</td>\n",
       "      <td>...</td>\n",
       "      <td>...</td>\n",
       "      <td>...</td>\n",
       "      <td>...</td>\n",
       "      <td>...</td>\n",
       "      <td>...</td>\n",
       "      <td>...</td>\n",
       "      <td>...</td>\n",
       "      <td>...</td>\n",
       "      <td>...</td>\n",
       "      <td>...</td>\n",
       "      <td>...</td>\n",
       "      <td>...</td>\n",
       "      <td>...</td>\n",
       "      <td>...</td>\n",
       "      <td>...</td>\n",
       "      <td>...</td>\n",
       "      <td>...</td>\n",
       "      <td>...</td>\n",
       "      <td>...</td>\n",
       "      <td>...</td>\n",
       "      <td>...</td>\n",
       "      <td>...</td>\n",
       "    </tr>\n",
       "    <tr>\n",
       "      <th>zuberjo01</th>\n",
       "      <td>1996.000000</td>\n",
       "      <td>109000.000000</td>\n",
       "      <td>179798.000000</td>\n",
       "      <td>20.000000</td>\n",
       "      <td>543.000000</td>\n",
       "      <td>145.000000</td>\n",
       "      <td>11.0</td>\n",
       "      <td>2.000000</td>\n",
       "      <td>10.000000</td>\n",
       "      <td>30.000000</td>\n",
       "      <td>91.000000</td>\n",
       "      <td>7.000000</td>\n",
       "      <td>23.000000</td>\n",
       "      <td>4.000000</td>\n",
       "      <td>0.000000</td>\n",
       "      <td>1.000000</td>\n",
       "      <td>10.000000</td>\n",
       "      <td>1.000000</td>\n",
       "      <td>0.000000</td>\n",
       "      <td>6.000000</td>\n",
       "      <td>11.000000</td>\n",
       "      <td>1.000000</td>\n",
       "      <td>0.000000</td>\n",
       "      <td>1.000000</td>\n",
       "      <td>1.000000</td>\n",
       "      <td>3.000000</td>\n",
       "    </tr>\n",
       "    <tr>\n",
       "      <th>zuletju01</th>\n",
       "      <td>2001.000000</td>\n",
       "      <td>200000.000000</td>\n",
       "      <td>292276.000000</td>\n",
       "      <td>23.000000</td>\n",
       "      <td>657.000000</td>\n",
       "      <td>213.000000</td>\n",
       "      <td>7.0</td>\n",
       "      <td>2.000000</td>\n",
       "      <td>11.000000</td>\n",
       "      <td>49.000000</td>\n",
       "      <td>106.000000</td>\n",
       "      <td>11.000000</td>\n",
       "      <td>23.000000</td>\n",
       "      <td>3.000000</td>\n",
       "      <td>0.000000</td>\n",
       "      <td>6.000000</td>\n",
       "      <td>24.000000</td>\n",
       "      <td>0.000000</td>\n",
       "      <td>1.000000</td>\n",
       "      <td>8.000000</td>\n",
       "      <td>32.000000</td>\n",
       "      <td>1.000000</td>\n",
       "      <td>3.000000</td>\n",
       "      <td>0.000000</td>\n",
       "      <td>1.000000</td>\n",
       "      <td>3.000000</td>\n",
       "    </tr>\n",
       "    <tr>\n",
       "      <th>zuninmi01</th>\n",
       "      <td>2014.500000</td>\n",
       "      <td>513800.000000</td>\n",
       "      <td>561370.500000</td>\n",
       "      <td>113.000000</td>\n",
       "      <td>3061.000000</td>\n",
       "      <td>909.500000</td>\n",
       "      <td>64.0</td>\n",
       "      <td>5.000000</td>\n",
       "      <td>5.500000</td>\n",
       "      <td>121.500000</td>\n",
       "      <td>394.000000</td>\n",
       "      <td>39.500000</td>\n",
       "      <td>74.000000</td>\n",
       "      <td>15.500000</td>\n",
       "      <td>1.000000</td>\n",
       "      <td>16.500000</td>\n",
       "      <td>44.000000</td>\n",
       "      <td>0.000000</td>\n",
       "      <td>2.000000</td>\n",
       "      <td>19.000000</td>\n",
       "      <td>145.000000</td>\n",
       "      <td>0.500000</td>\n",
       "      <td>11.000000</td>\n",
       "      <td>4.000000</td>\n",
       "      <td>3.000000</td>\n",
       "      <td>9.000000</td>\n",
       "    </tr>\n",
       "    <tr>\n",
       "      <th>zupcibo01</th>\n",
       "      <td>1992.000000</td>\n",
       "      <td>143666.666667</td>\n",
       "      <td>262904.000000</td>\n",
       "      <td>58.666667</td>\n",
       "      <td>1727.000000</td>\n",
       "      <td>144.666667</td>\n",
       "      <td>6.0</td>\n",
       "      <td>4.000000</td>\n",
       "      <td>1.666667</td>\n",
       "      <td>94.333333</td>\n",
       "      <td>234.333333</td>\n",
       "      <td>29.666667</td>\n",
       "      <td>60.333333</td>\n",
       "      <td>14.333333</td>\n",
       "      <td>1.000000</td>\n",
       "      <td>2.000000</td>\n",
       "      <td>24.000000</td>\n",
       "      <td>2.333333</td>\n",
       "      <td>1.333333</td>\n",
       "      <td>17.666667</td>\n",
       "      <td>40.000000</td>\n",
       "      <td>1.000000</td>\n",
       "      <td>2.000000</td>\n",
       "      <td>5.333333</td>\n",
       "      <td>2.333333</td>\n",
       "      <td>4.333333</td>\n",
       "    </tr>\n",
       "    <tr>\n",
       "      <th>zuvelpa01</th>\n",
       "      <td>1989.000000</td>\n",
       "      <td>145000.000000</td>\n",
       "      <td>302641.000000</td>\n",
       "      <td>10.000000</td>\n",
       "      <td>301.000000</td>\n",
       "      <td>14.000000</td>\n",
       "      <td>24.0</td>\n",
       "      <td>2.000000</td>\n",
       "      <td>1.000000</td>\n",
       "      <td>24.000000</td>\n",
       "      <td>58.000000</td>\n",
       "      <td>10.000000</td>\n",
       "      <td>16.000000</td>\n",
       "      <td>2.000000</td>\n",
       "      <td>0.000000</td>\n",
       "      <td>2.000000</td>\n",
       "      <td>6.000000</td>\n",
       "      <td>0.000000</td>\n",
       "      <td>0.000000</td>\n",
       "      <td>1.000000</td>\n",
       "      <td>11.000000</td>\n",
       "      <td>0.000000</td>\n",
       "      <td>1.000000</td>\n",
       "      <td>0.000000</td>\n",
       "      <td>0.000000</td>\n",
       "      <td>0.000000</td>\n",
       "    </tr>\n",
       "  </tbody>\n",
       "</table>\n",
       "<p>2468 rows × 26 columns</p>\n",
       "</div>"
      ],
      "text/plain": [
       "                yearID         salary     ADJ Salary          GS      InnOuts          PO      A         E         DP           G          AB          R          H         2B        3B         HR        RBI        SB        CS         BB          SO       IBB        HBP        SH        SF      GIDP\n",
       "playerID                                                                                                                                                                                                                                                                                                    \n",
       "abbotje01  1999.500000  246250.000000  373918.500000   34.000000   887.000000   71.000000    0.5  2.000000   0.000000   53.500000  139.500000  18.500000  36.750000   8.000000  0.500000   4.250000  20.250000  1.500000  1.250000   9.500000   21.250000  0.500000   0.750000  1.250000  1.750000  2.250000\n",
       "abbotku01  1997.100000  523700.000000  825024.000000   54.700000  1460.200000  101.600000  135.6  9.100000  29.600000   70.200000  204.400000  27.300000  52.300000  10.900000  2.300000   6.200000  24.200000  2.200000  1.100000  13.300000   57.100000  1.100000   1.700000  2.100000  1.200000  3.700000\n",
       "abercre01  2006.000000  327000.000000  419797.000000   67.000000  1862.000000  176.000000    3.0  5.000000   1.000000  111.000000  255.000000  39.000000  54.000000  12.000000  2.000000   5.000000  24.000000  6.000000  5.000000  18.000000   78.000000  2.000000   3.000000  4.000000  1.000000  2.000000\n",
       "abernbr01  2002.666667  271666.666667  384418.333333   43.000000  1167.666667   93.000000  124.0  4.666667  31.000000   43.000000  165.666667  16.333333  38.000000   6.000000  1.333333   0.666667  13.333333  3.666667  1.333333   8.666667   16.333333  0.000000   2.000000  3.333333  0.666667  3.333333\n",
       "abnersh01  1990.166667  150583.333333  290245.833333   40.500000  1204.000000  116.833333    2.0  0.333333   0.500000   62.666667  132.166667  14.000000  29.666667   6.000000  0.500000   1.500000  10.666667  0.833333  1.333333   6.833333   24.166667  1.666667   1.166667  0.833333  1.166667  2.333333\n",
       "...                ...            ...            ...         ...          ...         ...    ...       ...        ...         ...         ...        ...        ...        ...       ...        ...        ...       ...       ...        ...         ...       ...        ...       ...       ...       ...\n",
       "zuberjo01  1996.000000  109000.000000  179798.000000   20.000000   543.000000  145.000000   11.0  2.000000  10.000000   30.000000   91.000000   7.000000  23.000000   4.000000  0.000000   1.000000  10.000000  1.000000  0.000000   6.000000   11.000000  1.000000   0.000000  1.000000  1.000000  3.000000\n",
       "zuletju01  2001.000000  200000.000000  292276.000000   23.000000   657.000000  213.000000    7.0  2.000000  11.000000   49.000000  106.000000  11.000000  23.000000   3.000000  0.000000   6.000000  24.000000  0.000000  1.000000   8.000000   32.000000  1.000000   3.000000  0.000000  1.000000  3.000000\n",
       "zuninmi01  2014.500000  513800.000000  561370.500000  113.000000  3061.000000  909.500000   64.0  5.000000   5.500000  121.500000  394.000000  39.500000  74.000000  15.500000  1.000000  16.500000  44.000000  0.000000  2.000000  19.000000  145.000000  0.500000  11.000000  4.000000  3.000000  9.000000\n",
       "zupcibo01  1992.000000  143666.666667  262904.000000   58.666667  1727.000000  144.666667    6.0  4.000000   1.666667   94.333333  234.333333  29.666667  60.333333  14.333333  1.000000   2.000000  24.000000  2.333333  1.333333  17.666667   40.000000  1.000000   2.000000  5.333333  2.333333  4.333333\n",
       "zuvelpa01  1989.000000  145000.000000  302641.000000   10.000000   301.000000   14.000000   24.0  2.000000   1.000000   24.000000   58.000000  10.000000  16.000000   2.000000  0.000000   2.000000   6.000000  0.000000  0.000000   1.000000   11.000000  0.000000   1.000000  0.000000  0.000000  0.000000\n",
       "\n",
       "[2468 rows x 26 columns]"
      ]
     },
     "execution_count": 14,
     "metadata": {},
     "output_type": "execute_result"
    }
   ],
   "source": [
    "df = loaded_df.copy()\n",
    "\n",
    "# totalhits = df[\"H\"]\n",
    "# doubles = df[\"2B\"]\n",
    "# triples = df[\"3B\"]\n",
    "# homeruns = df[\"HR\"]\n",
    "# atbats = df[\"AB\"]\n",
    "# walks = df[\"BB\"]\n",
    "# hit_by_pitch = df[\"HBP\"]\n",
    "# sac_hits = df[\"SH\"]\n",
    "# sac_flies = df[\"SF\"]\n",
    "# singles = (totalhits - homeruns - triples - doubles)\n",
    "\n",
    "# df[\"slug_%\"] = (singles + 2*doubles + 3*triples + 4*homeruns) / atbats\n",
    "# df[\"slug_%\"] = df[\"slug_%\"].fillna(0)\n",
    "# df[\"avg\"] = totalhits / atbats\n",
    "# df[\"avg\"] = df[\"avg\"].fillna(0)\n",
    "# df[\"plate_appearances\"] = atbats + walks + hit_by_pitch + sac_hits + sac_flies\n",
    "# df[\"avg\"] = df[\"avg\"].fillna(0)\n",
    "# df[\"on_base_%\"] = (totalhits + walks + hit_by_pitch) / (atbats + walks + hit_by_pitch + sac_flies)\n",
    "# df[\"on_base_%\"] = df[\"on_base_%\"].fillna(0)\n",
    "# df[\"1B\"] = singles\n",
    "# df[\"1B\"] = df[\"1B\"].fillna(0)\n",
    "\n",
    "df[\"ADJ Salary\"] = df[\"ADJ Salary\"].astype(\"int\").round()\n",
    "\n",
    "# df[\"ADJ Salary\"] = np.log(df[\"ADJ Salary\"])\n",
    "\n",
    "df = df.dropna().reset_index(drop=True)\n",
    "\n",
    "agg_df = df.groupby([\"playerID\"]).mean()\n",
    "\n",
    "agg_df = agg_df.drop(columns=[\"Unnamed: 0\"])\n",
    "\n",
    "agg_df"
   ]
  },
  {
   "cell_type": "code",
   "execution_count": null,
   "metadata": {},
   "outputs": [],
   "source": [
    "loaded_df.info()"
   ]
  },
  {
   "cell_type": "code",
   "execution_count": null,
   "metadata": {},
   "outputs": [],
   "source": [
    "loaded_df.sample(100)"
   ]
  },
  {
   "cell_type": "code",
   "execution_count": null,
   "metadata": {},
   "outputs": [],
   "source": []
  },
  {
   "cell_type": "code",
   "execution_count": 15,
   "metadata": {},
   "outputs": [
    {
     "name": "stdout",
     "output_type": "stream",
     "text": [
      "MSE: 2809806805919.6387\n",
      "R2: 0.5637585808325788\n",
      "Linear Regression Training Data Score: 0.6280317082272014\n",
      "Linear Regression Testing Data Score: 0.5637585808325788\n"
     ]
    },
    {
     "data": {
      "image/png": "[encoded data removed]",
      "text/plain": [
       "<Figure size 640x480 with 1 Axes>"
      ]
     },
     "metadata": {},
     "output_type": "display_data"
    }
   ],
   "source": [
    "run_regression(agg_df, \"ADJ Salary\")"
   ]
  },
  {
   "cell_type": "code",
   "execution_count": null,
   "metadata": {},
   "outputs": [],
   "source": []
  },
  {
   "cell_type": "code",
   "execution_count": null,
   "metadata": {
    "id": "TfKf6O_86B2d"
   },
   "outputs": [],
   "source": [
    "clean_df = clean_dataset(loaded_df)"
   ]
  },
  {
   "cell_type": "code",
   "execution_count": null,
   "metadata": {
    "id": "7RrBoBrk6BzW"
   },
   "outputs": [],
   "source": [
    "clean_df = rename_columns(clean_df)"
   ]
  },
  {
   "cell_type": "code",
   "execution_count": null,
   "metadata": {
    "colab": {
     "base_uri": "https://localhost:8080/",
     "height": 427
    },
    "id": "N8VbFslH6Bvr",
    "outputId": "8cc77bb2-8eff-4af2-8ad0-62a6b8467686"
   },
   "outputs": [],
   "source": [
    "clean_df.head(10)"
   ]
  },
  {
   "cell_type": "code",
   "execution_count": null,
   "metadata": {
    "colab": {
     "base_uri": "https://localhost:8080/",
     "height": 1000
    },
    "id": "8rLHDOvd6BsU",
    "outputId": "cfbbb14e-c71b-4ce8-8ace-3b6701538dd9"
   },
   "outputs": [],
   "source": [
    "examine_dataset(clean_df)"
   ]
  },
  {
   "cell_type": "code",
   "execution_count": null,
   "metadata": {
    "id": "4fXLSDX5MDWy"
   },
   "outputs": [],
   "source": [
    "clean_df = round_salaries(clean_df)"
   ]
  },
  {
   "cell_type": "code",
   "execution_count": null,
   "metadata": {},
   "outputs": [],
   "source": [
    "clean_df[\"log_of_salary\"] = np.log(clean_df[\"ADJ Salary\"])"
   ]
  },
  {
   "cell_type": "code",
   "execution_count": null,
   "metadata": {},
   "outputs": [],
   "source": [
    "clean_df[\"log_of_salary\"].describe()"
   ]
  },
  {
   "cell_type": "code",
   "execution_count": null,
   "metadata": {},
   "outputs": [],
   "source": [
    "clean_df"
   ]
  },
  {
   "cell_type": "code",
   "execution_count": null,
   "metadata": {
    "colab": {
     "base_uri": "https://localhost:8080/"
    },
    "id": "G8rhtula6kQq",
    "outputId": "ddf78d7e-ce60-49b9-fb58-97cc163930d5"
   },
   "outputs": [],
   "source": [
    "run_regression(agg_df, \"ADJ Salary\")"
   ]
  },
  {
   "cell_type": "code",
   "execution_count": null,
   "metadata": {},
   "outputs": [],
   "source": [
    "run_regression(clean_df, \"log_of_salary\")"
   ]
  },
  {
   "cell_type": "code",
   "execution_count": null,
   "metadata": {
    "colab": {
     "base_uri": "https://localhost:8080/",
     "height": 465
    },
    "id": "4orh_pkiT70n",
    "outputId": "b4e1e584-cb65-4e37-bdae-b4b550ab2c98"
   },
   "outputs": [],
   "source": [
    "run_LASSO(clean_df)"
   ]
  },
  {
   "cell_type": "code",
   "execution_count": null,
   "metadata": {
    "colab": {
     "base_uri": "https://localhost:8080/",
     "height": 465
    },
    "id": "GiaGvzJqT7pv",
    "outputId": "914ee43b-b18c-46f9-f479-ccc1bc4371ac"
   },
   "outputs": [],
   "source": [
    "run_Ridge(clean_df)"
   ]
  },
  {
   "cell_type": "code",
   "execution_count": null,
   "metadata": {
    "colab": {
     "base_uri": "https://localhost:8080/",
     "height": 518
    },
    "id": "JykORz4IXXwD",
    "outputId": "56fc8b64-4e88-424e-b7ac-2cb96fc6215a"
   },
   "outputs": [],
   "source": [
    "run_ElasticNet(clean_df)"
   ]
  },
  {
   "cell_type": "markdown",
   "metadata": {},
   "source": [
    "# Results:\n",
    "\n",
    "- Using the logarithm of the ADJ Salary column values improved the regression score\n",
    "    - I had to eliminate any salary values <= 0 to make this work\n",
    "- Ridge regression achieved the best score: 0.7291495360671353"
   ]
  },
  {
   "cell_type": "markdown",
   "metadata": {},
   "source": [
    "# To Do:\n",
    "\n",
    "- Add / remove features from the dataset?\n"
   ]
  },
  {
   "cell_type": "markdown",
   "metadata": {
    "id": "Ce7JyQeICdbH"
   },
   "source": [
    "# **LINEAR REGRESSION BLOCK END**"
   ]
  },
  {
   "cell_type": "markdown",
   "metadata": {
    "id": "u9JUY6qOOjLi"
   },
   "source": [
    "# **PCA START BLOCK**"
   ]
  },
  {
   "cell_type": "code",
   "execution_count": null,
   "metadata": {
    "id": "gAFcwdrgO25v"
   },
   "outputs": [],
   "source": []
  },
  {
   "cell_type": "code",
   "execution_count": null,
   "metadata": {
    "id": "CGmcFEQhO22r"
   },
   "outputs": [],
   "source": []
  },
  {
   "cell_type": "code",
   "execution_count": null,
   "metadata": {
    "id": "9v14TjYmO2zh"
   },
   "outputs": [],
   "source": []
  },
  {
   "cell_type": "code",
   "execution_count": null,
   "metadata": {
    "id": "322m-0F2O2w3"
   },
   "outputs": [],
   "source": []
  },
  {
   "cell_type": "code",
   "execution_count": null,
   "metadata": {
    "id": "RQbjP2STO2uP"
   },
   "outputs": [],
   "source": []
  },
  {
   "cell_type": "code",
   "execution_count": null,
   "metadata": {
    "id": "wMQLM1m2O2rT"
   },
   "outputs": [],
   "source": []
  },
  {
   "cell_type": "code",
   "execution_count": null,
   "metadata": {
    "id": "fJqsCksJO2oY"
   },
   "outputs": [],
   "source": []
  },
  {
   "cell_type": "code",
   "execution_count": null,
   "metadata": {
    "id": "m3jL122GO2kp"
   },
   "outputs": [],
   "source": []
  },
  {
   "cell_type": "code",
   "execution_count": null,
   "metadata": {
    "id": "K6XEp9bsO2g5"
   },
   "outputs": [],
   "source": []
  },
  {
   "cell_type": "markdown",
   "metadata": {
    "id": "zEvpwO7dHppe"
   },
   "source": [
    "# **PCA END BLOCK**\n"
   ]
  }
 ],
 "metadata": {
  "colab": {
   "provenance": []
  },
  "kernelspec": {
   "display_name": "Python 3 (ipykernel)",
   "language": "python",
   "name": "python3"
  },
  "language_info": {
   "codemirror_mode": {
    "name": "ipython",
    "version": 3
   },
   "file_extension": ".py",
   "mimetype": "text/x-python",
   "name": "python",
   "nbconvert_exporter": "python",
   "pygments_lexer": "ipython3",
   "version": "3.8.10"
  }
 },
 "nbformat": 4,
 "nbformat_minor": 1
}
