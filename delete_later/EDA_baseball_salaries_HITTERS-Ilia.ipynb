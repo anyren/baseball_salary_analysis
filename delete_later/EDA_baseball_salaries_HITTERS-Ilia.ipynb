{
 "cells": [
  {
   "cell_type": "markdown",
   "metadata": {
    "id": "5GRNIQY9CF2t"
   },
   "source": [
    "# **LINEAR REGRESSION BLOCK START**"
   ]
  },
  {
   "cell_type": "code",
   "execution_count": null,
   "metadata": {
    "id": "qj4WNzSo5BS-"
   },
   "outputs": [],
   "source": [
    "# Import dependencies\n",
    "\n",
    "import matplotlib.pyplot as plt\n",
    "import pandas as pd\n",
    "import seaborn as sns\n",
    "\n",
    "from sklearn.ensemble import RandomForestClassifier\n",
    "from sklearn.linear_model import LinearRegression\n",
    "from sklearn.metrics import confusion_matrix, classification_report\n",
    "from sklearn.model_selection import train_test_split\n",
    "from sklearn.preprocessing import StandardScaler\n",
    "\n",
    "pd.set_option('display.max_rows', 500)\n",
    "pd.set_option('display.max_columns', 500)\n",
    "pd.set_option('display.width', 1000)"
   ]
  },
  {
   "cell_type": "code",
   "execution_count": null,
   "metadata": {
    "id": "ntbPKBeR62LH"
   },
   "outputs": [],
   "source": [
    "def load_dataset():\n",
    "    \"\"\" Reads dataset csv and returns pandas dataframe \"\"\"\n",
    "    \n",
    "    filepath = \"/content/Hitters_Adjusted_Salary.csv\"\n",
    "\n",
    "    df = pd.read_csv(filepath, encoding=\"utf-8\", low_memory=False)\n",
    "    \n",
    "    return df"
   ]
  },
  {
   "cell_type": "code",
   "execution_count": null,
   "metadata": {
    "id": "Ek0pVe525VXx"
   },
   "outputs": [],
   "source": [
    "def clean_dataset(a_df):\n",
    "    \"\"\" Returns deduped, na-dropped, index-reset dataframe \"\"\"    \n",
    "    \n",
    "    a_df = a_df.drop_duplicates()   \n",
    "        \n",
    "    a_df = a_df.dropna()\n",
    "    \n",
    "    a_df = a_df.drop([\"Unnamed: 0\", \"yearID\", \"playerID\", \"teamID\", \"lgID\", \"salary\", \"PO\", \"A\", \"E\", \"DP\"], axis=1)\n",
    "        \n",
    "    a_df = a_df.reset_index(drop=True)\n",
    "    \n",
    "    return a_df  "
   ]
  },
  {
   "cell_type": "code",
   "execution_count": null,
   "metadata": {
    "id": "8FmJFtEM6CEt"
   },
   "outputs": [],
   "source": [
    "def rename_columns(a_df):\n",
    "    \"\"\" Returns dataframe with meaningful column names \"\"\"    \n",
    "    \n",
    "    abbr_dict = {\"GS\": \"games_started\", \"InnOuts\": \"inning_outs\", \"G\": \"games_played\", \"AB\": \"at_bats\",\\\n",
    "                \"R\": \"runs\", \"H\": \"hits\", \"2B\": \"doubles\", \"3B\": \"triples\", \"HR\": \"home_runs\",\\\n",
    "                \"RBI\": \"runs_batted_in\", \"SB\": \"stolen_bases\", \"CS\": \"caught_stealing\", \"BB\": \"base_on_balls\",\\\n",
    "                \"SO\": \"strike_outs\", \"IBB\": \"intentional_walks\", \"HBP\": \"hit_by_pitch\", \"SH\": \"sacrifice_hits\",\\\n",
    "                \"SF\": \"sacrifice_flies\", \"GIDP\": \"ground_into_double_play\"}\n",
    "    \n",
    "    a_df = a_df.rename(columns=abbr_dict)\n",
    "    \n",
    "    return a_df   "
   ]
  },
  {
   "cell_type": "code",
   "execution_count": null,
   "metadata": {
    "id": "DAVtVH546CA7"
   },
   "outputs": [],
   "source": [
    "def examine_dataset(a_df):\n",
    "    \"\"\" Provides summary info and visualizations of dataset \"\"\"\n",
    "    \n",
    "    print(a_df.info())\n",
    "           \n",
    "    print(f'\\n\\nADJ SALARY VALUE COUNTS: \\n {a_df[\"ADJ Salary\"].value_counts()}\\n\\n')\n",
    "    \n",
    "    a_df.hist(figsize = (15, 15))  \n",
    "    \n",
    "    # sns.PairGrid(a_df[[\"games_started\", \"inning_outs\", \"games_played\", \"at_bats\", \"runs\", \"hits\", \"doubles\", \"triples\", \"home_runs\",\\\n",
    "    #                    \"runs_batted_in\", \"stolen_bases\", \"caught_stealing\", \"base_on_balls\", \"strike_outs\", \"intentional_walks\", \"hit_by_pitch\",\\\n",
    "    #                    \"sacrifice_hits\", \"sacrifice_flies\", \"ground_into_double_play\"]]).map_upper(plt.scatter) "
   ]
  },
  {
   "cell_type": "code",
   "execution_count": null,
   "metadata": {
    "id": "wL4SCAac6B9k"
   },
   "outputs": [],
   "source": [
    "def scale_dataset(a_df):\n",
    "    \"\"\" Returns dataframe with target column removed, data scaled with standard scaler, data normalized, and labels \"\"\"\n",
    "    \n",
    "    salary_labels = a_df[\"ADJ Salary\"]    \n",
    "    no_target_df = a_df.drop(columns=[\"ADJ Salary\"])\n",
    "    \n",
    "    scaler = StandardScaler()\n",
    "    scaled_data = scaler.fit_transform(no_target_df)    \n",
    "    print(f\"SHAPE AFTER SCALING: {scaled_data.shape}\")\n",
    "\n",
    "    return no_target_df, scaled_data, salary_labels"
   ]
  },
  {
   "cell_type": "code",
   "execution_count": null,
   "metadata": {
    "id": "jLvx-UhO6B6B"
   },
   "outputs": [],
   "source": [
    "loaded_df = load_dataset()"
   ]
  },
  {
   "cell_type": "code",
   "execution_count": null,
   "metadata": {
    "id": "TfKf6O_86B2d"
   },
   "outputs": [],
   "source": [
    "clean_df = clean_dataset(loaded_df)"
   ]
  },
  {
   "cell_type": "code",
   "execution_count": null,
   "metadata": {
    "id": "7RrBoBrk6BzW"
   },
   "outputs": [],
   "source": [
    "clean_df = rename_columns(clean_df)"
   ]
  },
  {
   "cell_type": "code",
   "execution_count": null,
   "metadata": {
    "colab": {
     "base_uri": "https://localhost:8080/",
     "height": 363
    },
    "id": "N8VbFslH6Bvr",
    "outputId": "87366551-c872-4819-a71b-c000a44c10cb"
   },
   "outputs": [],
   "source": [
    "clean_df.head(10)"
   ]
  },
  {
   "cell_type": "code",
   "execution_count": null,
   "metadata": {
    "colab": {
     "base_uri": "https://localhost:8080/",
     "height": 1000
    },
    "id": "8rLHDOvd6BsU",
    "outputId": "f5c11064-6869-488b-e2b1-67be190a7aea"
   },
   "outputs": [],
   "source": [
    "examine_dataset(clean_df)"
   ]
  },
  {
   "cell_type": "code",
   "execution_count": null,
   "metadata": {
    "id": "ffE8Tu076Bos"
   },
   "outputs": [],
   "source": [
    "clean_df[\"ADJ Salary\"] = clean_df[\"ADJ Salary\"].astype(\"int\").round()"
   ]
  },
  {
   "cell_type": "code",
   "execution_count": null,
   "metadata": {
    "colab": {
     "base_uri": "https://localhost:8080/"
    },
    "id": "0xlCMneG6BlL",
    "outputId": "f55d1727-7e6b-4bde-d5df-92cd96cec9f8"
   },
   "outputs": [],
   "source": [
    "clean_df[\"ADJ Salary\"]"
   ]
  },
  {
   "cell_type": "code",
   "execution_count": null,
   "metadata": {
    "id": "leSfgbos6Bgt"
   },
   "outputs": [],
   "source": [
    "# Assign X and y\n",
    "\n",
    "X = clean_df.drop([\"ADJ Salary\"], axis=1)\n",
    "y = clean_df[\"ADJ Salary\"]"
   ]
  },
  {
   "cell_type": "code",
   "execution_count": null,
   "metadata": {
    "id": "Z3ZSSN6k6BZe"
   },
   "outputs": [],
   "source": [
    "# Split the data into X_train, X_test, y_train, y_test\n",
    "\n",
    "X_train, X_test, y_train, y_test = train_test_split(X, y, random_state=0)"
   ]
  },
  {
   "cell_type": "code",
   "execution_count": null,
   "metadata": {
    "colab": {
     "base_uri": "https://localhost:8080/"
    },
    "id": "go1Aoi_k6BRz",
    "outputId": "84072b80-a50b-44d2-ac2d-df443a836c7c"
   },
   "outputs": [],
   "source": [
    "# Create a scaler to standardize the data\n",
    "\n",
    "scaler = StandardScaler()\n",
    "\n",
    "# Train the scaler with the X_train data.\n",
    "\n",
    "scaler.fit(X_train)"
   ]
  },
  {
   "cell_type": "code",
   "execution_count": null,
   "metadata": {
    "id": "FFDSjg5r6kUz"
   },
   "outputs": [],
   "source": [
    "# Transform X_train and X_test.\n",
    "\n",
    "X_train_scaled = scaler.transform(X_train)\n",
    "X_test_scaled = scaler.transform(X_test)"
   ]
  },
  {
   "cell_type": "code",
   "execution_count": null,
   "metadata": {
    "id": "G8rhtula6kQq"
   },
   "outputs": [],
   "source": [
    "model = LinearRegression().fit(X_train_scaled, y_train)"
   ]
  },
  {
   "cell_type": "code",
   "execution_count": null,
   "metadata": {
    "colab": {
     "base_uri": "https://localhost:8080/"
    },
    "id": "8se04vcF6kLm",
    "outputId": "2f16da89-e5d0-4c13-d272-9b1c72ddeb91"
   },
   "outputs": [],
   "source": [
    "# Score the model\n",
    "\n",
    "print(f\"Linear Regression Training Data Score: {model.score(X_train_scaled, y_train)}\")\n",
    "print(f\"Linear Regression Testing Data Score: {model.score(X_test_scaled, y_test)}\")"
   ]
  },
  {
   "cell_type": "markdown",
   "metadata": {
    "id": "Ce7JyQeICdbH"
   },
   "source": [
    "# **LINEAR REGRESSION BLOCK END**"
   ]
  },
  {
   "cell_type": "markdown",
   "metadata": {
    "id": "VtPO6HIwMMRj"
   },
   "source": [
    "# **PCA START BLOCK**"
   ]
  },
  {
   "cell_type": "code",
   "execution_count": null,
   "metadata": {
    "colab": {
     "base_uri": "https://localhost:8080/",
     "height": 427
    },
    "id": "sogi5VssMo4s",
    "outputId": "221a985f-3f79-4105-d51a-091b9b4d6154"
   },
   "outputs": [],
   "source": [
    "clean_df.head(10)"
   ]
  },
  {
   "cell_type": "code",
   "execution_count": null,
   "metadata": {
    "colab": {
     "base_uri": "https://localhost:8080/"
    },
    "id": "ccX7FnYRMo8M",
    "outputId": "f09fd348-30fe-45f6-ccff-4589af7800b9"
   },
   "outputs": [],
   "source": [
    "clean_df.columns"
   ]
  },
  {
   "cell_type": "code",
   "execution_count": null,
   "metadata": {
    "id": "T5n96OooMo_n"
   },
   "outputs": [],
   "source": [
    "import matplotlib.pyplot as plt\n",
    "from sklearn.cluster import KMeans\n",
    "from sklearn.preprocessing import StandardScaler\n",
    "from sklearn.decomposition import PCA\n",
    "from sklearn.manifold import TSNE"
   ]
  },
  {
   "cell_type": "code",
   "execution_count": null,
   "metadata": {
    "colab": {
     "base_uri": "https://localhost:8080/",
     "height": 270
    },
    "id": "dmNYbgvrMpCw",
    "outputId": "90cf15e2-3cb9-46da-be1e-157f5f7eb99d"
   },
   "outputs": [],
   "source": [
    "# Drop ADJ Salary column\n",
    "clean_df2= clean_df.drop([\"ADJ Salary\"], axis=1)\n",
    "clean_df2.head()"
   ]
  },
  {
   "cell_type": "code",
   "execution_count": null,
   "metadata": {
    "colab": {
     "base_uri": "https://localhost:8080/"
    },
    "id": "SSHwfbNFYezs",
    "outputId": "9a5b74ff-00b3-42a2-be09-bb1ac6e6469a"
   },
   "outputs": [],
   "source": [
    "clean_df2.shape"
   ]
  },
  {
   "cell_type": "code",
   "execution_count": null,
   "metadata": {
    "colab": {
     "base_uri": "https://localhost:8080/"
    },
    "id": "iaHtv1uJTfub",
    "outputId": "285466c0-a522-4a76-9d2c-65223426cc59"
   },
   "outputs": [],
   "source": [
    "# Standardize the dataset so that columns that contain larger values do not influence the outcome more than columns with smaller values.\n",
    "clean_scaled = StandardScaler().fit_transform(clean_df2)\n",
    "print(clean_scaled)"
   ]
  },
  {
   "cell_type": "code",
   "execution_count": null,
   "metadata": {
    "id": "iMsnvipfTfxg"
   },
   "outputs": [],
   "source": [
    "# Perform dimensionality reduction with PCA preserving 90% of the explained variance ( n_components=0.90)\n",
    "# Initialize PCA model\n",
    "pca = PCA(n_components=0.90)\n",
    "\n",
    "# Get two principal components for the iris data.\n",
    "clean_pca = pca.fit_transform(clean_scaled)"
   ]
  },
  {
   "cell_type": "code",
   "execution_count": null,
   "metadata": {
    "colab": {
     "base_uri": "https://localhost:8080/"
    },
    "id": "f7IKwDbMTf0g",
    "outputId": "37ccdd36-5ba7-4737-b628-6aba1ae779c6"
   },
   "outputs": [],
   "source": [
    "clean_pca.shape"
   ]
  },
  {
   "cell_type": "code",
   "execution_count": null,
   "metadata": {
    "colab": {
     "base_uri": "https://localhost:8080/",
     "height": 424
    },
    "id": "XSzPwbXaa26v",
    "outputId": "e79adba8-cbe5-4b16-b594-b81144084dad"
   },
   "outputs": [],
   "source": [
    "clean_df_pca = pd.DataFrame(data=clean_pca)\n",
    "clean_df_pca"
   ]
  },
  {
   "cell_type": "code",
   "execution_count": null,
   "metadata": {
    "colab": {
     "base_uri": "https://localhost:8080/",
     "height": 268
    },
    "id": "M0Ed_92GTf3h",
    "outputId": "b5a22598-59bb-425e-a7c1-daefba761a32"
   },
   "outputs": [],
   "source": [
    "# Transform PCA data to a DataFrame\n",
    "clean_df_pca = pd.DataFrame(data=clean_pca, columns=[\"principal component 1\", \"principal component 2\",\n",
    "                                                                \"principal component 3\",\"principal component 4\",\n",
    "                                                                 \"principal component 5\",\"principal component 6\",\n",
    "                                                                 \"principal component 7\",\"principal component 8\"])\n",
    "clean_df_pca.head()"
   ]
  },
  {
   "cell_type": "code",
   "execution_count": null,
   "metadata": {
    "colab": {
     "base_uri": "https://localhost:8080/"
    },
    "id": "WkCAJjKbTf6D",
    "outputId": "7162f8da-e6d0-4f38-d604-0594abe7d208"
   },
   "outputs": [],
   "source": [
    "clean_df_pca.columns"
   ]
  },
  {
   "cell_type": "code",
   "execution_count": null,
   "metadata": {
    "colab": {
     "base_uri": "https://localhost:8080/"
    },
    "id": "lWzZkFzpTf83",
    "outputId": "1d92abed-b47a-49f2-84a4-4cede534b851"
   },
   "outputs": [],
   "source": [
    "# Fetch the explained variance\n",
    "pca.explained_variance_ratio_"
   ]
  },
  {
   "cell_type": "code",
   "execution_count": null,
   "metadata": {
    "colab": {
     "base_uri": "https://localhost:8080/"
    },
    "id": "Wac4I_voTf_i",
    "outputId": "b01b1f05-f10a-41dc-a1dd-54e4ddd429da"
   },
   "outputs": [],
   "source": [
    "# Further reduce the dataset dimensions with t-SNE\n",
    "\n",
    "# Initialize t-SNE model\n",
    "tsne = TSNE(learning_rate = 50)\n",
    "\n",
    "# Reduce dimensions\n",
    "tsne_features = tsne.fit_transform(clean_pca)\n",
    "\n",
    "# The dataset has 2 columns\n",
    "tsne_features.shape"
   ]
  },
  {
   "cell_type": "code",
   "execution_count": null,
   "metadata": {
    "colab": {
     "base_uri": "https://localhost:8080/",
     "height": 269
    },
    "id": "g8GcOfTrWiQl",
    "outputId": "00f88c79-88fa-437b-da6a-ffd1f467bc62"
   },
   "outputs": [],
   "source": [
    "# Prepare to plot the dataset\n",
    "\n",
    "# The first column of transformed features\n",
    "clean_df2[\"x\"] = tsne_features[:,0]\n",
    "\n",
    "# The second column of transformed features\n",
    "clean_df2[\"y\"] = tsne_features[:,1]\n",
    "\n",
    "# Visualize the clusters\n",
    "plt.scatter(clean_df2[\"x\"],clean_df2[\"y\"])\n",
    "plt.show()"
   ]
  },
  {
   "cell_type": "code",
   "execution_count": null,
   "metadata": {
    "colab": {
     "base_uri": "https://localhost:8080/"
    },
    "id": "GyhhCq8EWib9",
    "outputId": "29eaea5e-b9fb-482d-b49e-87793980d033"
   },
   "outputs": [],
   "source": [
    "labels = clean_df[\"ADJ Salary\"]\n",
    "labels.value_counts()"
   ]
  },
  {
   "cell_type": "code",
   "execution_count": null,
   "metadata": {
    "colab": {
     "base_uri": "https://localhost:8080/",
     "height": 269
    },
    "id": "SbHujeaaWil9",
    "outputId": "34214e55-d5e4-40aa-a13e-f18658ba7702"
   },
   "outputs": [],
   "source": [
    "# Visualize the clusters with color\n",
    "plt.scatter(clean_df2[\"x\"],clean_df2[\"y\"], c=labels)\n",
    "plt.show()"
   ]
  },
  {
   "cell_type": "code",
   "execution_count": null,
   "metadata": {
    "id": "cxcVqxzCWipT"
   },
   "outputs": [],
   "source": []
  },
  {
   "cell_type": "code",
   "execution_count": null,
   "metadata": {
    "id": "obZaFHKUWisE"
   },
   "outputs": [],
   "source": []
  },
  {
   "cell_type": "markdown",
   "metadata": {
    "id": "ovS8uDvKWLCz"
   },
   "source": [
    "# Perform a Cluster Analysis with K-means"
   ]
  },
  {
   "cell_type": "code",
   "execution_count": null,
   "metadata": {
    "colab": {
     "base_uri": "https://localhost:8080/",
     "height": 300
    },
    "id": "Bzk5tCMfTgCS",
    "outputId": "005a52b9-6dc0-4c4b-84ba-ad73043454df"
   },
   "outputs": [],
   "source": [
    "# Finding the best value for k using the Elbow Curve\n",
    "inertia = []\n",
    "k = list(range(1, 9))\n",
    "\n",
    "# Calculate the inertia for the range of k values\n",
    "for i in k:\n",
    "    km = KMeans(n_clusters=i, random_state=0)\n",
    "    km.fit(clean_df_pca)\n",
    "    inertia.append(km.inertia_)\n",
    "\n",
    "# Create the Elbow Curve using hvPlot\n",
    "elbow_data = {\"k\": k, \"inertia\": inertia}\n",
    "df_elbow = pd.DataFrame(elbow_data)\n",
    "df_elbow"
   ]
  },
  {
   "cell_type": "code",
   "execution_count": null,
   "metadata": {
    "colab": {
     "base_uri": "https://localhost:8080/",
     "height": 295
    },
    "id": "nCCZstSfXs8i",
    "outputId": "7d73fddf-264e-4fb5-99ff-2b84d1dbfaaf"
   },
   "outputs": [],
   "source": [
    "# Plot the elbow curve to find the best candidate(s) for k\n",
    "plt.plot(df_elbow['k'], df_elbow['inertia'])\n",
    "plt.xticks(list(range(11)))\n",
    "plt.title('Elbow Curve')\n",
    "plt.xlabel('Number of clusters')\n",
    "plt.ylabel('Inertia')\n",
    "plt.show()"
   ]
  },
  {
   "cell_type": "code",
   "execution_count": null,
   "metadata": {
    "id": "LEyDHoCgTgEi"
   },
   "outputs": [],
   "source": [
    " # If possible, determine where the elbow of the plot is, and at which value of k it appears.\n",
    "# Create a function called `get_clusters(k, data)` that finds the `k` clusters using K-Means on `data`. The function should return a DataFrame copy of `Data` that should include a new column containing the clusters found.\n",
    "\n",
    "def get_clusters(k, data):\n",
    "    # Initialize the K-Means model\n",
    "    model = KMeans(n_clusters=k, random_state=0)\n",
    "\n",
    "    # Train the model\n",
    "    model.fit(data)\n",
    "\n",
    "    # Predict clusters\n",
    "    predictions = model.predict(data)\n",
    "\n",
    "    # Create return DataFrame with predicted clusters\n",
    "    data[\"class\"] = model.labels_\n",
    "\n",
    "    return data"
   ]
  },
  {
   "cell_type": "code",
   "execution_count": null,
   "metadata": {
    "colab": {
     "base_uri": "https://localhost:8080/",
     "height": 485
    },
    "id": "Gzs6bsgz6s8t",
    "outputId": "1b2bb836-dbdf-4a47-d47e-2a5e8467b30f"
   },
   "outputs": [],
   "source": [
    "clusters = get_clusters(2, clean_df_pca)\n",
    "clusters\n",
    "\n",
    "\n"
   ]
  },
  {
   "cell_type": "code",
   "execution_count": null,
   "metadata": {
    "id": "vNGea4U3Zoi2"
   },
   "outputs": [],
   "source": [
    "def show_clusters(df):\n",
    "    plt.scatter(df['principal component 1'], df['principal component 2'], c=df['class'])\n",
    "    plt.xlabel('principal component 1')\n",
    "    plt.ylabel('principal component 2')\n",
    "    plt.title(\"ADJ Salary clusters\")\n",
    "    plt.show()"
   ]
  },
  {
   "cell_type": "code",
   "execution_count": null,
   "metadata": {
    "colab": {
     "base_uri": "https://localhost:8080/",
     "height": 295
    },
    "id": "-6Bw6B7rZopn",
    "outputId": "ce806567-d3e7-46da-c1d2-8ae19b006f0f"
   },
   "outputs": [],
   "source": [
    "show_clusters(clusters)"
   ]
  },
  {
   "cell_type": "code",
   "execution_count": null,
   "metadata": {
    "id": "gUhtnW3gZosP"
   },
   "outputs": [],
   "source": []
  },
  {
   "cell_type": "code",
   "execution_count": null,
   "metadata": {
    "id": "M0OAn3A5MBVJ"
   },
   "outputs": [],
   "source": [
    "# **PCA END BLOCK**"
   ]
  },
  {
   "cell_type": "markdown",
   "metadata": {
    "id": "z2oKNhQbMkSr"
   },
   "source": [
    "# **PCA END BLOCK**"
   ]
  },
  {
   "cell_type": "code",
   "execution_count": null,
   "metadata": {
    "id": "xeipwr8RLsfO"
   },
   "outputs": [],
   "source": []
  }
 ],
 "metadata": {
  "colab": {
   "provenance": []
  },
  "kernelspec": {
   "display_name": "Python 3 (ipykernel)",
   "language": "python",
   "name": "python3"
  },
  "language_info": {
   "codemirror_mode": {
    "name": "ipython",
    "version": 3
   },
   "file_extension": ".py",
   "mimetype": "text/x-python",
   "name": "python",
   "nbconvert_exporter": "python",
   "pygments_lexer": "ipython3",
   "version": "3.8.13"
  }
 },
 "nbformat": 4,
 "nbformat_minor": 1
}
