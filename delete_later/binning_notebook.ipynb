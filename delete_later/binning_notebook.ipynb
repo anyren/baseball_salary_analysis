{
 "cells": [
  {
   "cell_type": "code",
   "execution_count": null,
   "id": "e95f457f",
   "metadata": {},
   "outputs": [],
   "source": [
    "# Import dependencies\n",
    "\n",
    "import matplotlib.pyplot as plt\n",
    "import numpy as np\n",
    "import pandas as pd\n",
    "import seaborn as sns\n",
    "\n",
    "from sklearn.ensemble import RandomForestClassifier\n",
    "from sklearn.feature_selection import SelectFromModel\n",
    "from sklearn.linear_model import LinearRegression, Ridge, Lasso, ElasticNet\n",
    "from sklearn.metrics import confusion_matrix, classification_report, mean_squared_error, r2_score\n",
    "from sklearn.model_selection import train_test_split\n",
    "from sklearn.preprocessing import StandardScaler\n",
    "\n",
    "pd.set_option('display.max_rows', 500)\n",
    "pd.set_option('display.max_columns', 500)\n",
    "pd.set_option('display.width', 1000)"
   ]
  },
  {
   "cell_type": "code",
   "execution_count": null,
   "id": "d7783568",
   "metadata": {},
   "outputs": [],
   "source": [
    "import warnings\n",
    "warnings.filterwarnings('ignore')"
   ]
  },
  {
   "cell_type": "code",
   "execution_count": null,
   "id": "947638bc",
   "metadata": {},
   "outputs": [],
   "source": [
    "# \"\"\" Reads dataset csv and returns pandas dataframe \"\"\"\n",
    "filepath = \"cleaned_hitter.csv\"\n",
    "\n",
    "df = pd.read_csv(filepath, encoding=\"utf-8\", low_memory=False)\n",
    "    \n",
    "df.head()"
   ]
  },
  {
   "cell_type": "code",
   "execution_count": null,
   "id": "4b89f246",
   "metadata": {},
   "outputs": [],
   "source": [
    "# \"\"\" Returns deduped, na-dropped, index-reset dataframe \"\"\"    \n",
    "    \n",
    "df =df.drop_duplicates()   \n",
    "        \n",
    "df = df.dropna()\n",
    "\n",
    "df.head()"
   ]
  },
  {
   "cell_type": "code",
   "execution_count": null,
   "id": "b554c85f",
   "metadata": {},
   "outputs": [],
   "source": [
    "#  \"\"\" Returns dataframe with meaningful column names \"\"\"    \n",
    "    \n",
    "abbr_dict = {\"G\": \"games_played\", \"AB\": \"at_bats\", \"R\": \"runs\", \"H\": \"hits\", \"RBI\": \"runs_batted_in\",\\\n",
    "            \"yearID\": \"year\", \"teamID\": \"team\", \"playerID\": \"player_id\"}\n",
    "    \n",
    "df = df.rename(columns=abbr_dict)\n",
    "\n",
    "df.head()"
   ]
  },
  {
   "cell_type": "code",
   "execution_count": null,
   "id": "ea1b73dd",
   "metadata": {},
   "outputs": [],
   "source": [
    "# \"\"\" Returns dataframe with salary column made into int and rounded \"\"\"\n",
    "\n",
    "df[\"ADJ Salary\"] = df[\"ADJ Salary\"].astype(\"int\").round()\n",
    "\n",
    "df.head()"
   ]
  },
  {
   "cell_type": "code",
   "execution_count": null,
   "id": "95a14671",
   "metadata": {},
   "outputs": [],
   "source": [
    "df.describe().astype(\"int\").round()"
   ]
  },
  {
   "cell_type": "code",
   "execution_count": null,
   "id": "c8282c60",
   "metadata": {},
   "outputs": [],
   "source": [
    "zero = df.loc[(df[\"ADJ Salary\"]==0)]\n",
    "zero"
   ]
  },
  {
   "cell_type": "code",
   "execution_count": null,
   "id": "688eb75e",
   "metadata": {},
   "outputs": [],
   "source": [
    "df.drop(df.loc[df['ADJ Salary']==0].index, inplace=True)"
   ]
  },
  {
   "cell_type": "code",
   "execution_count": null,
   "id": "29185736",
   "metadata": {},
   "outputs": [],
   "source": [
    "df.head(3395)"
   ]
  },
  {
   "cell_type": "code",
   "execution_count": null,
   "id": "286daa9a",
   "metadata": {},
   "outputs": [],
   "source": [
    "df.describe().astype(\"int\").round()"
   ]
  },
  {
   "cell_type": "code",
   "execution_count": null,
   "id": "ad801277",
   "metadata": {},
   "outputs": [],
   "source": [
    "bin_one = df.loc[(df[\"ADJ Salary\"]<1000000)]\n",
    "\n",
    "bin_one.count()"
   ]
  },
  {
   "cell_type": "code",
   "execution_count": null,
   "id": "7e6a65fe",
   "metadata": {},
   "outputs": [],
   "source": [
    "# Create bins in which to place values based upon ADJ Salary\n",
    "bins = [0, 999999, 5999999, 10000000, 40000000]\n",
    "\n",
    "# Create labels for these bins\n",
    "group_labels = [\"< 1 mill\", \"1 mill to 5 mill\", \"6 mill to 10 mill\", \"> 10 mill\"]"
   ]
  },
  {
   "cell_type": "code",
   "execution_count": null,
   "id": "c8b72e61",
   "metadata": {},
   "outputs": [],
   "source": [
    "# Slice the data and place it into bins\n",
    "pd.cut(df[\"ADJ Salary\"], bins, labels=group_labels).head()"
   ]
  },
  {
   "cell_type": "code",
   "execution_count": null,
   "id": "c35b7f3e",
   "metadata": {},
   "outputs": [],
   "source": [
    "df[\"ADJ Salary Group\"] = pd.cut(df[\"ADJ Salary\"], bins, labels=group_labels)\n",
    "df.head()"
   ]
  },
  {
   "cell_type": "code",
   "execution_count": null,
   "id": "84b3f748",
   "metadata": {},
   "outputs": [],
   "source": [
    "#Create a GroupBy object based upon ADJ Salary Group\n",
    "salary_group = df.groupby(\"ADJ Salary Group\")\n",
    "\n",
    "# Find how many rows fall into each bin\n",
    "print(salary_group[\"player_id\"].count())\n",
    "\n"
   ]
  },
  {
   "cell_type": "code",
   "execution_count": null,
   "id": "d999b66c",
   "metadata": {},
   "outputs": [],
   "source": []
  },
  {
   "cell_type": "code",
   "execution_count": null,
   "id": "f332bffa",
   "metadata": {},
   "outputs": [],
   "source": []
  }
 ],
 "metadata": {
  "kernelspec": {
   "display_name": "Python 3 (ipykernel)",
   "language": "python",
   "name": "python3"
  },
  "language_info": {
   "codemirror_mode": {
    "name": "ipython",
    "version": 3
   },
   "file_extension": ".py",
   "mimetype": "text/x-python",
   "name": "python",
   "nbconvert_exporter": "python",
   "pygments_lexer": "ipython3",
   "version": "3.8.13"
  }
 },
 "nbformat": 4,
 "nbformat_minor": 5
}
